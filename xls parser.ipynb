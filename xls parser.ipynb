{
 "cells": [
  {
   "cell_type": "code",
   "execution_count": 1,
   "metadata": {},
   "outputs": [],
   "source": [
    "import pandas as pd\n",
    "import numpy as np\n",
    "import os\n",
    "from glob import glob, iglob\n",
    "import re\n",
    "import time\n",
    "import psutil\n",
    "import ipyparallel as ipp"
   ]
  },
  {
   "cell_type": "code",
   "execution_count": 130,
   "metadata": {},
   "outputs": [
    {
     "name": "stdout",
     "output_type": "stream",
     "text": [
      "completed in 5.913736855983734 m\n",
      "number of files: 8684\n"
     ]
    }
   ],
   "source": [
    "paths = [r\"Q:\\=Аquarelle\\!!!Проекты\", r\"T:\\=Tiburon_NEW\\!!!Проекты\"]\n",
    "\n",
    "t0 = time.time()\n",
    "count = 0\n",
    "f = open(r\"T:\\Разное\\Папка Тимика\\Codifs\\xls_list_temp.txt\", encoding=\"utf8\", mode=\"a\")\n",
    "for path in paths:\n",
    "    os.chdir(path)\n",
    "    for filename in iglob('**\\opens\\**\\*.xls*', recursive=True):\n",
    "        f.write(os.path.join(path, filename) + '\\n')\n",
    "        count += 1\n",
    "\n",
    "t1 = time.time() - t0\n",
    "print(f\"completed in {t1/60} m\")\n",
    "print(f\"number of files: {count}\")\n",
    "f.close()"
   ]
  },
  {
   "cell_type": "code",
   "execution_count": 145,
   "metadata": {},
   "outputs": [],
   "source": [
    "file_list = open(r\"T:\\Разное\\Папка Тимика\\Codifs\\xls_list_temp.txt\", \"r\", encoding=\"utf-8\").readlines()\n",
    "file_list = [f.strip() for f in file_list]"
   ]
  },
  {
   "cell_type": "code",
   "execution_count": 151,
   "metadata": {},
   "outputs": [],
   "source": [
    "import xlrd\n",
    "def get_type(file):\n",
    "    try:\n",
    "        xls = xlrd.open_workbook(file, on_demand=True)\n",
    "        sheets = xls.sheet_names()\n",
    "    except Exception as e:\n",
    "        #print(f\"{file}\\n{e}\")\n",
    "        return \"unk\"\n",
    "    if \"for_coding\" in sheets and \"Кодификатор\" in sheets:\n",
    "        return \"open\"\n",
    "    elif \"Data\" in sheets and \"Лейбовка\" in sheets:\n",
    "        return \"auto\"\n",
    "    else:\n",
    "        return \"unk\""
   ]
  },
  {
   "cell_type": "code",
   "execution_count": 139,
   "metadata": {},
   "outputs": [
    {
     "data": {
      "text/plain": [
       "'auto'"
      ]
     },
     "execution_count": 139,
     "metadata": {},
     "output_type": "execute_result"
    }
   ],
   "source": [
    "get_type(\"T:\\=Tiburon_NEW\\!!!Проекты\\BBDO\\#Трекинг Google BHT\\DP\\Opens\\week1901\\A0_upd_1901.xlsm\")"
   ]
  },
  {
   "cell_type": "code",
   "execution_count": null,
   "metadata": {},
   "outputs": [],
   "source": [
    "types = open(r\"T:\\Разное\\Папка Тимика\\Codifs\\codifs_types.txt\", encoding=\"utf8\", mode=\"a\")\n",
    "\n",
    "auto_list = []\n",
    "t0 = time.time()\n",
    "auto_count = 0\n",
    "for x in file_list:\n",
    "    x_type = get_type(x)\n",
    "    types.write(f\"{x},{x_type}\\n\")\n",
    "    if x_type == \"auto\":\n",
    "        auto_count += 1\n",
    "        auto_list.append(x)\n",
    "    \n",
    "types.close()\n",
    "print(f\"completed in {(time.time() - t0)/60} m\")\n",
    "print(f\"number of autos: {auto_count}\")"
   ]
  },
  {
   "cell_type": "code",
   "execution_count": 152,
   "metadata": {},
   "outputs": [
    {
     "data": {
      "text/plain": [
       "3659"
      ]
     },
     "execution_count": 152,
     "metadata": {},
     "output_type": "execute_result"
    }
   ],
   "source": [
    "len(auto_list)"
   ]
  },
  {
   "cell_type": "code",
   "execution_count": 153,
   "metadata": {},
   "outputs": [],
   "source": [
    "f = open(r\"T:\\Разное\\Папка Тимика\\Codifs\\codifs_autos.txt\", encoding=\"utf8\", mode=\"w\")\n",
    "f.write(\"\\n\".join(auto_list))\n",
    "f.close()"
   ]
  },
  {
   "cell_type": "code",
   "execution_count": 192,
   "metadata": {},
   "outputs": [],
   "source": [
    "def get_autocodif_texts(file, pattern=r\"(\\bзатрудняюсь|\\bз.?о|^нет ответа$)\"):\n",
    "    sheet_names = [\"Лейбовка\", \"Codif\"]\n",
    "    try:\n",
    "        labels = pd.read_excel(file, sheetname=\"Лейбовка\", encoding='utf-8')\n",
    "        \n",
    "        if \"Правильный код\" in labels.columns and \"Лейбл\" in labels.columns:\n",
    "            \n",
    "            labels[\"Лейбл\"] = labels[\"Лейбл\"].astype(str)\n",
    "            labels[\"Лейбл\"] = labels[\"Лейбл\"].str.lower()\n",
    "            \n",
    "            try:\n",
    "                code = int(labels.loc[labels[\"Лейбл\"].str.contains(pattern, flags=re.IGNORECASE), \"Правильный код\"])\n",
    "            except:\n",
    "                return (pd.DataFrame(columns = ['id', 'Question', 'Text', 'Code', 'File']), \n",
    "                        pd.DataFrame(columns = ['id', 'Question', 'Text', 'Code', 'File']))\n",
    "                \n",
    "            data = pd.read_excel(file, sheetname=\"Data\", encoding='utf-8', header=None)\n",
    "            data.iloc[:, 2] = data.iloc[:, 2].astype(str).str.lower()\n",
    "            mask = (data[data.iloc[:, 3:] == code].sum(axis=1) > 0)\n",
    "            \n",
    "            zos = data[mask].iloc[:, :3].drop_duplicates(2)\n",
    "            not_zos = data[~mask].iloc[:, :3].drop_duplicates(2)\n",
    "            not_zos = not_zos.sample(n=zos.shape[0])\n",
    "            \n",
    "            zos.columns = ['id', 'Question', 'Text']\n",
    "            not_zos.columns = ['id', 'Question', 'Text']\n",
    "            zos['Code'] = 1\n",
    "            not_zos['Code'] = 0\n",
    "            zos['File'] = file\n",
    "            not_zos['File'] = file\n",
    "            \n",
    "            return zos, not_zos\n",
    "        \n",
    "    except Exception as e:\n",
    "        print(file)\n",
    "        print(e)\n",
    "        \n",
    "    return (pd.DataFrame(columns = ['id', 'Question', 'Text', 'Code', 'File']), \n",
    "               pd.DataFrame(columns = ['id', 'Question', 'Text', 'Code', 'File']))"
   ]
  },
  {
   "cell_type": "code",
   "execution_count": 239,
   "metadata": {},
   "outputs": [
    {
     "name": "stdout",
     "output_type": "stream",
     "text": [
      "<class 'pandas.core.frame.DataFrame'>\n",
      "Int64Index: 38375 entries, 0 to 34337\n",
      "Data columns (total 5 columns):\n",
      "id          38375 non-null object\n",
      "Question    38345 non-null object\n",
      "Text        38374 non-null object\n",
      "Code        38375 non-null int64\n",
      "File        38375 non-null object\n",
      "dtypes: int64(1), object(4)\n",
      "memory usage: 1.8+ MB\n"
     ]
    }
   ],
   "source": [
    "zos_df = pd.read_csv(r\"T:\\Разное\\Папка Тимика\\Codifs\\zos.csv\"\n",
    "                     , header=None\n",
    "                     , engine='python'\n",
    "                     , encoding='utf-8'\n",
    "                     , names=['id', 'Question', 'Text', 'Code', 'File'])\n",
    "not_zos_df = pd.read_csv(r\"T:\\Разное\\Папка Тимика\\Codifs\\not_zos.csv\"\n",
    "                     , header=None\n",
    "                     , engine='python'\n",
    "                     , encoding='utf-8'\n",
    "                     , names=['id', 'Question', 'Text', 'Code', 'File'])\n",
    "zos_df = zos_df.append(not_zos_df)\n",
    "zos_df = zos_df.drop_duplicates('Text')\n",
    "zos_df.info()"
   ]
  },
  {
   "cell_type": "code",
   "execution_count": 240,
   "metadata": {},
   "outputs": [
    {
     "name": "stdout",
     "output_type": "stream",
     "text": [
      "<class 'pandas.core.frame.DataFrame'>\n",
      "Int64Index: 48685 entries, 0 to 50102\n",
      "Data columns (total 2 columns):\n",
      "Text    48684 non-null object\n",
      "Code    48685 non-null int64\n",
      "dtypes: int64(1), object(1)\n",
      "memory usage: 1.1+ MB\n"
     ]
    }
   ],
   "source": [
    "zos_old = pd.read_csv(r\"T:\\Разное\\Папка Тимика\\Codifs\\zo.csv\"\n",
    "                     , engine='python'\n",
    "                     , encoding='utf-8')\n",
    "zos_old.columns=['Text', 'Code']\n",
    "zos_old = zos_old.drop_duplicates(\"Text\")\n",
    "zos_old.info()"
   ]
  },
  {
   "cell_type": "code",
   "execution_count": 241,
   "metadata": {},
   "outputs": [
    {
     "name": "stdout",
     "output_type": "stream",
     "text": [
      "<class 'pandas.core.frame.DataFrame'>\n",
      "Int64Index: 80001 entries, 30324 to 24194\n",
      "Data columns (total 2 columns):\n",
      "Text    80000 non-null object\n",
      "Code    80001 non-null int64\n",
      "dtypes: int64(1), object(1)\n",
      "memory usage: 1.8+ MB\n"
     ]
    }
   ],
   "source": [
    "texts = zos_df.loc[:, ['Text', 'Code']].append(zos_old)\n",
    "texts = texts.drop_duplicates(\"Text\").sample(frac=1)\n",
    "texts.info()"
   ]
  },
  {
   "cell_type": "code",
   "execution_count": 244,
   "metadata": {},
   "outputs": [
    {
     "data": {
      "text/plain": [
       "0    44942\n",
       "1    35059\n",
       "Name: Code, dtype: int64"
      ]
     },
     "execution_count": 244,
     "metadata": {},
     "output_type": "execute_result"
    }
   ],
   "source": [
    "texts.Code.value_counts()"
   ]
  },
  {
   "cell_type": "code",
   "execution_count": 245,
   "metadata": {},
   "outputs": [],
   "source": [
    "texts.to_csv(r\"T:\\Разное\\Папка Тимика\\Codifs\\texts.csv\", index=False)"
   ]
  }
 ],
 "metadata": {
  "kernelspec": {
   "display_name": "Python 3",
   "language": "python",
   "name": "python3"
  },
  "language_info": {
   "codemirror_mode": {
    "name": "ipython",
    "version": 3
   },
   "file_extension": ".py",
   "mimetype": "text/x-python",
   "name": "python",
   "nbconvert_exporter": "python",
   "pygments_lexer": "ipython3",
   "version": "3.6.2"
  }
 },
 "nbformat": 4,
 "nbformat_minor": 2
}
