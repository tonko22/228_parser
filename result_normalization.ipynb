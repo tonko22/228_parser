{
 "cells": [
  {
   "cell_type": "code",
   "execution_count": 19,
   "metadata": {},
   "outputs": [],
   "source": [
    "import pandas as pd\n",
    "import numpy as np\n",
    "\n",
    "filename = \"result.csv\""
   ]
  },
  {
   "cell_type": "code",
   "execution_count": 20,
   "metadata": {},
   "outputs": [
    {
     "data": {
      "text/html": [
       "<div>\n",
       "<style scoped>\n",
       "    .dataframe tbody tr th:only-of-type {\n",
       "        vertical-align: middle;\n",
       "    }\n",
       "\n",
       "    .dataframe tbody tr th {\n",
       "        vertical-align: top;\n",
       "    }\n",
       "\n",
       "    .dataframe thead th {\n",
       "        text-align: right;\n",
       "    }\n",
       "</style>\n",
       "<table border=\"1\" class=\"dataframe\">\n",
       "  <thead>\n",
       "    <tr style=\"text-align: right;\">\n",
       "      <th></th>\n",
       "      <th>Ссылка</th>\n",
       "      <th>Файл</th>\n",
       "      <th>Суд</th>\n",
       "      <th>Дата приговора</th>\n",
       "      <th>ФИО</th>\n",
       "      <th>Смягчающие обстоятельства</th>\n",
       "      <th>Вид наказания</th>\n",
       "      <th>Особый порядок</th>\n",
       "      <th>Отбывал ли ранее лишение свободы</th>\n",
       "      <th>Судимость</th>\n",
       "      <th>Наркотики</th>\n",
       "      <th>Главный наркотик</th>\n",
       "      <th>Размер</th>\n",
       "      <th>Срок наказания в месяцах</th>\n",
       "      <th>Отягчающие обстоятельства</th>\n",
       "    </tr>\n",
       "  </thead>\n",
       "  <tbody>\n",
       "    <tr>\n",
       "      <th>0</th>\n",
       "      <td>https://morozovsky.ros.sudrf.ru/modules.php?na...</td>\n",
       "      <td>morozovsky.ros.sudrf.ru_0027-517468893.txt</td>\n",
       "      <td>морозовский районный суд ростовской области</td>\n",
       "      <td>2017/2/13</td>\n",
       "      <td>милькиной о.ю., с участием защитника адвоката ...</td>\n",
       "      <td>наличие несовершеннолетней дочери на дату сове...</td>\n",
       "      <td>Лишение свободы</td>\n",
       "      <td>нет</td>\n",
       "      <td>нет данных</td>\n",
       "      <td>да</td>\n",
       "      <td>героин.?.?: 0,368 грамма</td>\n",
       "      <td>героин.?.?</td>\n",
       "      <td>Крупный</td>\n",
       "      <td>нет</td>\n",
       "      <td>рецидив преступлений,совершение преступления с...</td>\n",
       "    </tr>\n",
       "    <tr>\n",
       "      <th>1</th>\n",
       "      <td>https://syzransky.sam.sudrf.ru/modules.php?nam...</td>\n",
       "      <td>syzransky.sam.sudrf.ru_0010-131059839.txt</td>\n",
       "      <td>ОШИБКА: Запрошенный URL не может быть получен</td>\n",
       "      <td>2018/5/31</td>\n",
       "      <td>варельджана а.ф. правильно квалифицированы по ...</td>\n",
       "      <td>нет данных</td>\n",
       "      <td>Лишение свободы</td>\n",
       "      <td>да</td>\n",
       "      <td>нет данных</td>\n",
       "      <td>да</td>\n",
       "      <td>героин.?.?: 42,220 грамма</td>\n",
       "      <td>героин.?.?</td>\n",
       "      <td>Крупный</td>\n",
       "      <td>нет</td>\n",
       "      <td>рецидив преступлений</td>\n",
       "    </tr>\n",
       "    <tr>\n",
       "      <th>2</th>\n",
       "      <td>https://leninsky.ros.sudrf.ru/modules.php?name...</td>\n",
       "      <td>leninsky.ros.sudrf.ru_0108-457978243.txt</td>\n",
       "      <td>ленинский районный суд г. ростова-на-дону</td>\n",
       "      <td>2017/4/24</td>\n",
       "      <td>сердюкова с.п.</td>\n",
       "      <td>нет данных</td>\n",
       "      <td>Лишение свободы</td>\n",
       "      <td>да</td>\n",
       "      <td>да</td>\n",
       "      <td>да</td>\n",
       "      <td>являющееся производным: 0,1 грамм</td>\n",
       "      <td>являющееся производным</td>\n",
       "      <td>Крупный</td>\n",
       "      <td>нет</td>\n",
       "      <td>рецидив преступлений</td>\n",
       "    </tr>\n",
       "    <tr>\n",
       "      <th>3</th>\n",
       "      <td>https://krutinkacourt.oms.sudrf.ru/modules.php...</td>\n",
       "      <td>krutinkacourt.oms.sudrf.ru_0003-76090986.txt</td>\n",
       "      <td>крутинский районный суд омской области</td>\n",
       "      <td>2018/6/14</td>\n",
       "      <td>сиббула валерия николаевича</td>\n",
       "      <td>нет данных</td>\n",
       "      <td>Лишение свободы</td>\n",
       "      <td>да</td>\n",
       "      <td>нет данных</td>\n",
       "      <td>нет данных</td>\n",
       "      <td>конопл..?: 124,8 грамма</td>\n",
       "      <td>конопл..?</td>\n",
       "      <td>Крупный</td>\n",
       "      <td>36</td>\n",
       "      <td>нет данных</td>\n",
       "    </tr>\n",
       "    <tr>\n",
       "      <th>4</th>\n",
       "      <td>https://taldom.mo.sudrf.ru/modules.php?name=su...</td>\n",
       "      <td>taldom.mo.sudrf.ru_0015-244080909.txt</td>\n",
       "      <td>талдомский районный суд московской области</td>\n",
       "      <td>2017/7/21</td>\n",
       "      <td>кацана в.д., его защитника – адвоката сырчина ...</td>\n",
       "      <td>нет данных</td>\n",
       "      <td>Условное лишение свободы</td>\n",
       "      <td>нет</td>\n",
       "      <td>нет</td>\n",
       "      <td>нет</td>\n",
       "      <td>амфетамин.?.?: 1,88 грамма</td>\n",
       "      <td>амфетамин.?.?</td>\n",
       "      <td>Крупный</td>\n",
       "      <td>48</td>\n",
       "      <td>нет данных</td>\n",
       "    </tr>\n",
       "  </tbody>\n",
       "</table>\n",
       "</div>"
      ],
      "text/plain": [
       "                                              Ссылка  \\\n",
       "0  https://morozovsky.ros.sudrf.ru/modules.php?na...   \n",
       "1  https://syzransky.sam.sudrf.ru/modules.php?nam...   \n",
       "2  https://leninsky.ros.sudrf.ru/modules.php?name...   \n",
       "3  https://krutinkacourt.oms.sudrf.ru/modules.php...   \n",
       "4  https://taldom.mo.sudrf.ru/modules.php?name=su...   \n",
       "\n",
       "                                           Файл  \\\n",
       "0    morozovsky.ros.sudrf.ru_0027-517468893.txt   \n",
       "1     syzransky.sam.sudrf.ru_0010-131059839.txt   \n",
       "2      leninsky.ros.sudrf.ru_0108-457978243.txt   \n",
       "3  krutinkacourt.oms.sudrf.ru_0003-76090986.txt   \n",
       "4         taldom.mo.sudrf.ru_0015-244080909.txt   \n",
       "\n",
       "                                             Суд Дата приговора  \\\n",
       "0    морозовский районный суд ростовской области      2017/2/13   \n",
       "1  ОШИБКА: Запрошенный URL не может быть получен      2018/5/31   \n",
       "2      ленинский районный суд г. ростова-на-дону      2017/4/24   \n",
       "3         крутинский районный суд омской области      2018/6/14   \n",
       "4     талдомский районный суд московской области      2017/7/21   \n",
       "\n",
       "                                                 ФИО  \\\n",
       "0  милькиной о.ю., с участием защитника адвоката ...   \n",
       "1  варельджана а.ф. правильно квалифицированы по ...   \n",
       "2                                     сердюкова с.п.   \n",
       "3                        сиббула валерия николаевича   \n",
       "4  кацана в.д., его защитника – адвоката сырчина ...   \n",
       "\n",
       "                           Смягчающие обстоятельства  \\\n",
       "0  наличие несовершеннолетней дочери на дату сове...   \n",
       "1                                         нет данных   \n",
       "2                                         нет данных   \n",
       "3                                         нет данных   \n",
       "4                                         нет данных   \n",
       "\n",
       "              Вид наказания Особый порядок Отбывал ли ранее лишение свободы  \\\n",
       "0           Лишение свободы            нет                       нет данных   \n",
       "1           Лишение свободы             да                       нет данных   \n",
       "2           Лишение свободы             да                               да   \n",
       "3           Лишение свободы             да                       нет данных   \n",
       "4  Условное лишение свободы            нет                              нет   \n",
       "\n",
       "    Судимость                          Наркотики        Главный наркотик  \\\n",
       "0          да           героин.?.?: 0,368 грамма              героин.?.?   \n",
       "1          да          героин.?.?: 42,220 грамма              героин.?.?   \n",
       "2          да  являющееся производным: 0,1 грамм  являющееся производным   \n",
       "3  нет данных            конопл..?: 124,8 грамма               конопл..?   \n",
       "4         нет         амфетамин.?.?: 1,88 грамма           амфетамин.?.?   \n",
       "\n",
       "    Размер Срок наказания в месяцах  \\\n",
       "0  Крупный                      нет   \n",
       "1  Крупный                      нет   \n",
       "2  Крупный                      нет   \n",
       "3  Крупный                       36   \n",
       "4  Крупный                       48   \n",
       "\n",
       "                           Отягчающие обстоятельства  \n",
       "0  рецидив преступлений,совершение преступления с...  \n",
       "1                               рецидив преступлений  \n",
       "2                               рецидив преступлений  \n",
       "3                                         нет данных  \n",
       "4                                         нет данных  "
      ]
     },
     "execution_count": 20,
     "metadata": {},
     "output_type": "execute_result"
    }
   ],
   "source": [
    "df = pd.read_csv(filename)\n",
    "df.head()"
   ]
  },
  {
   "cell_type": "code",
   "execution_count": 21,
   "metadata": {},
   "outputs": [
    {
     "name": "stdout",
     "output_type": "stream",
     "text": [
      "<class 'pandas.core.frame.DataFrame'>\n",
      "RangeIndex: 35810 entries, 0 to 35809\n",
      "Data columns (total 15 columns):\n",
      "Ссылка                              35810 non-null object\n",
      "Файл                                35810 non-null object\n",
      "Суд                                 35775 non-null object\n",
      "Дата приговора                      35810 non-null object\n",
      "ФИО                                 35363 non-null object\n",
      "Смягчающие обстоятельства           35765 non-null object\n",
      "Вид наказания                       35810 non-null object\n",
      "Особый порядок                      35810 non-null object\n",
      "Отбывал ли ранее лишение свободы    35810 non-null object\n",
      "Судимость                           35810 non-null object\n",
      "Наркотики                           29941 non-null object\n",
      "Главный наркотик                    29941 non-null object\n",
      "Размер                              35709 non-null object\n",
      "Срок наказания в месяцах            35810 non-null object\n",
      "Отягчающие обстоятельства           35810 non-null object\n",
      "dtypes: object(15)\n",
      "memory usage: 4.1+ MB\n"
     ]
    }
   ],
   "source": [
    "df.info()"
   ]
  },
  {
   "cell_type": "code",
   "execution_count": 4,
   "metadata": {},
   "outputs": [
    {
     "name": "stdout",
     "output_type": "stream",
     "text": [
      "<class 'pandas.core.frame.DataFrame'>\n",
      "Int64Index: 29458 entries, 0 to 35809\n",
      "Data columns (total 15 columns):\n",
      "Ссылка                              29458 non-null object\n",
      "Файл                                29458 non-null object\n",
      "Суд                                 29458 non-null object\n",
      "Дата приговора                      29458 non-null object\n",
      "ФИО                                 29458 non-null object\n",
      "Смягчающие обстоятельства           29458 non-null object\n",
      "Вид наказания                       29458 non-null object\n",
      "Особый порядок                      29458 non-null object\n",
      "Отбывал ли ранее лишение свободы    29458 non-null object\n",
      "Судимость                           29458 non-null object\n",
      "Наркотики                           29458 non-null object\n",
      "Главный наркотик                    29458 non-null object\n",
      "Размер                              29458 non-null object\n",
      "Срок наказания в месяцах            29458 non-null object\n",
      "Отягчающие обстоятельства           29458 non-null object\n",
      "dtypes: object(15)\n",
      "memory usage: 3.6+ MB\n"
     ]
    }
   ],
   "source": [
    "df.dropna().info()"
   ]
  },
  {
   "cell_type": "code",
   "execution_count": 22,
   "metadata": {},
   "outputs": [],
   "source": [
    "df = df.dropna()\n",
    "\n",
    "for col in df.columns:\n",
    "    df[col] = df[col].str.strip()"
   ]
  },
  {
   "cell_type": "code",
   "execution_count": 8,
   "metadata": {},
   "outputs": [],
   "source": [
    "#df = df[df['Суд'].str.len() < 100]\n",
    "#df = df[~df['Суд'].str.contains(\"ОШИБКА\")]\n",
    "#df.info()"
   ]
  },
  {
   "cell_type": "code",
   "execution_count": 23,
   "metadata": {},
   "outputs": [
    {
     "data": {
      "text/plain": [
       "ОШИБКА: Запрошенный URL не может быть получен    4353\n",
       "пушкинский городской суд московской области       209\n",
       "железнодорожный районный суд г.пензы              174\n",
       "одинцовский городской суд московской области      173\n",
       "советский районный суд г. омска                   156\n",
       "Name: Суд, dtype: int64"
      ]
     },
     "execution_count": 23,
     "metadata": {},
     "output_type": "execute_result"
    }
   ],
   "source": [
    "df['Суд'].value_counts().head()"
   ]
  },
  {
   "cell_type": "code",
   "execution_count": 24,
   "metadata": {},
   "outputs": [
    {
     "data": {
      "text/plain": [
       "420.0"
      ]
     },
     "execution_count": 24,
     "metadata": {},
     "output_type": "execute_result"
    }
   ],
   "source": [
    "import re\n",
    "\n",
    "val = \"420,69\"\n",
    "val = val.replace(\",\", \".\")\n",
    "\n",
    "float(re.search(r\"(\\d)*\\.?(\\d*)?\", \"420,69\").group(0))"
   ]
  },
  {
   "cell_type": "code",
   "execution_count": 25,
   "metadata": {},
   "outputs": [
    {
     "data": {
      "text/html": [
       "<div>\n",
       "<style scoped>\n",
       "    .dataframe tbody tr th:only-of-type {\n",
       "        vertical-align: middle;\n",
       "    }\n",
       "\n",
       "    .dataframe tbody tr th {\n",
       "        vertical-align: top;\n",
       "    }\n",
       "\n",
       "    .dataframe thead th {\n",
       "        text-align: right;\n",
       "    }\n",
       "</style>\n",
       "<table border=\"1\" class=\"dataframe\">\n",
       "  <thead>\n",
       "    <tr style=\"text-align: right;\">\n",
       "      <th></th>\n",
       "      <th>Ссылка</th>\n",
       "      <th>Файл</th>\n",
       "      <th>Суд</th>\n",
       "      <th>Дата приговора</th>\n",
       "      <th>ФИО</th>\n",
       "      <th>Смягчающие обстоятельства</th>\n",
       "      <th>Вид наказания</th>\n",
       "      <th>Особый порядок</th>\n",
       "      <th>Отбывал ли ранее лишение свободы</th>\n",
       "      <th>Судимость</th>\n",
       "      <th>Наркотики</th>\n",
       "      <th>Главный наркотик</th>\n",
       "      <th>Размер</th>\n",
       "      <th>Срок наказания в месяцах</th>\n",
       "      <th>Отягчающие обстоятельства</th>\n",
       "      <th>Категория наркотика</th>\n",
       "      <th>Количество</th>\n",
       "    </tr>\n",
       "  </thead>\n",
       "  <tbody>\n",
       "    <tr>\n",
       "      <th>0</th>\n",
       "      <td>https://morozovsky.ros.sudrf.ru/modules.php?na...</td>\n",
       "      <td>morozovsky.ros.sudrf.ru_0027-517468893.txt</td>\n",
       "      <td>морозовский районный суд ростовской области</td>\n",
       "      <td>2017/2/13</td>\n",
       "      <td>милькиной о.ю., с участием защитника адвоката ...</td>\n",
       "      <td>наличие несовершеннолетней дочери на дату сове...</td>\n",
       "      <td>Лишение свободы</td>\n",
       "      <td>нет</td>\n",
       "      <td>нет данных</td>\n",
       "      <td>да</td>\n",
       "      <td>героин.?.?: 0,368 грамма</td>\n",
       "      <td>героин.?.?</td>\n",
       "      <td>Крупный</td>\n",
       "      <td>нет</td>\n",
       "      <td>рецидив преступлений,совершение преступления с...</td>\n",
       "      <td>Героин</td>\n",
       "      <td>0.368</td>\n",
       "    </tr>\n",
       "    <tr>\n",
       "      <th>1</th>\n",
       "      <td>https://syzransky.sam.sudrf.ru/modules.php?nam...</td>\n",
       "      <td>syzransky.sam.sudrf.ru_0010-131059839.txt</td>\n",
       "      <td>ОШИБКА: Запрошенный URL не может быть получен</td>\n",
       "      <td>2018/5/31</td>\n",
       "      <td>варельджана а.ф. правильно квалифицированы по ...</td>\n",
       "      <td>нет данных</td>\n",
       "      <td>Лишение свободы</td>\n",
       "      <td>да</td>\n",
       "      <td>нет данных</td>\n",
       "      <td>да</td>\n",
       "      <td>героин.?.?: 42,220 грамма</td>\n",
       "      <td>героин.?.?</td>\n",
       "      <td>Крупный</td>\n",
       "      <td>нет</td>\n",
       "      <td>рецидив преступлений</td>\n",
       "      <td>Героин</td>\n",
       "      <td>42.22</td>\n",
       "    </tr>\n",
       "    <tr>\n",
       "      <th>2</th>\n",
       "      <td>https://leninsky.ros.sudrf.ru/modules.php?name...</td>\n",
       "      <td>leninsky.ros.sudrf.ru_0108-457978243.txt</td>\n",
       "      <td>ленинский районный суд г. ростова-на-дону</td>\n",
       "      <td>2017/4/24</td>\n",
       "      <td>сердюкова с.п.</td>\n",
       "      <td>нет данных</td>\n",
       "      <td>Лишение свободы</td>\n",
       "      <td>да</td>\n",
       "      <td>да</td>\n",
       "      <td>да</td>\n",
       "      <td>являющееся производным: 0,1 грамм</td>\n",
       "      <td>являющееся производным</td>\n",
       "      <td>Крупный</td>\n",
       "      <td>нет</td>\n",
       "      <td>рецидив преступлений</td>\n",
       "      <td>Производное</td>\n",
       "      <td>0.1</td>\n",
       "    </tr>\n",
       "    <tr>\n",
       "      <th>3</th>\n",
       "      <td>https://krutinkacourt.oms.sudrf.ru/modules.php...</td>\n",
       "      <td>krutinkacourt.oms.sudrf.ru_0003-76090986.txt</td>\n",
       "      <td>крутинский районный суд омской области</td>\n",
       "      <td>2018/6/14</td>\n",
       "      <td>сиббула валерия николаевича</td>\n",
       "      <td>нет данных</td>\n",
       "      <td>Лишение свободы</td>\n",
       "      <td>да</td>\n",
       "      <td>нет данных</td>\n",
       "      <td>нет данных</td>\n",
       "      <td>конопл..?: 124,8 грамма</td>\n",
       "      <td>конопл..?</td>\n",
       "      <td>Крупный</td>\n",
       "      <td>36</td>\n",
       "      <td>нет данных</td>\n",
       "      <td>Каннабис</td>\n",
       "      <td>124.8</td>\n",
       "    </tr>\n",
       "    <tr>\n",
       "      <th>4</th>\n",
       "      <td>https://taldom.mo.sudrf.ru/modules.php?name=su...</td>\n",
       "      <td>taldom.mo.sudrf.ru_0015-244080909.txt</td>\n",
       "      <td>талдомский районный суд московской области</td>\n",
       "      <td>2017/7/21</td>\n",
       "      <td>кацана в.д., его защитника – адвоката сырчина ...</td>\n",
       "      <td>нет данных</td>\n",
       "      <td>Условное лишение свободы</td>\n",
       "      <td>нет</td>\n",
       "      <td>нет</td>\n",
       "      <td>нет</td>\n",
       "      <td>амфетамин.?.?: 1,88 грамма</td>\n",
       "      <td>амфетамин.?.?</td>\n",
       "      <td>Крупный</td>\n",
       "      <td>48</td>\n",
       "      <td>нет данных</td>\n",
       "      <td>Амфетамин</td>\n",
       "      <td>1.88</td>\n",
       "    </tr>\n",
       "  </tbody>\n",
       "</table>\n",
       "</div>"
      ],
      "text/plain": [
       "                                              Ссылка  \\\n",
       "0  https://morozovsky.ros.sudrf.ru/modules.php?na...   \n",
       "1  https://syzransky.sam.sudrf.ru/modules.php?nam...   \n",
       "2  https://leninsky.ros.sudrf.ru/modules.php?name...   \n",
       "3  https://krutinkacourt.oms.sudrf.ru/modules.php...   \n",
       "4  https://taldom.mo.sudrf.ru/modules.php?name=su...   \n",
       "\n",
       "                                           Файл  \\\n",
       "0    morozovsky.ros.sudrf.ru_0027-517468893.txt   \n",
       "1     syzransky.sam.sudrf.ru_0010-131059839.txt   \n",
       "2      leninsky.ros.sudrf.ru_0108-457978243.txt   \n",
       "3  krutinkacourt.oms.sudrf.ru_0003-76090986.txt   \n",
       "4         taldom.mo.sudrf.ru_0015-244080909.txt   \n",
       "\n",
       "                                             Суд Дата приговора  \\\n",
       "0    морозовский районный суд ростовской области      2017/2/13   \n",
       "1  ОШИБКА: Запрошенный URL не может быть получен      2018/5/31   \n",
       "2      ленинский районный суд г. ростова-на-дону      2017/4/24   \n",
       "3         крутинский районный суд омской области      2018/6/14   \n",
       "4     талдомский районный суд московской области      2017/7/21   \n",
       "\n",
       "                                                 ФИО  \\\n",
       "0  милькиной о.ю., с участием защитника адвоката ...   \n",
       "1  варельджана а.ф. правильно квалифицированы по ...   \n",
       "2                                     сердюкова с.п.   \n",
       "3                        сиббула валерия николаевича   \n",
       "4  кацана в.д., его защитника – адвоката сырчина ...   \n",
       "\n",
       "                           Смягчающие обстоятельства  \\\n",
       "0  наличие несовершеннолетней дочери на дату сове...   \n",
       "1                                         нет данных   \n",
       "2                                         нет данных   \n",
       "3                                         нет данных   \n",
       "4                                         нет данных   \n",
       "\n",
       "              Вид наказания Особый порядок Отбывал ли ранее лишение свободы  \\\n",
       "0           Лишение свободы            нет                       нет данных   \n",
       "1           Лишение свободы             да                       нет данных   \n",
       "2           Лишение свободы             да                               да   \n",
       "3           Лишение свободы             да                       нет данных   \n",
       "4  Условное лишение свободы            нет                              нет   \n",
       "\n",
       "    Судимость                          Наркотики        Главный наркотик  \\\n",
       "0          да           героин.?.?: 0,368 грамма              героин.?.?   \n",
       "1          да          героин.?.?: 42,220 грамма              героин.?.?   \n",
       "2          да  являющееся производным: 0,1 грамм  являющееся производным   \n",
       "3  нет данных            конопл..?: 124,8 грамма               конопл..?   \n",
       "4         нет         амфетамин.?.?: 1,88 грамма           амфетамин.?.?   \n",
       "\n",
       "    Размер Срок наказания в месяцах  \\\n",
       "0  Крупный                      нет   \n",
       "1  Крупный                      нет   \n",
       "2  Крупный                      нет   \n",
       "3  Крупный                       36   \n",
       "4  Крупный                       48   \n",
       "\n",
       "                           Отягчающие обстоятельства Категория наркотика  \\\n",
       "0  рецидив преступлений,совершение преступления с...              Героин   \n",
       "1                               рецидив преступлений              Героин   \n",
       "2                               рецидив преступлений         Производное   \n",
       "3                                         нет данных            Каннабис   \n",
       "4                                         нет данных           Амфетамин   \n",
       "\n",
       "  Количество  \n",
       "0      0.368  \n",
       "1      42.22  \n",
       "2        0.1  \n",
       "3      124.8  \n",
       "4       1.88  "
      ]
     },
     "execution_count": 25,
     "metadata": {},
     "output_type": "execute_result"
    }
   ],
   "source": [
    "drug_clean_dict = {\n",
    "    'героин.?.?': \"Героин\",\n",
    "'являющееся производным': \"Производное\",\n",
    "'конопл..?' : \"Каннабис\",\n",
    "'амфетамин.?.?': \"Амфетамин\",\n",
    "'метилов...?.? эфир.?.?': \"Метиловый эфир\",\n",
    "'метилэфедрон.?.?': \"Метилэфедрон\",\n",
    "'марихуан..?': \"Каннабис\",\n",
    "'пирролидиновалерофенон.?.?': \"Пирролидиновалерофенон\",\n",
    "'тетраметилциклопропил.?.?': \"Тетраметилциклопропил\",\n",
    "'масло каннабиса': \"Конопляное/гашишное масло\",\n",
    "'дезоморфин.?.?': \"Дезоморфин\",\n",
    "'гашишно..?.? масл..?': \"Конопляное/гашишное масло\",\n",
    "'индол': \"Спайс\",\n",
    "'метамфетамин.?.?': \"Метамфетамин\",\n",
    "'экстракт.?.? маковой соломы': \"Экстракт маковой соломы\",\n",
    "'кокаин.?.?': \"Кокаин\",\n",
    "'маков.. солом.': \"Маковая солома\",\n",
    "'мдма': \"МДМА\",\n",
    "'гашиш.?.?': \"Гашиш\",\n",
    "'метадон.?.?': \"Метадон\",\n",
    "'хинолин': \"Спайс\",\n",
    "'мефедрон.?.?': \"Мефедрон\",\n",
    "'jwh': \"JWH\",\n",
    "'карфентанил.?.?': \"Карфентанил\",\n",
    "'морфин.?.?': \"Морфин\",\n",
    "'лсд': \"ЛСД\",\n",
    "'конопл..?; марихуан..?': \"Каннабис\",\n",
    "'метилендиоксипировалерон.?.?': \"Метилендиоксипировалерон\",\n",
    "'опий': \"Опий\",\n",
    "'моноацетилморфин.?.?': \"Моноацетилморфин\",\n",
    "'броламфетамин.?.?': \"ДОБ\",\n",
    "'индол; пирролидиновалерофенон.?.?': \"Соль\",\n",
    "'конопл..?; масло каннабиса': \"Конопляное/гашишное масло\",\n",
    "'псилоцибин.?.?': \"Псилоцибин\",\n",
    "'2c-b': \"2C-B\",\n",
    "'первитин.?.?': \"Метамфетамин\",\n",
    "'доб': \"ДОБ\",\n",
    "'ацетилкодеин.?.?': \"Ацетилкодеин\",\n",
    "'дмт': \"ДМТ\",\n",
    "'пирролидиновалерофенон.?.?; индол; метилэфедрон.?.?': \"Соль\",\n",
    "'конопл..?; гашиш.?.?; марихуан..?': \"Каннабис\",\n",
    "'марихуан..?; гашиш.?.?': \"Каннабис\"\n",
    "}\n",
    "\n",
    "df[\"Категория наркотика\"] = df[\"Главный наркотик\"].apply(lambda x: drug_clean_dict[x]  if x in drug_clean_dict else None)\n",
    "df = df.dropna()\n",
    "df[\"Количество\"] = None\n",
    "\n",
    "for row in df.iterrows():\n",
    "    row = row[1]\n",
    "    pairs = row[\"Наркотики\"].split(\";\")\n",
    "    main = row[\"Главный наркотик\"]\n",
    "    for pair in pairs:\n",
    "        drug, val = pair.split(\":\")\n",
    "        if main in drug:\n",
    "            try:\n",
    "                val = val.replace(\",\", \".\").strip()\n",
    "                mass = float(re.search(r\"((\\d)*\\.(\\d*)?|\\d* )\", val).group(0))\n",
    "                row[\"Количество\"] = mass\n",
    "            except Exception as e:\n",
    "                pass\n",
    "df.head()"
   ]
  },
  {
   "cell_type": "code",
   "execution_count": 26,
   "metadata": {},
   "outputs": [],
   "source": [
    "df.to_csv(\"normalized_result.csv\", index=False)"
   ]
  },
  {
   "cell_type": "code",
   "execution_count": 9,
   "metadata": {},
   "outputs": [
    {
     "data": {
      "text/plain": [
       "нет           15188\n",
       "нет данных    13780\n",
       "да              469\n",
       "Name: Отбывал ли ранее лишение свободы, dtype: int64"
      ]
     },
     "execution_count": 9,
     "metadata": {},
     "output_type": "execute_result"
    }
   ],
   "source": [
    "df[\"Отбывал ли ранее лишение свободы\"].value_counts()"
   ]
  },
  {
   "cell_type": "code",
   "execution_count": 10,
   "metadata": {},
   "outputs": [
    {
     "data": {
      "text/plain": [
       "нет           15188\n",
       "да             7956\n",
       "нет данных     6293\n",
       "Name: Судимость, dtype: int64"
      ]
     },
     "execution_count": 10,
     "metadata": {},
     "output_type": "execute_result"
    }
   ],
   "source": [
    "df.Судимость.value_counts()"
   ]
  },
  {
   "cell_type": "code",
   "execution_count": 11,
   "metadata": {},
   "outputs": [
    {
     "data": {
      "text/plain": [
       "да     23213\n",
       "нет     6224\n",
       "Name: Особый порядок, dtype: int64"
      ]
     },
     "execution_count": 11,
     "metadata": {},
     "output_type": "execute_result"
    }
   ],
   "source": [
    "df[\"Особый порядок\"].value_counts()"
   ]
  },
  {
   "cell_type": "code",
   "execution_count": 12,
   "metadata": {},
   "outputs": [
    {
     "data": {
      "text/plain": [
       "нет           15188\n",
       "нет данных    13780\n",
       "да              469\n",
       "Name: Отбывал ли ранее лишение свободы, dtype: int64"
      ]
     },
     "execution_count": 12,
     "metadata": {},
     "output_type": "execute_result"
    }
   ],
   "source": [
    "df[\"Отбывал ли ранее лишение свободы\"].value_counts()"
   ]
  },
  {
   "cell_type": "code",
   "execution_count": 13,
   "metadata": {},
   "outputs": [
    {
     "data": {
      "text/plain": [
       "Лишение свободы             18578\n",
       "Условное лишение свободы    10752\n",
       "нет данных                    107\n",
       "Name: Вид наказания, dtype: int64"
      ]
     },
     "execution_count": 13,
     "metadata": {},
     "output_type": "execute_result"
    }
   ],
   "source": [
    "df[\"Вид наказания\"].value_counts()"
   ]
  },
  {
   "cell_type": "code",
   "execution_count": 17,
   "metadata": {},
   "outputs": [
    {
     "data": {
      "text/plain": [
       "36            11370\n",
       "нет            6213\n",
       "42             2829\n",
       "48             1653\n",
       "40              789\n",
       "24              484\n",
       "39              448\n",
       "768             413\n",
       "38              397\n",
       "12              370\n",
       "18              282\n",
       "774             202\n",
       "41              145\n",
       "37              138\n",
       "60              132\n",
       "54              110\n",
       "44               90\n",
       "30               90\n",
       "нет данных       88\n",
       "46               62\n",
       "2736             56\n",
       "72               32\n",
       "45               29\n",
       "109              28\n",
       "96               28\n",
       "744              26\n",
       "43               19\n",
       "22               19\n",
       "66               17\n",
       "120              15\n",
       "              ...  \n",
       "750               2\n",
       "62                2\n",
       "121               2\n",
       "5036              2\n",
       "824               2\n",
       "53                2\n",
       "770               2\n",
       "798               2\n",
       "17                1\n",
       "10060             1\n",
       "3012              1\n",
       "821               1\n",
       "324               1\n",
       "4320              1\n",
       "2744              1\n",
       "2964              1\n",
       "126               1\n",
       "81                1\n",
       "15036             1\n",
       "850               1\n",
       "2160              1\n",
       "2880              1\n",
       "3000              1\n",
       "822               1\n",
       "130               1\n",
       "132               1\n",
       "85                1\n",
       "20768             1\n",
       "82                1\n",
       "878               1\n",
       "Name: Срок наказания в месяцах, Length: 106, dtype: int64"
      ]
     },
     "execution_count": 17,
     "metadata": {},
     "output_type": "execute_result"
    }
   ],
   "source": [
    "df['Срок наказания в месяцах'].value_counts()"
   ]
  },
  {
   "cell_type": "code",
   "execution_count": 36,
   "metadata": {},
   "outputs": [
    {
     "data": {
      "text/plain": [
       "942"
      ]
     },
     "execution_count": 36,
     "metadata": {},
     "output_type": "execute_result"
    }
   ],
   "source": [
    "only_num_terms = df[~df['Срок наказания в месяцах'].str.contains(\"нет|нет данных\")]\n",
    "len(only_num_terms[only_num_terms['Срок наказания в месяцах'].map(int)>100])"
   ]
  },
  {
   "cell_type": "code",
   "execution_count": 37,
   "metadata": {},
   "outputs": [
    {
     "data": {
      "text/plain": [
       "20768"
      ]
     },
     "execution_count": 37,
     "metadata": {},
     "output_type": "execute_result"
    }
   ],
   "source": [
    "max(only_num_terms['Срок наказания в месяцах'].map(int))"
   ]
  },
  {
   "cell_type": "code",
   "execution_count": 28,
   "metadata": {},
   "outputs": [
    {
     "ename": "ValueError",
     "evalue": "invalid literal for int() with base 10: 'нет'",
     "output_type": "error",
     "traceback": [
      "\u001b[0;31m---------------------------------------------------------------------------\u001b[0m",
      "\u001b[0;31mValueError\u001b[0m                                Traceback (most recent call last)",
      "\u001b[0;32m<ipython-input-28-d50bca46b502>\u001b[0m in \u001b[0;36m<module>\u001b[0;34m\u001b[0m\n\u001b[0;32m----> 1\u001b[0;31m \u001b[0mdf\u001b[0m\u001b[0;34m[\u001b[0m\u001b[0mdf\u001b[0m\u001b[0;34m[\u001b[0m\u001b[0;34m'Срок наказания в месяцах'\u001b[0m\u001b[0;34m]\u001b[0m\u001b[0;34m.\u001b[0m\u001b[0mmap\u001b[0m\u001b[0;34m(\u001b[0m\u001b[0mint\u001b[0m\u001b[0;34m)\u001b[0m\u001b[0;34m<\u001b[0m\u001b[0;36m1000\u001b[0m\u001b[0;34m]\u001b[0m\u001b[0;34m\u001b[0m\u001b[0m\n\u001b[0m",
      "\u001b[0;32m~/.virtualenvs/jup_env/lib/python3.6/site-packages/pandas/core/series.py\u001b[0m in \u001b[0;36mmap\u001b[0;34m(self, arg, na_action)\u001b[0m\n\u001b[1;32m   2996\u001b[0m         \"\"\"\n\u001b[1;32m   2997\u001b[0m         new_values = super(Series, self)._map_values(\n\u001b[0;32m-> 2998\u001b[0;31m             arg, na_action=na_action)\n\u001b[0m\u001b[1;32m   2999\u001b[0m         return self._constructor(new_values,\n\u001b[1;32m   3000\u001b[0m                                  index=self.index).__finalize__(self)\n",
      "\u001b[0;32m~/.virtualenvs/jup_env/lib/python3.6/site-packages/pandas/core/base.py\u001b[0m in \u001b[0;36m_map_values\u001b[0;34m(self, mapper, na_action)\u001b[0m\n\u001b[1;32m   1002\u001b[0m \u001b[0;34m\u001b[0m\u001b[0m\n\u001b[1;32m   1003\u001b[0m         \u001b[0;31m# mapper is a function\u001b[0m\u001b[0;34m\u001b[0m\u001b[0;34m\u001b[0m\u001b[0m\n\u001b[0;32m-> 1004\u001b[0;31m         \u001b[0mnew_values\u001b[0m \u001b[0;34m=\u001b[0m \u001b[0mmap_f\u001b[0m\u001b[0;34m(\u001b[0m\u001b[0mvalues\u001b[0m\u001b[0;34m,\u001b[0m \u001b[0mmapper\u001b[0m\u001b[0;34m)\u001b[0m\u001b[0;34m\u001b[0m\u001b[0m\n\u001b[0m\u001b[1;32m   1005\u001b[0m \u001b[0;34m\u001b[0m\u001b[0m\n\u001b[1;32m   1006\u001b[0m         \u001b[0;32mreturn\u001b[0m \u001b[0mnew_values\u001b[0m\u001b[0;34m\u001b[0m\u001b[0m\n",
      "\u001b[0;32mpandas/_libs/src/inference.pyx\u001b[0m in \u001b[0;36mpandas._libs.lib.map_infer\u001b[0;34m()\u001b[0m\n",
      "\u001b[0;31mValueError\u001b[0m: invalid literal for int() with base 10: 'нет'"
     ]
    }
   ],
   "source": [
    "df[df['Срок наказания в месяцах']<1000]"
   ]
  },
  {
   "cell_type": "code",
   "execution_count": 18,
   "metadata": {},
   "outputs": [
    {
     "data": {
      "text/plain": [
       "Index(['Ссылка', 'Файл', 'Суд', 'Дата приговора', 'ФИО',\n",
       "       'Смягчающие обстоятельства', 'Вид наказания', 'Особый порядок',\n",
       "       'Отбывал ли ранее лишение свободы', 'Судимость', 'Наркотики',\n",
       "       'Главный наркотик', 'Размер', 'Срок наказания в месяцах',\n",
       "       'Отягчающие обстоятельства', 'Категория наркотика', 'Количество'],\n",
       "      dtype='object')"
      ]
     },
     "execution_count": 18,
     "metadata": {},
     "output_type": "execute_result"
    }
   ],
   "source": [
    "df.columns"
   ]
  },
  {
   "cell_type": "code",
   "execution_count": 19,
   "metadata": {},
   "outputs": [
    {
     "data": {
      "text/plain": [
       "нет данных                                                                                                                                                                                                                                                                                                                                                                                                                                                                                                                                                                                                                                                                                                                                                                                                                                                                                  18340\n",
       "рецидив преступлений                                                                                                                                                                                                                                                                                                                                                                                                                                                                                                                                                                                                                                                                                                                                                                                                                                                                         4579\n",
       "совершение преступления с использованием оружия, боевых припасов, взрывчатых веществ, взрывных или имитирующих их устройств, специально изготовленных технических средств, наркотических средств, психотропных, сильнодействующих, ядовитых и радиоактивных веществ, лекарственных и иных химико-фармакологических препаратов, а также с применением физического или психического принуждения                                                                                                                                                                                                                                                                                                                                                                                                                                                                                                 854\n",
       "совершение преступления в состоянии опьянения                                                                                                                                                                                                                                                                                                                                                                                                                                                                                                                                                                                                                                                                                                                                                                                                                                                 644\n",
       "совершение преступления в составе группы лиц, группы лиц по предварительному сговору, организованной группы или преступного сообщества(преступной организации)                                                                                                                                                                                                                                                                                                                                                                                                                                                                                                                                                                                                                                                                                                                                628\n",
       "наступление тяжких последствий в результате совершения преступления                                                                                                                                                                                                                                                                                                                                                                                                                                                                                                                                                                                                                                                                                                                                                                                                                           558\n",
       "рецидив преступлений,совершение преступления с использованием оружия, боевых припасов, взрывчатых веществ, взрывных или имитирующих их устройств, специально изготовленных технических средств, наркотических средств, психотропных, сильнодействующих, ядовитых и радиоактивных веществ, лекарственных и иных химико-фармакологических препаратов, а также с применением физического или психического принуждения                                                                                                                                                                                                                                                                                                                                                                                                                                                                            284\n",
       "рецидив преступлений,совершение преступления в составе группы лиц, группы лиц по предварительному сговору, организованной группы или преступного сообщества(преступной организации)                                                                                                                                                                                                                                                                                                                                                                                                                                                                                                                                                                                                                                                                                                           227\n",
       "рецидив преступлений,совершение преступления в состоянии опьянения                                                                                                                                                                                                                                                                                                                                                                                                                                                                                                                                                                                                                                                                                                                                                                                                                            220\n",
       "совершение преступления в составе группы лиц, группы лиц по предварительному сговору, организованной группы или преступного сообщества(преступной организации),совершение преступления с использованием оружия, боевых припасов, взрывчатых веществ, взрывных или имитирующих их устройств, специально изготовленных технических средств, наркотических средств, психотропных, сильнодействующих, ядовитых и радиоактивных веществ, лекарственных и иных химико-фармакологических препаратов, а также с применением физического или психического принуждения                                                                                                                                                                                                                                                                                                                                  102\n",
       "рецидив преступлений,наступление тяжких последствий в результате совершения преступления                                                                                                                                                                                                                                                                                                                                                                                                                                                                                                                                                                                                                                                                                                                                                                                                       73\n",
       "рецидив преступлений,совершение преступления в составе группы лиц, группы лиц по предварительному сговору, организованной группы или преступного сообщества(преступной организации),совершение преступления с использованием оружия, боевых припасов, взрывчатых веществ, взрывных или имитирующих их устройств, специально изготовленных технических средств, наркотических средств, психотропных, сильнодействующих, ядовитых и радиоактивных веществ, лекарственных и иных химико-фармакологических препаратов, а также с применением физического или психического принуждения                                                                                                                                                                                                                                                                                                              57\n",
       "совершение преступления с использованием оружия, боевых припасов, взрывчатых веществ, взрывных или имитирующих их устройств, специально изготовленных технических средств, наркотических средств, психотропных, сильнодействующих, ядовитых и радиоактивных веществ, лекарственных и иных химико-фармакологических препаратов, а также с применением физического или психического принуждения,совершение преступления в состоянии опьянения                                                                                                                                                                                                                                                                                                                                                                                                                                                    37\n",
       "совершение преступления в составе группы лиц, группы лиц по предварительному сговору, организованной группы или преступного сообщества(преступной организации),совершение преступления в состоянии опьянения                                                                                                                                                                                                                                                                                                                                                                                                                                                                                                                                                                                                                                                                                   33\n",
       "наступление тяжких последствий в результате совершения преступления,совершение преступления с использованием оружия, боевых припасов, взрывчатых веществ, взрывных или имитирующих их устройств, специально изготовленных технических средств, наркотических средств, психотропных, сильнодействующих, ядовитых и радиоактивных веществ, лекарственных и иных химико-фармакологических препаратов, а также с применением физического или психического принуждения                                                                                                                                                                                                                                                                                                                                                                                                                              33\n",
       "совершение преступления в отношении лица или его близких в связи с осуществлением данным лицом служебной деятельности или выполнением общественного долга                                                                                                                                                                                                                                                                                                                                                                                                                                                                                                                                                                                                                                                                                                                                      32\n",
       "рецидив преступлений,совершение преступления в составе группы лиц, группы лиц по предварительному сговору, организованной группы или преступного сообщества(преступной организации),совершение преступления в состоянии опьянения                                                                                                                                                                                                                                                                                                                                                                                                                                                                                                                                                                                                                                                              23\n",
       "наступление тяжких последствий в результате совершения преступления,совершение преступления в состоянии опьянения                                                                                                                                                                                                                                                                                                                                                                                                                                                                                                                                                                                                                                                                                                                                                                              15\n",
       "рецидив преступлений,совершение преступления с использованием оружия, боевых припасов, взрывчатых веществ, взрывных или имитирующих их устройств, специально изготовленных технических средств, наркотических средств, психотропных, сильнодействующих, ядовитых и радиоактивных веществ, лекарственных и иных химико-фармакологических препаратов, а также с применением физического или психического принуждения,совершение преступления в состоянии опьянения                                                                                                                                                                                                                                                                                                                                                                                                                               14\n",
       "наступление тяжких последствий в результате совершения преступления,совершение преступления в составе группы лиц, группы лиц по предварительному сговору, организованной группы или преступного сообщества(преступной организации)                                                                                                                                                                                                                                                                                                                                                                                                                                                                                                                                                                                                                                                             10\n",
       "рецидив преступлений,наступление тяжких последствий в результате совершения преступления,совершение преступления в составе группы лиц, группы лиц по предварительному сговору, организованной группы или преступного сообщества(преступной организации)                                                                                                                                                                                                                                                                                                                                                                                                                                                                                                                                                                                                                                         8\n",
       "рецидив преступлений,наступление тяжких последствий в результате совершения преступления,совершение преступления в состоянии опьянения                                                                                                                                                                                                                                                                                                                                                                                                                                                                                                                                                                                                                                                                                                                                                          8\n",
       "рецидив преступлений,наступление тяжких последствий в результате совершения преступления,совершение преступления с использованием оружия, боевых припасов, взрывчатых веществ, взрывных или имитирующих их устройств, специально изготовленных технических средств, наркотических средств, психотропных, сильнодействующих, ядовитых и радиоактивных веществ, лекарственных и иных химико-фармакологических препаратов, а также с применением физического или психического принуждения                                                                                                                                                                                                                                                                                                                                                                                                          7\n",
       "совершение преступления из мести за правомерные действия других лиц, а также с целью скрыть другое преступление или облегчить его совершение                                                                                                                                                                                                                                                                                                                                                                                                                                                                                                                                                                                                                                                                                                                                                    6\n",
       "совершение умышленного преступления сотрудником органа внутренних дел                                                                                                                                                                                                                                                                                                                                                                                                                                                                                                                                                                                                                                                                                                                                                                                                                           6\n",
       "рецидив преступлений,совершение преступления в составе группы лиц, группы лиц по предварительному сговору, организованной группы или преступного сообщества(преступной организации),совершение преступления в отношении лица или его близких в связи с осуществлением данным лицом служебной деятельности или выполнением общественного долга                                                                                                                                                                                                                                                                                                                                                                                                                                                                                                                                                   6\n",
       "совершение преступления в отношении лица или его близких в связи с осуществлением данным лицом служебной деятельности или выполнением общественного долга,совершение преступления с использованием оружия, боевых припасов, взрывчатых веществ, взрывных или имитирующих их устройств, специально изготовленных технических средств, наркотических средств, психотропных, сильнодействующих, ядовитых и радиоактивных веществ, лекарственных и иных химико-фармакологических препаратов, а также с применением физического или психического принуждения                                                                                                                                                                                                                                                                                                                                         6\n",
       "совершение преступления в составе группы лиц, группы лиц по предварительному сговору, организованной группы или преступного сообщества(преступной организации),совершение преступления в отношении лица или его близких в связи с осуществлением данным лицом служебной деятельности или выполнением общественного долга                                                                                                                                                                                                                                                                                                                                                                                                                                                                                                                                                                        6\n",
       "совершение преступления с использованием форменной одежды или документов представителя власти                                                                                                                                                                                                                                                                                                                                                                                                                                                                                                                                                                                                                                                                                                                                                                                                   5\n",
       "рецидив преступлений,совершение преступления в отношении лица или его близких в связи с осуществлением данным лицом служебной деятельности или выполнением общественного долга                                                                                                                                                                                                                                                                                                                                                                                                                                                                                                                                                                                                                                                                                                                  5\n",
       "                                                                                                                                                                                                                                                                                                                                                                                                                                                                                                                                                                                                                                                                                                                                                                                                                                                                                            ...  \n",
       "рецидив преступлений,совершение преступления с особой жестокостью, садизмом, издевательством, а также мучениями для потерпевшего,совершение преступления с использованием оружия, боевых припасов, взрывчатых веществ, взрывных или имитирующих их устройств, специально изготовленных технических средств, наркотических средств, психотропных, сильнодействующих, ядовитых и радиоактивных веществ, лекарственных и иных химико-фармакологических препаратов, а также с применением физического или психического принуждения                                                                                                                                                                                                                                                                                                                                                                  2\n",
       "рецидив преступлений,совершение преступления в составе группы лиц, группы лиц по предварительному сговору, организованной группы или преступного сообщества(преступной организации),особо активная роль в совершении преступления                                                                                                                                                                                                                                                                                                                                                                                                                                                                                                                                                                                                                                                               2\n",
       "рецидив преступлений,совершение преступления в условиях чрезвычайного положения, стихийного или иного общественного бедствия, а также при массовых беспорядках, в условиях вооруженного конфликта или военных действий                                                                                                                                                                                                                                                                                                                                                                                                                                                                                                                                                                                                                                                                          2\n",
       "совершение преступления в отношении лица или его близких в связи с осуществлением данным лицом служебной деятельности или выполнением общественного долга,совершение преступления с использованием оружия, боевых припасов, взрывчатых веществ, взрывных или имитирующих их устройств, специально изготовленных технических средств, наркотических средств, психотропных, сильнодействующих, ядовитых и радиоактивных веществ, лекарственных и иных химико-фармакологических препаратов, а также с применением физического или психического принуждения,совершение умышленного преступления сотрудником органа внутренних дел                                                                                                                                                                                                                                                                   2\n",
       "совершение преступления в составе группы лиц, группы лиц по предварительному сговору, организованной группы или преступного сообщества(преступной организации),совершение преступления в целях пропаганды, оправдания и поддержки терроризма                                                                                                                                                                                                                                                                                                                                                                                                                                                                                                                                                                                                                                                    2\n",
       "наступление тяжких последствий в результате совершения преступления,совершение преступления в отношении лица или его близких в связи с осуществлением данным лицом служебной деятельности или выполнением общественного долга                                                                                                                                                                                                                                                                                                                                                                                                                                                                                                                                                                                                                                                                   2\n",
       "совершение преступления в составе группы лиц, группы лиц по предварительному сговору, организованной группы или преступного сообщества(преступной организации),особо активная роль в совершении преступления,совершение преступления из мести за правомерные действия других лиц, а также с целью скрыть другое преступление или облегчить его совершение                                                                                                                                                                                                                                                                                                                                                                                                                                                                                                                                       2\n",
       "совершение преступления в составе группы лиц, группы лиц по предварительному сговору, организованной группы или преступного сообщества(преступной организации),совершение преступления с использованием оружия, боевых припасов, взрывчатых веществ, взрывных или имитирующих их устройств, специально изготовленных технических средств, наркотических средств, психотропных, сильнодействующих, ядовитых и радиоактивных веществ, лекарственных и иных химико-фармакологических препаратов, а также с применением физического или психического принуждения,совершение преступления с использованием форменной одежды или документов представителя власти                                                                                                                                                                                                                                      2\n",
       "наступление тяжких последствий в результате совершения преступления,совершение преступления в отношении лица или его близких в связи с осуществлением данным лицом служебной деятельности или выполнением общественного долга,совершение преступления с использованием оружия, боевых припасов, взрывчатых веществ, взрывных или имитирующих их устройств, специально изготовленных технических средств, наркотических средств, психотропных, сильнодействующих, ядовитых и радиоактивных веществ, лекарственных и иных химико-фармакологических препаратов, а также с применением физического или психического принуждения                                                                                                                                                                                                                                                                     1\n",
       "совершение преступления в составе группы лиц, группы лиц по предварительному сговору, организованной группы или преступного сообщества(преступной организации),особо активная роль в совершении преступления                                                                                                                                                                                                                                                                                                                                                                                                                                                                                                                                                                                                                                                                                    1\n",
       "рецидив преступлений,совершение преступления из мести за правомерные действия других лиц, а также с целью скрыть другое преступление или облегчить его совершение                                                                                                                                                                                                                                                                                                                                                                                                                                                                                                                                                                                                                                                                                                                               1\n",
       "совершение преступления в отношении женщины, заведомо для виновного находящейся в состоянии беременности, а также в отношении малолетнего, другого беззащитного или беспомощного лица либо лица, находящегося в зависимости от виновного,совершение преступления в состоянии опьянения                                                                                                                                                                                                                                                                                                                                                                                                                                                                                                                                                                                                          1\n",
       "рецидив преступлений,совершение преступления с использованием форменной одежды или документов представителя власти                                                                                                                                                                                                                                                                                                                                                                                                                                                                                                                                                                                                                                                                                                                                                                              1\n",
       "рецидив преступлений,совершение преступления в отношении лица или его близких в связи с осуществлением данным лицом служебной деятельности или выполнением общественного долга,совершение преступления в состоянии опьянения                                                                                                                                                                                                                                                                                                                                                                                                                                                                                                                                                                                                                                                                    1\n",
       "совершение преступления в составе группы лиц, группы лиц по предварительному сговору, организованной группы или преступного сообщества(преступной организации),совершение преступления в отношении лица или его близких в связи с осуществлением данным лицом служебной деятельности или выполнением общественного долга,совершение преступления с использованием оружия, боевых припасов, взрывчатых веществ, взрывных или имитирующих их устройств, специально изготовленных технических средств, наркотических средств, психотропных, сильнодействующих, ядовитых и радиоактивных веществ, лекарственных и иных химико-фармакологических препаратов, а также с применением физического или психического принуждения                                                                                                                                                                          1\n",
       "наступление тяжких последствий в результате совершения преступления,совершение преступления с особой жестокостью, садизмом, издевательством, а также мучениями для потерпевшего                                                                                                                                                                                                                                                                                                                                                                                                                                                                                                                                                                                                                                                                                                                 1\n",
       "рецидив преступлений,совершение преступления в составе группы лиц, группы лиц по предварительному сговору, организованной группы или преступного сообщества(преступной организации),совершение преступления в отношении женщины, заведомо для виновного находящейся в состоянии беременности, а также в отношении малолетнего, другого беззащитного или беспомощного лица либо лица, находящегося в зависимости от виновного                                                                                                                                                                                                                                                                                                                                                                                                                                                                    1\n",
       "наступление тяжких последствий в результате совершения преступления,совершение преступления в условиях чрезвычайного положения, стихийного или иного общественного бедствия, а также при массовых беспорядках, в условиях вооруженного конфликта или военных действий,совершение преступления в состоянии опьянения                                                                                                                                                                                                                                                                                                                                                                                                                                                                                                                                                                             1\n",
       "совершение преступления в составе группы лиц, группы лиц по предварительному сговору, организованной группы или преступного сообщества(преступной организации),совершение преступления в отношении лица или его близких в связи с осуществлением данным лицом служебной деятельности или выполнением общественного долга,совершение преступления в состоянии опьянения                                                                                                                                                                                                                                                                                                                                                                                                                                                                                                                          1\n",
       "совершение преступления в составе группы лиц, группы лиц по предварительному сговору, организованной группы или преступного сообщества(преступной организации),совершение преступления по мотивам политической, идеологической, расовой, национальной или религиозной ненависти или вражды либо по мотивам ненависти или вражды в отношении какой-либо социальной группы;,совершение преступления с использованием оружия, боевых припасов, взрывчатых веществ, взрывных или имитирующих их устройств, специально изготовленных технических средств, наркотических средств, психотропных, сильнодействующих, ядовитых и радиоактивных веществ, лекарственных и иных химико-фармакологических препаратов, а также с применением физического или психического принуждения                                                                                                                         1\n",
       "совершение преступления с особой жестокостью, садизмом, издевательством, а также мучениями для потерпевшего,совершение преступления с использованием оружия, боевых припасов, взрывчатых веществ, взрывных или имитирующих их устройств, специально изготовленных технических средств, наркотических средств, психотропных, сильнодействующих, ядовитых и радиоактивных веществ, лекарственных и иных химико-фармакологических препаратов, а также с применением физического или психического принуждения                                                                                                                                                                                                                                                                                                                                                                                       1\n",
       "совершение преступления по мотивам политической, идеологической, расовой, национальной или религиозной ненависти или вражды либо по мотивам ненависти или вражды в отношении какой-либо социальной группы;                                                                                                                                                                                                                                                                                                                                                                                                                                                                                                                                                                                                                                                                                      1\n",
       "рецидив преступлений,совершение преступления по мотивам политической, идеологической, расовой, национальной или религиозной ненависти или вражды либо по мотивам ненависти или вражды в отношении какой-либо социальной группы;,совершение преступления в состоянии опьянения                                                                                                                                                                                                                                                                                                                                                                                                                                                                                                                                                                                                                   1\n",
       "наступление тяжких последствий в результате совершения преступления,совершение преступления с использованием оружия, боевых припасов, взрывчатых веществ, взрывных или имитирующих их устройств, специально изготовленных технических средств, наркотических средств, психотропных, сильнодействующих, ядовитых и радиоактивных веществ, лекарственных и иных химико-фармакологических препаратов, а также с применением физического или психического принуждения,совершение преступления в состоянии опьянения                                                                                                                                                                                                                                                                                                                                                                                 1\n",
       "рецидив преступлений,совершение преступления в составе группы лиц, группы лиц по предварительному сговору, организованной группы или преступного сообщества(преступной организации),совершение преступления из мести за правомерные действия других лиц, а также с целью скрыть другое преступление или облегчить его совершение,совершение преступления в состоянии опьянения                                                                                                                                                                                                                                                                                                                                                                                                                                                                                                                  1\n",
       "совершение преступления в составе группы лиц, группы лиц по предварительному сговору, организованной группы или преступного сообщества(преступной организации),особо активная роль в совершении преступления,совершение преступления с использованием оружия, боевых припасов, взрывчатых веществ, взрывных или имитирующих их устройств, специально изготовленных технических средств, наркотических средств, психотропных, сильнодействующих, ядовитых и радиоактивных веществ, лекарственных и иных химико-фармакологических препаратов, а также с применением физического или психического принуждения                                                                                                                                                                                                                                                                                      1\n",
       "рецидив преступлений,совершение преступления в составе группы лиц, группы лиц по предварительному сговору, организованной группы или преступного сообщества(преступной организации),совершение преступления в отношении лица или его близких в связи с осуществлением данным лицом служебной деятельности или выполнением общественного долга,совершение преступления с использованием оружия, боевых припасов, взрывчатых веществ, взрывных или имитирующих их устройств, специально изготовленных технических средств, наркотических средств, психотропных, сильнодействующих, ядовитых и радиоактивных веществ, лекарственных и иных химико-фармакологических препаратов, а также с применением физического или психического принуждения                                                                                                                                                     1\n",
       "совершение преступления в составе группы лиц, группы лиц по предварительному сговору, организованной группы или преступного сообщества(преступной организации),совершение преступления из мести за правомерные действия других лиц, а также с целью скрыть другое преступление или облегчить его совершение                                                                                                                                                                                                                                                                                                                                                                                                                                                                                                                                                                                     1\n",
       "совершение преступления в отношении женщины, заведомо для виновного находящейся в состоянии беременности, а также в отношении малолетнего, другого беззащитного или беспомощного лица либо лица, находящегося в зависимости от виновного,совершение преступления с использованием оружия, боевых припасов, взрывчатых веществ, взрывных или имитирующих их устройств, специально изготовленных технических средств, наркотических средств, психотропных, сильнодействующих, ядовитых и радиоактивных веществ, лекарственных и иных химико-фармакологических препаратов, а также с применением физического или психического принуждения,совершение преступления в состоянии опьянения                                                                                                                                                                                                            1\n",
       "рецидив преступлений,совершение преступления в составе группы лиц, группы лиц по предварительному сговору, организованной группы или преступного сообщества(преступной организации),совершение преступления из мести за правомерные действия других лиц, а также с целью скрыть другое преступление или облегчить его совершение,совершение преступления в отношении лица или его близких в связи с осуществлением данным лицом служебной деятельности или выполнением общественного долга,совершение преступления с использованием оружия, боевых припасов, взрывчатых веществ, взрывных или имитирующих их устройств, специально изготовленных технических средств, наркотических средств, психотропных, сильнодействующих, ядовитых и радиоактивных веществ, лекарственных и иных химико-фармакологических препаратов, а также с применением физического или психического принуждения        1\n",
       "Name: Отягчающие обстоятельства, Length: 73, dtype: int64"
      ]
     },
     "execution_count": 19,
     "metadata": {},
     "output_type": "execute_result"
    }
   ],
   "source": [
    "df['Отягчающие обстоятельства'].value_counts()"
   ]
  },
  {
   "cell_type": "markdown",
   "metadata": {},
   "source": [
    "**Что просят посчитать**:\n",
    "1) среднее, а лучше медианное, количесвто наркотика за которое осуждают (по видам);  \n",
    "2) количество дел, где, не имеющих судимости, без отягчающих, приговаривают к реальному лишению свободы; средний срок лишения свободы в этом случае."
   ]
  },
  {
   "cell_type": "code",
   "execution_count": 20,
   "metadata": {},
   "outputs": [],
   "source": [
    "df['Срок наказания в месяцах'] = df['Срок наказания в месяцах'].apply(lambda x: x if x.isdigit() else None).astype(np.float32)\n",
    "convicted = df[df[\"Вид наказания\"] == \"Лишение свободы\"].dropna()"
   ]
  },
  {
   "cell_type": "code",
   "execution_count": 21,
   "metadata": {},
   "outputs": [
    {
     "name": "stderr",
     "output_type": "stream",
     "text": [
      "C:\\Users\\khasanov\\AppData\\Local\\conda\\conda\\envs\\my_root\\lib\\site-packages\\ipykernel_launcher.py:1: FutureWarning: 'argmax' is deprecated, use 'idxmax' instead. The behavior of 'argmax'\n",
      "will be corrected to return the positional maximum in the future.\n",
      "Use 'series.values.argmax' to get the position of the maximum now.\n",
      "  \"\"\"Entry point for launching an IPython kernel.\n"
     ]
    },
    {
     "data": {
      "text/plain": [
       "Ссылка                              https://promyshleny.orb.sudrf.ru/modules.php?n...\n",
       "Файл                                      promyshleny.orb.sudrf.ru_0009-262525198.txt\n",
       "Суд                                            промышленный районный суд г. оренбурга\n",
       "Дата приговора                                                              2018/4/26\n",
       "ФИО                                                                     ихсанова р.ф.\n",
       "Смягчающие обстоятельства           признание вины, раскаяние, наличие малолетнего...\n",
       "Вид наказания                                                         Лишение свободы\n",
       "Особый порядок                                                                     да\n",
       "Отбывал ли ранее лишение свободы                                           нет данных\n",
       "Судимость                                                                  нет данных\n",
       "Наркотики                                               метилэфедрон.?.?: 3,25 грамма\n",
       "Главный наркотик                                                     метилэфедрон.?.?\n",
       "Размер                                                                        Крупный\n",
       "Срок наказания в месяцах                                                        20768\n",
       "Отягчающие обстоятельства                                                  нет данных\n",
       "Категория наркотика                                                      Метилэфедрон\n",
       "Количество                                                                       3.25\n",
       "Name: 10010, dtype: object"
      ]
     },
     "execution_count": 21,
     "metadata": {},
     "output_type": "execute_result"
    }
   ],
   "source": [
    "convicted.loc[convicted['Срок наказания в месяцах'].argmax(),:]"
   ]
  },
  {
   "cell_type": "code",
   "execution_count": 22,
   "metadata": {},
   "outputs": [
    {
     "data": {
      "text/plain": [
       "Категория наркотика\n",
       "JWH                          36.0\n",
       "Амфетамин                    36.0\n",
       "Ацетилкодеин                 18.0\n",
       "Гашиш                        36.0\n",
       "Героин                       40.0\n",
       "ДОБ                          48.0\n",
       "Дезоморфин                   36.0\n",
       "Каннабис                     36.0\n",
       "Карфентанил                  36.0\n",
       "Кокаин                       39.0\n",
       "Конопляное/гашишное масло    38.0\n",
       "ЛСД                          36.0\n",
       "МДМА                         36.0\n",
       "Маковая солома               36.0\n",
       "Метадон                      41.0\n",
       "Метамфетамин                 36.0\n",
       "Метилендиоксипировалерон     46.0\n",
       "Метиловый эфир               36.0\n",
       "Метилэфедрон                 36.0\n",
       "Мефедрон                     36.0\n",
       "Моноацетилморфин             38.0\n",
       "Морфин                       39.0\n",
       "Опий                         28.0\n",
       "Пирролидиновалерофенон       36.0\n",
       "Производное                  36.0\n",
       "Спайс                        36.0\n",
       "Тетраметилциклопропил        36.0\n",
       "Экстракт маковой соломы      40.0\n",
       "Name: Срок наказания в месяцах, dtype: float32"
      ]
     },
     "execution_count": 22,
     "metadata": {},
     "output_type": "execute_result"
    }
   ],
   "source": [
    "convicted = convicted[convicted['Срок наказания в месяцах'] < 12*20]\n",
    "convicted.groupby('Категория наркотика')['Срок наказания в месяцах'].median()"
   ]
  },
  {
   "cell_type": "markdown",
   "metadata": {},
   "source": [
    "**Количество дел, где, не имеющих судимости, без отягчающих, приговаривают к реальному лишению свободы; средний срок лишения свободы в этом случае.**"
   ]
  },
  {
   "cell_type": "code",
   "execution_count": 23,
   "metadata": {},
   "outputs": [
    {
     "name": "stdout",
     "output_type": "stream",
     "text": [
      "Всего дел, где лишили свободы: (8179, 17)\n"
     ]
    }
   ],
   "source": [
    "print(f\"Всего дел, где лишили свободы: {convicted.shape}\")"
   ]
  },
  {
   "cell_type": "code",
   "execution_count": 24,
   "metadata": {},
   "outputs": [
    {
     "name": "stdout",
     "output_type": "stream",
     "text": [
      "Количество дел: 2892\n",
      "Средний срок: 36.0\n"
     ]
    }
   ],
   "source": [
    "casual = convicted[(convicted['Отягчающие обстоятельства'] == \"нет данных\") & (convicted['Судимость'] == \"нет\")]\n",
    "print(f'Количество дел: {casual.shape[0]}')\n",
    "print(f\"Средний срок: {casual['Срок наказания в месяцах'].median()}\")"
   ]
  }
 ],
 "metadata": {
  "kernelspec": {
   "display_name": "Python 3",
   "language": "python",
   "name": "python3"
  },
  "language_info": {
   "codemirror_mode": {
    "name": "ipython",
    "version": 3
   },
   "file_extension": ".py",
   "mimetype": "text/x-python",
   "name": "python",
   "nbconvert_exporter": "python",
   "pygments_lexer": "ipython3",
   "version": "3.6.0"
  }
 },
 "nbformat": 4,
 "nbformat_minor": 2
}
