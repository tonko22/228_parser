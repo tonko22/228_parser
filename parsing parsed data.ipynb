{
 "cells": [
  {
   "cell_type": "code",
   "execution_count": 86,
   "metadata": {},
   "outputs": [
    {
     "data": {
      "text/html": [
       "<div>\n",
       "<style scoped>\n",
       "    .dataframe tbody tr th:only-of-type {\n",
       "        vertical-align: middle;\n",
       "    }\n",
       "\n",
       "    .dataframe tbody tr th {\n",
       "        vertical-align: top;\n",
       "    }\n",
       "\n",
       "    .dataframe thead th {\n",
       "        text-align: right;\n",
       "    }\n",
       "</style>\n",
       "<table border=\"1\" class=\"dataframe\">\n",
       "  <thead>\n",
       "    <tr style=\"text-align: right;\">\n",
       "      <th></th>\n",
       "      <th>comment</th>\n",
       "      <th>value</th>\n",
       "      <th>valueWOHL</th>\n",
       "      <th>file</th>\n",
       "    </tr>\n",
       "  </thead>\n",
       "  <tbody>\n",
       "    <tr>\n",
       "      <th>0</th>\n",
       "      <td>Уровень суда</td>\n",
       "      <td>Районный, городской, межрайонный суд</td>\n",
       "      <td>Районный, городской, межрайонный суд</td>\n",
       "      <td>Уголовное_дело_1-103_2018_(1-1114_2017;)_2018-...</td>\n",
       "    </tr>\n",
       "    <tr>\n",
       "      <th>1</th>\n",
       "      <td>Дела с текстом судебного акта</td>\n",
       "      <td>NaN</td>\n",
       "      <td>1</td>\n",
       "      <td>Уголовное_дело_1-103_2018_(1-1114_2017;)_2018-...</td>\n",
       "    </tr>\n",
       "    <tr>\n",
       "      <th>2</th>\n",
       "      <td>Округ РФ</td>\n",
       "      <td>Северо-Западный федеральный округ</td>\n",
       "      <td>Северо-Западный федеральный округ</td>\n",
       "      <td>Уголовное_дело_1-103_2018_(1-1114_2017;)_2018-...</td>\n",
       "    </tr>\n",
       "    <tr>\n",
       "      <th>3</th>\n",
       "      <td>Дата решения</td>\n",
       "      <td>NaN</td>\n",
       "      <td>Tue Feb 20 01:00:00 GST 2018</td>\n",
       "      <td>Уголовное_дело_1-103_2018_(1-1114_2017;)_2018-...</td>\n",
       "    </tr>\n",
       "    <tr>\n",
       "      <th>4</th>\n",
       "      <td>Дата решения</td>\n",
       "      <td>NaN</td>\n",
       "      <td>Tue Feb 20 01:00:00 GST 2018</td>\n",
       "      <td>Уголовное_дело_1-103_2018_(1-1114_2017;)_2018-...</td>\n",
       "    </tr>\n",
       "  </tbody>\n",
       "</table>\n",
       "</div>"
      ],
      "text/plain": [
       "                         comment                                 value  \\\n",
       "0                   Уровень суда  Районный, городской, межрайонный суд   \n",
       "1  Дела с текстом судебного акта                                   NaN   \n",
       "2                       Округ РФ     Северо-Западный федеральный округ   \n",
       "3                   Дата решения                                   NaN   \n",
       "4                   Дата решения                                   NaN   \n",
       "\n",
       "                              valueWOHL  \\\n",
       "0  Районный, городской, межрайонный суд   \n",
       "1                                     1   \n",
       "2     Северо-Западный федеральный округ   \n",
       "3          Tue Feb 20 01:00:00 GST 2018   \n",
       "4          Tue Feb 20 01:00:00 GST 2018   \n",
       "\n",
       "                                                file  \n",
       "0  Уголовное_дело_1-103_2018_(1-1114_2017;)_2018-...  \n",
       "1  Уголовное_дело_1-103_2018_(1-1114_2017;)_2018-...  \n",
       "2  Уголовное_дело_1-103_2018_(1-1114_2017;)_2018-...  \n",
       "3  Уголовное_дело_1-103_2018_(1-1114_2017;)_2018-...  \n",
       "4  Уголовное_дело_1-103_2018_(1-1114_2017;)_2018-...  "
      ]
     },
     "execution_count": 86,
     "metadata": {},
     "output_type": "execute_result"
    }
   ],
   "source": [
    "import os\n",
    "import pandas as pd\n",
    "import re\n",
    "import numpy as np\n",
    "from glob import glob\n",
    "\n",
    "import sys\n",
    "import csv\n",
    "\n",
    "csv.field_size_limit(400000)\n",
    "\n",
    "os.chdir(r\"E:\\prigovor_parser-master\\cases\")\n",
    "df = pd.DataFrame()\n",
    "for file in glob(\"*.csv\"):\n",
    "    temp = pd.read_csv(file, engine=\"python\", encoding=\"utf-8\")\n",
    "    temp[\"file\"] = file\n",
    "    df = df.append(temp)\n",
    "    \n",
    "df=df.loc[:,[\"comment\",\"value\", \"valueWOHL\",\"file\"]]\n",
    "df = df[~df.comment.str.contains(\"Слушания по делу|Движение дела|Дата слушания|Дата события\")]\n",
    "df.head()"
   ]
  },
  {
   "cell_type": "code",
   "execution_count": 40,
   "metadata": {},
   "outputs": [
    {
     "data": {
      "text/plain": [
       "69     Статья 30 Часть 3, Статья 228.1 Часть 4 п.а; С...\n",
       "578    Статья 30 Часть 3, Статья 228.1 Часть 4 п.а; С...\n",
       "34          Статья 228 Часть 1; Статья 228.1 Часть 4 п.г\n",
       "292         Статья 228 Часть 1; Статья 228.1 Часть 4 п.г\n",
       "Name: valueWOHL, dtype: object"
      ]
     },
     "execution_count": 40,
     "metadata": {},
     "output_type": "execute_result"
    }
   ],
   "source": [
    "df[(df.comment == \"Статья УК РФ\") & ~(df.valueWOHL.astype(str).str.contains(\"229.1\"))].valueWOHL"
   ]
  },
  {
   "cell_type": "code",
   "execution_count": 41,
   "metadata": {},
   "outputs": [],
   "source": [
    "df.valueWOHL = df.valueWOHL.astype(str)\n",
    "for file in df.file.unique():\n",
    "    temp = df[(df.file == file) & (df.comment == \"Статья УК РФ\")]\n",
    "    if temp.valueWOHL.str.contains(\"229\").sum() == 0:\n",
    "        print(temp.head())"
   ]
  },
  {
   "cell_type": "code",
   "execution_count": 4,
   "metadata": {},
   "outputs": [
    {
     "data": {
      "text/plain": [
       "'Уровень суда|Дела с текстом судебного акта|Округ РФ|Дата решения|Стороны по делу|Дата поступления|Статья УК РФ|Статья или категория|Год решения по делу|Количество судебных актов|Дата публикации|Тип дела|Источник (префикс таблиц)|Дата вступления в силу|Субъект РФ|Субъект РФ (с кодом)|Наименование суда|Идентификатор дела в субъекте|Результат|Дела с решением|Текст документа|Источник|Вид судопроизводства|Код суда|Уровень по субъекту|Вид участника производства|Дата индексирования|Лица|Префикс судопроизводства|Порядковый номер дела|Тип документа|Дата судебного акта|Типы документов|Номер дела (материала)|Инстанция|Год поступления дела|Код субъекта РФ|Статьи закона|Номер дела|Идентификатор дела|Судья|num_build|Решение|Событие|Дата загрузки судебного акта|Наличие текста|Дата загрузки дела|Название|Решения|Идентификатор судебного акта|Сторона по делу|ФИО|Вид судопроизводства (короткое)|Год регистрации дела|Статья закона'"
      ]
     },
     "execution_count": 4,
     "metadata": {},
     "output_type": "execute_result"
    }
   ],
   "source": [
    "\"|\".join(df.comment.unique())"
   ]
  },
  {
   "cell_type": "code",
   "execution_count": 123,
   "metadata": {},
   "outputs": [],
   "source": [
    "import re\n",
    "\n",
    "os.chdir(r\"E:\\prigovor_parser-master\\texts\")\n",
    "\n",
    "for file in df.file.unique():\n",
    "    temp = df[df.file == file]\n",
    "    text = temp[temp.comment == \"Текст документа\"].iloc[0, -2]\n",
    "    text = re.sub(r\"<[^<]*?[a-z][^<]*?>\", \"\", text, flags=re.IGNORECASE)\n",
    "    text = text.replace(\"&nbsp;\", \" \")\n",
    "    open(file.replace(\".csv\", \".txt\"), mode=\"w\", encoding=\"utf-8\").write(text)"
   ]
  },
  {
   "cell_type": "code",
   "execution_count": 131,
   "metadata": {},
   "outputs": [
    {
     "data": {
      "text/plain": [
       "'Tue Feb 20 01:00:00 GST 2018'"
      ]
     },
     "execution_count": 131,
     "metadata": {},
     "output_type": "execute_result"
    }
   ],
   "source": [
    "test_date = df[df.comment == \"Дата решения\"].iloc[0, -2]\n",
    "test_date"
   ]
  },
  {
   "cell_type": "code",
   "execution_count": 159,
   "metadata": {},
   "outputs": [],
   "source": [
    "import datetime\n",
    "\n",
    "def get_date(s):\n",
    "    try:\n",
    "        times = s.split()\n",
    "        month = datetime.datetime.strptime(times[1], \"%b\").month\n",
    "        month = str(month)\n",
    "        day = times[2]\n",
    "        year = times[-1]\n",
    "        return \"/\".join([day, month, year])\n",
    "    except:\n",
    "        return None"
   ]
  },
  {
   "cell_type": "code",
   "execution_count": 160,
   "metadata": {},
   "outputs": [],
   "source": [
    "parsed_results = {}\n",
    "# lookup_cols = ['Суд', 'Дата приговора', 'ФИО',\n",
    "#       'Смягчающие обстоятельства', 'Вид наказания', 'Особый порядок',\n",
    "#       'Отбывал ли ранее лишение свободы', 'Судимость', 'Наркотики',\n",
    "#       'Главный наркотик', 'Размер', 'Срок наказания в месяцах',\n",
    "#       'Отягчающие обстоятельства']\n",
    "\n",
    "lookup_cols = [\"Наименование суда\", \"ФИО\"]\n",
    "                \n",
    "for file in df.file.unique():\n",
    "    temp = df[df.file == file]\n",
    "    row = {}\n",
    "    for lookup in lookup_cols:\n",
    "        row[lookup] = \"; \".join(temp[temp.comment == lookup].valueWOHL.dropna().drop_duplicates())\n",
    "    dates = temp[temp.comment == \"Дата решения\"].valueWOHL.dropna().drop_duplicates()\n",
    "    found_dates = dates.apply(get_date)\n",
    "    row[\"Дата решения\"] = \"; \".join(found_dates)\n",
    "            \n",
    "    parsed_results[file] = row"
   ]
  },
  {
   "cell_type": "code",
   "execution_count": 125,
   "metadata": {},
   "outputs": [
    {
     "data": {
      "text/plain": [
       "71"
      ]
     },
     "execution_count": 125,
     "metadata": {},
     "output_type": "execute_result"
    }
   ],
   "source": [
    "len(parsed_results)"
   ]
  },
  {
   "cell_type": "code",
   "execution_count": 161,
   "metadata": {},
   "outputs": [],
   "source": [
    "import json\n",
    "\n",
    "json.dump(parsed_results, open(\"parsed_data.json\", \"w\", encoding=\"utf-8\"), indent=4, ensure_ascii=False)"
   ]
  }
 ],
 "metadata": {
  "kernelspec": {
   "display_name": "Python 3",
   "language": "python",
   "name": "python3"
  },
  "language_info": {
   "codemirror_mode": {
    "name": "ipython",
    "version": 3
   },
   "file_extension": ".py",
   "mimetype": "text/x-python",
   "name": "python",
   "nbconvert_exporter": "python",
   "pygments_lexer": "ipython3",
   "version": "3.6.5"
  }
 },
 "nbformat": 4,
 "nbformat_minor": 2
}
