{
 "cells": [
  {
   "cell_type": "code",
   "execution_count": 2,
   "metadata": {},
   "outputs": [],
   "source": [
    "import pandas as pd\n",
    "import pprint\n",
    "import glob"
   ]
  },
  {
   "cell_type": "code",
   "execution_count": 3,
   "metadata": {},
   "outputs": [],
   "source": [
    "pd.options.display.max_colwidth = 200"
   ]
  },
  {
   "cell_type": "code",
   "execution_count": 16,
   "metadata": {},
   "outputs": [],
   "source": [
    "from html.parser import HTMLParser\n",
    "\n",
    "class CaseHTMLParser(HTMLParser):\n",
    "    def __init__(self):\n",
    "        super().__init__()\n",
    "        self.data_parts = []\n",
    "\n",
    "    def handle_data(self, data):\n",
    "        self.data_parts.append(data)\n",
    "        \n",
    "def parse_text(case_text_html: str):\n",
    "    parser = CaseHTMLParser()\n",
    "    parser.feed(case_text_html)\n",
    "    text = \"\".join(parser.data_parts)\n",
    "    parser.close()\n",
    "    return text"
   ]
  },
  {
   "cell_type": "code",
   "execution_count": 4,
   "metadata": {},
   "outputs": [
    {
     "data": {
      "text/plain": [
       "461"
      ]
     },
     "execution_count": 4,
     "metadata": {},
     "output_type": "execute_result"
    }
   ],
   "source": [
    "len(glob.glob(\"data/Пропаганда/raw_csv/*\"))"
   ]
  },
  {
   "cell_type": "code",
   "execution_count": 139,
   "metadata": {},
   "outputs": [],
   "source": [
    "for fpath in glob.glob(\"Дела/Сбыт/raw_csv/*\"):\n",
    "    try:\n",
    "        fname = fpath.split(\"/\")[-1].split(\".csv\")[0]+\".txt\"\n",
    "        df = pd.read_csv(fpath)\n",
    "        text = parse_text(df[df[\"comment\"]==\"Текст документа\"]['value'].values[0])\n",
    "        with open(\"Дела/Сбыт/txt/\"+fname, \"w\") as f:\n",
    "            f.write(text)\n",
    "    except:\n",
    "        print(fname)"
   ]
  },
  {
   "cell_type": "code",
   "execution_count": 27,
   "metadata": {},
   "outputs": [
    {
     "data": {
      "text/html": [
       "<div>\n",
       "<style scoped>\n",
       "    .dataframe tbody tr th:only-of-type {\n",
       "        vertical-align: middle;\n",
       "    }\n",
       "\n",
       "    .dataframe tbody tr th {\n",
       "        vertical-align: top;\n",
       "    }\n",
       "\n",
       "    .dataframe thead th {\n",
       "        text-align: right;\n",
       "    }\n",
       "</style>\n",
       "<table border=\"1\" class=\"dataframe\">\n",
       "  <thead>\n",
       "    <tr style=\"text-align: right;\">\n",
       "      <th></th>\n",
       "      <th>actualValue</th>\n",
       "      <th>comment</th>\n",
       "      <th>dateValue</th>\n",
       "      <th>doubleValue</th>\n",
       "      <th>highlighting</th>\n",
       "      <th>languages</th>\n",
       "      <th>linkField</th>\n",
       "      <th>linkName</th>\n",
       "      <th>linkValue</th>\n",
       "      <th>longValue</th>\n",
       "      <th>markup</th>\n",
       "      <th>name</th>\n",
       "      <th>presentationName</th>\n",
       "      <th>tableCols</th>\n",
       "      <th>value</th>\n",
       "      <th>valueHash</th>\n",
       "      <th>valueWOHL</th>\n",
       "      <th>case_url</th>\n",
       "    </tr>\n",
       "  </thead>\n",
       "  <tbody>\n",
       "    <tr>\n",
       "      <th>0</th>\n",
       "      <td>NaN</td>\n",
       "      <td>Уровень суда</td>\n",
       "      <td>NaN</td>\n",
       "      <td>NaN</td>\n",
       "      <td>[]</td>\n",
       "      <td>NaN</td>\n",
       "      <td>NaN</td>\n",
       "      <td>NaN</td>\n",
       "      <td>NaN</td>\n",
       "      <td>NaN</td>\n",
       "      <td>[]</td>\n",
       "      <td>case_court_type_cat</td>\n",
       "      <td>NaN</td>\n",
       "      <td>NaN</td>\n",
       "      <td>Районный, городской, межрайонный суд</td>\n",
       "      <td>NaN</td>\n",
       "      <td>Районный, городской, межрайонный суд</td>\n",
       "      <td>https://bsr.sudrf.ru/bigs/showDocument.html#id=a81fac59fa17cf587a7064886c305249&amp;shard=%D0%94%D0%B5%D0%BB%D0%B0%20%D0%BE%D0%B1%20%D0%90%D0%9F&amp;from=p&amp;r={%22start%22:120,%22rows%22:10,%22uid%22:%2226...</td>\n",
       "    </tr>\n",
       "  </tbody>\n",
       "</table>\n",
       "</div>"
      ],
      "text/plain": [
       "   actualValue       comment dateValue  doubleValue highlighting  languages  \\\n",
       "0          NaN  Уровень суда       NaN          NaN           []        NaN   \n",
       "\n",
       "  linkField linkName linkValue  longValue markup                 name  \\\n",
       "0       NaN      NaN       NaN        NaN     []  case_court_type_cat   \n",
       "\n",
       "   presentationName tableCols                                 value  \\\n",
       "0               NaN       NaN  Районный, городской, межрайонный суд   \n",
       "\n",
       "   valueHash                             valueWOHL  \\\n",
       "0        NaN  Районный, городской, межрайонный суд   \n",
       "\n",
       "                                                                                                                                                                                                  case_url  \n",
       "0  https://bsr.sudrf.ru/bigs/showDocument.html#id=a81fac59fa17cf587a7064886c305249&shard=%D0%94%D0%B5%D0%BB%D0%B0%20%D0%BE%D0%B1%20%D0%90%D0%9F&from=p&r={%22start%22:120,%22rows%22:10,%22uid%22:%2226...  "
      ]
     },
     "execution_count": 27,
     "metadata": {},
     "output_type": "execute_result"
    }
   ],
   "source": [
    "df = pd.read_csv(\"data/Пропаганда/csv/Дело_об_административном_правонарушении_5-65_2018_2018-03-19T04:00:00.csv\")\n",
    "df.head(1)"
   ]
  },
  {
   "cell_type": "code",
   "execution_count": 28,
   "metadata": {},
   "outputs": [
    {
     "data": {
      "text/html": [
       "<div>\n",
       "<style scoped>\n",
       "    .dataframe tbody tr th:only-of-type {\n",
       "        vertical-align: middle;\n",
       "    }\n",
       "\n",
       "    .dataframe tbody tr th {\n",
       "        vertical-align: top;\n",
       "    }\n",
       "\n",
       "    .dataframe thead th {\n",
       "        text-align: right;\n",
       "    }\n",
       "</style>\n",
       "<table border=\"1\" class=\"dataframe\">\n",
       "  <thead>\n",
       "    <tr style=\"text-align: right;\">\n",
       "      <th></th>\n",
       "      <th>actualValue</th>\n",
       "      <th>comment</th>\n",
       "      <th>dateValue</th>\n",
       "      <th>doubleValue</th>\n",
       "      <th>highlighting</th>\n",
       "      <th>languages</th>\n",
       "      <th>linkField</th>\n",
       "      <th>linkName</th>\n",
       "      <th>linkValue</th>\n",
       "      <th>longValue</th>\n",
       "      <th>markup</th>\n",
       "      <th>name</th>\n",
       "      <th>presentationName</th>\n",
       "      <th>tableCols</th>\n",
       "      <th>value</th>\n",
       "      <th>valueHash</th>\n",
       "      <th>valueWOHL</th>\n",
       "      <th>case_url</th>\n",
       "    </tr>\n",
       "  </thead>\n",
       "  <tbody>\n",
       "    <tr>\n",
       "      <th>6</th>\n",
       "      <td>NaN</td>\n",
       "      <td>Статья КоАП, другой закон</td>\n",
       "      <td>NaN</td>\n",
       "      <td>NaN</td>\n",
       "      <td>[]</td>\n",
       "      <td>NaN</td>\n",
       "      <td>NaN</td>\n",
       "      <td>NaN</td>\n",
       "      <td>NaN</td>\n",
       "      <td>NaN</td>\n",
       "      <td>[]</td>\n",
       "      <td>adm_case_common_article</td>\n",
       "      <td>NaN</td>\n",
       "      <td>NaN</td>\n",
       "      <td>Статья 6.13 Часть 1</td>\n",
       "      <td>NaN</td>\n",
       "      <td>Статья 6.13 Часть 1</td>\n",
       "      <td>https://bsr.sudrf.ru/bigs/showDocument.html#id=a81fac59fa17cf587a7064886c305249&amp;shard=%D0%94%D0%B5%D0%BB%D0%B0%20%D0%BE%D0%B1%20%D0%90%D0%9F&amp;from=p&amp;r={%22start%22:120,%22rows%22:10,%22uid%22:%2226...</td>\n",
       "    </tr>\n",
       "    <tr>\n",
       "      <th>17</th>\n",
       "      <td>NaN</td>\n",
       "      <td>Статья или категория</td>\n",
       "      <td>NaN</td>\n",
       "      <td>NaN</td>\n",
       "      <td>[]</td>\n",
       "      <td>NaN</td>\n",
       "      <td>NaN</td>\n",
       "      <td>NaN</td>\n",
       "      <td>NaN</td>\n",
       "      <td>NaN</td>\n",
       "      <td>[]</td>\n",
       "      <td>case_document_category_article</td>\n",
       "      <td>NaN</td>\n",
       "      <td>NaN</td>\n",
       "      <td>Статья 6.13 Часть 1</td>\n",
       "      <td>2.978485e+08</td>\n",
       "      <td>Статья 6.13 Часть 1</td>\n",
       "      <td>https://bsr.sudrf.ru/bigs/showDocument.html#id=a81fac59fa17cf587a7064886c305249&amp;shard=%D0%94%D0%B5%D0%BB%D0%B0%20%D0%BE%D0%B1%20%D0%90%D0%9F&amp;from=p&amp;r={%22start%22:120,%22rows%22:10,%22uid%22:%2226...</td>\n",
       "    </tr>\n",
       "    <tr>\n",
       "      <th>20</th>\n",
       "      <td>NaN</td>\n",
       "      <td>Статья КоАП, другой закон</td>\n",
       "      <td>NaN</td>\n",
       "      <td>NaN</td>\n",
       "      <td>[]</td>\n",
       "      <td>NaN</td>\n",
       "      <td>NaN</td>\n",
       "      <td>NaN</td>\n",
       "      <td>NaN</td>\n",
       "      <td>NaN</td>\n",
       "      <td>[]</td>\n",
       "      <td>case_common_parts_law_article</td>\n",
       "      <td>NaN</td>\n",
       "      <td>NaN</td>\n",
       "      <td>КоАП: ст. 6.13 ч.1</td>\n",
       "      <td>-1.315302e+09</td>\n",
       "      <td>КоАП: ст. 6.13 ч.1</td>\n",
       "      <td>https://bsr.sudrf.ru/bigs/showDocument.html#id=a81fac59fa17cf587a7064886c305249&amp;shard=%D0%94%D0%B5%D0%BB%D0%B0%20%D0%BE%D0%B1%20%D0%90%D0%9F&amp;from=p&amp;r={%22start%22:120,%22rows%22:10,%22uid%22:%2226...</td>\n",
       "    </tr>\n",
       "  </tbody>\n",
       "</table>\n",
       "</div>"
      ],
      "text/plain": [
       "    actualValue                    comment dateValue  doubleValue  \\\n",
       "6           NaN  Статья КоАП, другой закон       NaN          NaN   \n",
       "17          NaN       Статья или категория       NaN          NaN   \n",
       "20          NaN  Статья КоАП, другой закон       NaN          NaN   \n",
       "\n",
       "   highlighting  languages linkField linkName linkValue  longValue markup  \\\n",
       "6            []        NaN       NaN      NaN       NaN        NaN     []   \n",
       "17           []        NaN       NaN      NaN       NaN        NaN     []   \n",
       "20           []        NaN       NaN      NaN       NaN        NaN     []   \n",
       "\n",
       "                              name  presentationName tableCols  \\\n",
       "6          adm_case_common_article               NaN       NaN   \n",
       "17  case_document_category_article               NaN       NaN   \n",
       "20   case_common_parts_law_article               NaN       NaN   \n",
       "\n",
       "                  value     valueHash            valueWOHL  \\\n",
       "6   Статья 6.13 Часть 1           NaN  Статья 6.13 Часть 1   \n",
       "17  Статья 6.13 Часть 1  2.978485e+08  Статья 6.13 Часть 1   \n",
       "20   КоАП: ст. 6.13 ч.1 -1.315302e+09   КоАП: ст. 6.13 ч.1   \n",
       "\n",
       "                                                                                                                                                                                                   case_url  \n",
       "6   https://bsr.sudrf.ru/bigs/showDocument.html#id=a81fac59fa17cf587a7064886c305249&shard=%D0%94%D0%B5%D0%BB%D0%B0%20%D0%BE%D0%B1%20%D0%90%D0%9F&from=p&r={%22start%22:120,%22rows%22:10,%22uid%22:%2226...  \n",
       "17  https://bsr.sudrf.ru/bigs/showDocument.html#id=a81fac59fa17cf587a7064886c305249&shard=%D0%94%D0%B5%D0%BB%D0%B0%20%D0%BE%D0%B1%20%D0%90%D0%9F&from=p&r={%22start%22:120,%22rows%22:10,%22uid%22:%2226...  \n",
       "20  https://bsr.sudrf.ru/bigs/showDocument.html#id=a81fac59fa17cf587a7064886c305249&shard=%D0%94%D0%B5%D0%BB%D0%B0%20%D0%BE%D0%B1%20%D0%90%D0%9F&from=p&r={%22start%22:120,%22rows%22:10,%22uid%22:%2226...  "
      ]
     },
     "execution_count": 28,
     "metadata": {},
     "output_type": "execute_result"
    }
   ],
   "source": [
    "df[df[\"comment\"].str.contains(\"Статья\")]"
   ]
  },
  {
   "cell_type": "code",
   "execution_count": 26,
   "metadata": {},
   "outputs": [
    {
     "data": {
      "text/plain": [
       "20    статья 6.13 часть 1\n",
       "Name: value, dtype: object"
      ]
     },
     "execution_count": 26,
     "metadata": {},
     "output_type": "execute_result"
    }
   ],
   "source": [
    "df[df[\"comment\"]==\"Статья закона\"][\"value\"]"
   ]
  },
  {
   "cell_type": "code",
   "execution_count": null,
   "metadata": {},
   "outputs": [],
   "source": [
    "list(df[\"comment\"])"
   ]
  },
  {
   "cell_type": "code",
   "execution_count": 14,
   "metadata": {},
   "outputs": [
    {
     "data": {
      "text/plain": [
       "[]"
      ]
     },
     "execution_count": 14,
     "metadata": {},
     "output_type": "execute_result"
    }
   ],
   "source": [
    "def get_defendants(defendants: pd.Series):\n",
    "    names = []\n",
    "    for i, text in defendants.iteritems():\n",
    "        name = text\n",
    "        names.append(name)\n",
    "    return names\n",
    "\n",
    "def get_article\n",
    "\n",
    "get_defendants(df[df[\"comment\"]==\"Лица\"][\"value\"])"
   ]
  },
  {
   "cell_type": "code",
   "execution_count": 29,
   "metadata": {},
   "outputs": [
    {
     "name": "stdout",
     "output_type": "stream",
     "text": [
      "Series([], Name: dateValue, dtype: object)\n",
      "Series([], Name: dateValue, dtype: object)\n",
      "Series([], Name: dateValue, dtype: object)\n",
      "Series([], Name: dateValue, dtype: object)\n",
      "Series([], Name: dateValue, dtype: object)\n",
      "Series([], Name: dateValue, dtype: object)\n",
      "Series([], Name: dateValue, dtype: object)\n",
      "Series([], Name: dateValue, dtype: object)\n",
      "Series([], Name: dateValue, dtype: object)\n",
      "Series([], Name: dateValue, dtype: object)\n",
      "Series([], Name: dateValue, dtype: object)\n",
      "Series([], Name: dateValue, dtype: object)\n",
      "Series([], Name: dateValue, dtype: object)\n",
      "Series([], Name: dateValue, dtype: object)\n",
      "Series([], Name: dateValue, dtype: object)\n",
      "Series([], Name: dateValue, dtype: object)\n"
     ]
    }
   ],
   "source": [
    "import traceback\n",
    "\n",
    "dfs = []\n",
    "for fpath in glob.glob(\"data/Пропаганда/csv/*\"):\n",
    "    df = pd.read_csv(fpath)\n",
    "    try:\n",
    "        try:\n",
    "            judgement_date = df[df[\"comment\"]==\"Дата решения\"][\"dateValue\"].iloc[0]\n",
    "        except IndexError:\n",
    "            judgement_date = None\n",
    "            print(df[df[\"comment\"]==\"Дата решения\"][\"dateValue\"])\n",
    "        df_parsed = pd.DataFrame.from_dict(\n",
    "            {\n",
    "                \"Текст\": [parse_text(df[df[\"comment\"]==\"Текст документа\"]['value'].values[0])],\n",
    "                \"Дата решения\": [judgement_date],\n",
    "                \"Уровень по субъекту\": [df[df[\"comment\"]==\"Уровень по субъекту\"][\"longValue\"].iloc[0]],\n",
    "                \"Год регистрации дела\": [df[df[\"comment\"]==\"Год регистрации дела\"][\"longValue\"].iloc[0]],\n",
    "                \"Статья УК РФ\": [df[df[\"comment\"]==\"Статья или категория\"][\"value\"].iloc[0]],\n",
    "                # \"Тип дела\": [df[df[\"comment\"]==\"Тип дела\"][\"value\"].iloc[0]],\n",
    "                \"Субъект РФ\": [df[df[\"comment\"]==\"Субъект РФ\"][\"value\"].iloc[0]],\n",
    "                \"Округ РФ\": [df[df[\"comment\"]==\"Округ РФ\"][\"value\"].iloc[0]],\n",
    "                \"Наименование суда\": [df[df[\"comment\"]==\"Наименование суда\"][\"value\"].iloc[0]],\n",
    "                \"Результат\": [df[df[\"comment\"]==\"Результат\"][\"value\"].iloc[0]],\n",
    "                \"Уровень суда\": [df[df[\"comment\"]==\"Уровень суда\"][\"value\"].iloc[0]],\n",
    "                \"Вид судопроизводства\": [df[df[\"comment\"]==\"Вид судопроизводства\"][\"value\"].iloc[0]],\n",
    "                \"Лица\": [list(df[df[\"comment\"]==\"ФИО\"][\"value\"])],\n",
    "                \"Подсудимые\": [get_defendants(df[df[\"comment\"]==\"Лица\"][\"value\"])],\n",
    "                \"Тип документа\": [df[df[\"comment\"]==\"Тип документа\"][\"value\"].iloc[0]],\n",
    "                \"Номер дела (материала)\": [df[df[\"comment\"]==\"Номер дела (материала)\"][\"value\"].iloc[0]],\n",
    "                \"Инстанция\": [df[df[\"comment\"]==\"Инстанция\"][\"value\"].iloc[0]],\n",
    "                \"Судья\": [df[df[\"comment\"]==\"Судья\"][\"value\"].iloc[0]],\n",
    "                \"Решение\": [df[df[\"comment\"]==\"Решение\"][\"value\"].iloc[0]]\n",
    "\n",
    "            })\n",
    "        dfs.append(df_parsed)\n",
    "    except:\n",
    "        print(fpath)\n",
    "        print(traceback.format_exc())"
   ]
  },
  {
   "cell_type": "code",
   "execution_count": 30,
   "metadata": {},
   "outputs": [
    {
     "data": {
      "text/plain": [
       "461"
      ]
     },
     "execution_count": 30,
     "metadata": {},
     "output_type": "execute_result"
    }
   ],
   "source": [
    "len(dfs)"
   ]
  },
  {
   "cell_type": "code",
   "execution_count": 31,
   "metadata": {},
   "outputs": [],
   "source": [
    "result_df = pd.concat(dfs, ignore_index=True)"
   ]
  },
  {
   "cell_type": "code",
   "execution_count": 32,
   "metadata": {},
   "outputs": [],
   "source": [
    "result_df.to_csv(\"data/Пропаганда/all_cases_parsed.csv\")"
   ]
  },
  {
   "cell_type": "code",
   "execution_count": 33,
   "metadata": {},
   "outputs": [
    {
     "data": {
      "text/html": [
       "<div>\n",
       "<style scoped>\n",
       "    .dataframe tbody tr th:only-of-type {\n",
       "        vertical-align: middle;\n",
       "    }\n",
       "\n",
       "    .dataframe tbody tr th {\n",
       "        vertical-align: top;\n",
       "    }\n",
       "\n",
       "    .dataframe thead th {\n",
       "        text-align: right;\n",
       "    }\n",
       "</style>\n",
       "<table border=\"1\" class=\"dataframe\">\n",
       "  <thead>\n",
       "    <tr style=\"text-align: right;\">\n",
       "      <th></th>\n",
       "      <th>Текст</th>\n",
       "      <th>Дата решения</th>\n",
       "      <th>Уровень по субъекту</th>\n",
       "      <th>Год регистрации дела</th>\n",
       "      <th>Статья УК РФ</th>\n",
       "      <th>Субъект РФ</th>\n",
       "      <th>Округ РФ</th>\n",
       "      <th>Наименование суда</th>\n",
       "      <th>Результат</th>\n",
       "      <th>Уровень суда</th>\n",
       "      <th>Вид судопроизводства</th>\n",
       "      <th>Лица</th>\n",
       "      <th>Подсудимые</th>\n",
       "      <th>Тип документа</th>\n",
       "      <th>Номер дела (материала)</th>\n",
       "      <th>Инстанция</th>\n",
       "      <th>Судья</th>\n",
       "      <th>Решение</th>\n",
       "    </tr>\n",
       "  </thead>\n",
       "  <tbody>\n",
       "    <tr>\n",
       "      <th>0</th>\n",
       "      <td>\\r\\n\\r\\n\\r\\n\\r\\n\\r\\n№ 5-629/18\\r\\nПостановление\\r\\nпо делу об административном правонарушении\\r\\n28 сентября 2018 года                       г. Ижевск\\r\\nСудья Индустриального районного суда г. Иж...</td>\n",
       "      <td>2018-09-28T01:00:00</td>\n",
       "      <td>3.0</td>\n",
       "      <td>2018.0</td>\n",
       "      <td>Статья 6.13 Часть 1</td>\n",
       "      <td>Удмуртская Республика</td>\n",
       "      <td>Приволжский федеральный округ</td>\n",
       "      <td>Индустриальный районный суд г. Ижевска</td>\n",
       "      <td>Вынесено постановление о прекращении производства по делу об адм. правонарушении</td>\n",
       "      <td>Районный, городской, межрайонный суд</td>\n",
       "      <td>Дело об административном правонарушении</td>\n",
       "      <td>[]</td>\n",
       "      <td>[]</td>\n",
       "      <td>Постановление</td>\n",
       "      <td>5-629/2018</td>\n",
       "      <td>Первая инстанция</td>\n",
       "      <td>Чернышова Эльвира Леонидовна</td>\n",
       "      <td>Прекращено производство по делу по основаниям ст. 24.5 Кодекса</td>\n",
       "    </tr>\n",
       "  </tbody>\n",
       "</table>\n",
       "</div>"
      ],
      "text/plain": [
       "                                                                                                                                                                                                     Текст  \\\n",
       "0  \\r\\n\\r\\n\\r\\n\\r\\n\\r\\n№ 5-629/18\\r\\nПостановление\\r\\nпо делу об административном правонарушении\\r\\n28 сентября 2018 года                       г. Ижевск\\r\\nСудья Индустриального районного суда г. Иж...   \n",
       "\n",
       "          Дата решения  Уровень по субъекту  Год регистрации дела  \\\n",
       "0  2018-09-28T01:00:00                  3.0                2018.0   \n",
       "\n",
       "          Статья УК РФ             Субъект РФ                       Округ РФ  \\\n",
       "0  Статья 6.13 Часть 1  Удмуртская Республика  Приволжский федеральный округ   \n",
       "\n",
       "                        Наименование суда  \\\n",
       "0  Индустриальный районный суд г. Ижевска   \n",
       "\n",
       "                                                                          Результат  \\\n",
       "0  Вынесено постановление о прекращении производства по делу об адм. правонарушении   \n",
       "\n",
       "                           Уровень суда  \\\n",
       "0  Районный, городской, межрайонный суд   \n",
       "\n",
       "                      Вид судопроизводства Лица Подсудимые  Тип документа  \\\n",
       "0  Дело об административном правонарушении   []         []  Постановление   \n",
       "\n",
       "  Номер дела (материала)         Инстанция                         Судья  \\\n",
       "0             5-629/2018  Первая инстанция  Чернышова Эльвира Леонидовна   \n",
       "\n",
       "                                                          Решение  \n",
       "0  Прекращено производство по делу по основаниям ст. 24.5 Кодекса  "
      ]
     },
     "execution_count": 33,
     "metadata": {},
     "output_type": "execute_result"
    }
   ],
   "source": [
    "result_df.head(1)"
   ]
  },
  {
   "cell_type": "code",
   "execution_count": 48,
   "metadata": {},
   "outputs": [],
   "source": [
    "for fpath in glob.glob(\"data/Пропаганда/csv/*\"):\n",
    "    try:\n",
    "        fname = fpath.split(\"/\")[-1].split(\".csv\")[0]+\".txt\"\n",
    "        df = pd.read_csv(fpath)\n",
    "        text = parse_text(df[df[\"comment\"]==\"Текст документа\"]['value'].values[0])\n",
    "        with open(\"data/Пропаганда/txt/\"+fname, \"w\") as f:\n",
    "            f.write(text)\n",
    "    except:\n",
    "        print(fname)\n",
    "        print(traceback.format_exc())"
   ]
  },
  {
   "cell_type": "code",
   "execution_count": 36,
   "metadata": {},
   "outputs": [],
   "source": [
    "import ner"
   ]
  },
  {
   "cell_type": "code",
   "execution_count": 38,
   "metadata": {},
   "outputs": [],
   "source": [
    "test_text = result_df.loc[0][\"Текст\"]"
   ]
  },
  {
   "cell_type": "code",
   "execution_count": 43,
   "metadata": {},
   "outputs": [
    {
     "data": {
      "text/plain": [
       "['\\r',\n",
       " '\\r',\n",
       " '\\r',\n",
       " '\\r',\n",
       " '\\r',\n",
       " '№ 5-629/18\\r',\n",
       " 'Постановление\\r',\n",
       " 'по делу об административном правонарушении\\r',\n",
       " '28 сентября 2018 года \\xa0\\xa0\\xa0\\xa0\\xa0\\xa0\\xa0\\xa0\\xa0\\xa0\\xa0\\xa0\\xa0\\xa0\\xa0\\xa0 \\xa0\\xa0\\xa0\\xa0 г. Ижевск\\r',\n",
       " 'Судья Индустриального районного суда г. Ижевска Чернышова Э.Л. с участием лица, в отношении которого ведется производство по делу об административном правонарушении Баушкинера Я.М., \\r',\n",
       " 'рассмотрев в открытом судебном заседании дело об административном правонарушении в отношении Баушкинера Я.М., -Дата- года рождения, уроженца ..., безработного, зарегистрированного по адресу: ..., ранее к административной ответственности за совершение однородных правонарушений не привлекался, \\r',\n",
       " 'привлекаемого к административной ответственности по ч. 1 ст. 6.13 Кодекса РФ об административных правонарушениях,\\r',\n",
       " 'установил:\\r',\n",
       " 'На рассмотрение в Индустриальный районный суд г.Ижевска по результатам административного расследования поступили материалы дела об административном правонарушении в отношении Баушкинера Я.М. \\r',\n",
       " 'Согласно протоколу об административном правонарушении № от -Дата-, в период с -Дата- года по -Дата- года Баушкинер Я.М., находясь по месту своего проживания по адресу ..., в сети «Интернет» на сайте «vk.com» на своей странице «Роман Быков» разместил для общего пользования фотографии, изображения и комментарии к ним, при помощи которых Баушкинер Я.М. осуществлял пропаганду и рекламу наркотического средства неуточненной группы путем распространения в сети «Интернет» информации о наркотических веществах, психотропных средствах и их употреблении. В ходе мониторинга, проведенного сотрудниками УНК МВД России по УР, в сети «Интернет» были обнаружены сведения в отношении пользователя сайта «vk.com» «Роман Быков», разместившего на своей странице информацию, содержащую признаки пропаганды потребления наркотиков. Изъяты скриншоты с фотографиями и комментариями к ним, в которых содержались изображения и надписи, указывающие на признаки пропаганды потребления наркотических средств. \\r',\n",
       " 'Согласно заключению экспертов № от -Дата-, смысл изображений на представленных объектах – фотографиях с комментариями к ним, распечатанных со страницы Баушкинера Я.М. «Роман Быков», находящейся в сети «Интернет» на сайте «vk.com», заключается в формировании интереса пользователей ресурса к наркотическим средствам и их употреблению. Указанные изображения, надписи, комментарии побуждают к проявлению интереса к наркотическим средствам, психотропным веществам и их прекурсорам. Изображения на представленных объектах содержат признаки рекламы и пропаганды наркотических средств, психотропных веществ или их прекурсоров неуточненной группы. \\r',\n",
       " 'В судебном заседании Баушкинер Я.М. признал свою вину в совершении административного правонарушения в полном объеме, обстоятельства, установленные в протоколе об административном правонарушении, не оспаривал, раскаялся в содеянном, суду пояснил, что не имел умысла на распространение информации о наркотических средствах, проявление интереса к ним, он, напротив, высмеивал тем, кто употребляет наркотические средства, события, вменяемые в вину происходили 5-8 лет назад, после того, как его пригласили в административный орган для дачи объяснений, по приезду домой он попытался найти на своей странице в сети «В контакте» в «ленте новостей» ту информацию, о которой узнал в наркоконтроле, спустя полтора часа, просил освободить его от административной ответственности, ограничиться устным замечанием.\\r',\n",
       " 'В соответствии с частью 1 статьи 6.13 Кодекса Российской Федерации об административных правонарушениях пропаганда либо незаконная реклама наркотических средств, психотропных веществ или их прекурсоров, растений, содержащих наркотические средства или психотропные вещества либо их прекурсоры, и их частей, содержащих наркотические средства или психотропные вещества либо их прекурсоры, влечет назначение административного наказания.\\r',\n",
       " 'Объектом правонарушения, предусмотренного ч.1 ст. 6.13 КоАП РФ, выступает здоровье населения.\\r',\n",
       " 'Согласно статьям 3 и 7 Федерального закона от 13 марта 2006 г. N 38-ФЗ \"О рекламе\" реклама - это информация, распространенная любым способом, в любой форме и с использованием любых средств, адресованная неопределенному кругу лиц и направленная на привлечение внимания к объекту рекламирования, формирование или поддержание интереса к нему и его продвижение на рынке. Не допускается реклама наркотических средств, психотропных веществ и их прекурсоров, растений, содержащих наркотические средства или психотропные вещества либо их прекурсоры, и их частей, содержащих наркотические средства или психотропные вещества либо их прекурсоры.\\r',\n",
       " 'В соответствии с ч. 1, 2 ст. 46 Федерального закона от 08.01.1998 N 3-ФЗ \"О наркотических средствах и психотропных веществах\", пропаганда наркотических средств, психотропных веществ и их прекурсоров, новых потенциально опасных психоактивных веществ, культивирования наркосодержащих растений, осуществляемая юридическими или физическими лицами и направленная на распространение сведений о способах, методах разработки, изготовления и использования наркотических средств, психотропных веществ и их прекурсоров, новых потенциально опасных психоактивных веществ, местах их приобретения, способах и местах культивирования наркосодержащих растений, а также производство и распространение книжной продукции, продукции средств массовой информации, распространение указанных сведений посредством использования информационно-телекоммуникационных сетей или совершение иных действий в этих целях запрещаются.\\r',\n",
       " 'Запрещается пропаганда каких-либо преимуществ в использовании отдельных наркотических средств, психотропных веществ, их аналогов или прекурсоров, новых потенциально опасных психоактивных веществ, наркосодержащих растений, в том числе пропаганда использования в медицинских целях наркотических средств, психотропных веществ, новых потенциально опасных психоактивных веществ, наркосодержащих растений, подавляющих волю человека либо отрицательно влияющих на его психическое или физическое здоровье.\\r',\n",
       " 'Вина Баушкинера Я.М. в совершении административного правонарушения подтверждается совокупностью исследованных в ходе рассмотрения административного дела доказательств: \\r',\n",
       " '- протоколом об административном правонарушении № от -Дата-, \\r',\n",
       " '- протоколом об изъятии вещей и документов от -Дата-;\\r',\n",
       " '- заключением экспертов по комплексной психолого-лингвистической экспертизе от -Дата-;\\r',\n",
       " '- объяснениями Баушкинера Я.М., \\r',\n",
       " '- рапортом об обнаружении признаков правонарушения оперуполномоченного отделения АП 5 отдела УНК МВД по УР Шутова С.И. от -Дата-,\\r',\n",
       " '- скриншотами страниц со страницы пользователя «Роман Быков» в сети «Интернет» на сайте «vk.com». \\r',\n",
       " 'Собранные по делу доказательства суд считает относимыми, допустимыми и в совокупности достаточными для привлечения Баушкинера Я.М. к административной ответственности по ч.1 ст. 6.13. КоАП РФ.\\r',\n",
       " 'Вместе с тем, считаю возможным освободить Баушкинера Я.М. от административной ответственности на основании ст. 2.9 КоАП РФ.\\r',\n",
       " 'Согласно статье 2.9 КоАП РФ при малозначительности совершенного правонарушения судья, орган, должностное лицо, уполномоченные решить дело об административном правонарушении, могут освободить лицо, совершившее административное правонарушение, от административной ответственности и ограничиться устным замечанием.\\r',\n",
       " 'Малозначительность правонарушения имеет место при отсутствии существенной угрозы охраняемым общественным отношениям. Такие обстоятельства, как личность и имущественное положение привлекаемого к ответственности лица, добровольное устранение последствий правонарушения, возмещение причиненного ущерба, не являются обстоятельствами, свидетельствующими о малозначительности правонарушения. Данные обстоятельства, в силу частей 2, 3 статьи 4.1 КоАП РФ, учитываются при назначении административного наказания.\\r',\n",
       " 'В соответствии с абзацем третьим пункта 21 постановления Пленума Верховного Суда Российской Федерации от 24 марта 2005 г. N 5 \"О некоторых вопросах, возникающих у судов при применении Кодекса Российской Федерации об административных правонарушениях\" малозначительным административным правонарушением является действие или бездействие, хотя формально и содержащее признаки состава административного правонарушения, но с учетом характера совершенного правонарушения и роли правонарушителя, размера вреда и тяжести наступивших последствий не представляющее существенного нарушения охраняемых общественных правоотношений.\\r',\n",
       " 'По смыслу названных норм и разъяснений оценка малозначительности деяния должна соотноситься с характером и степенью общественной опасности, причинением вреда либо с угрозой причинения вреда личности, обществу или государству. Категория малозначительности относится к числу оценочных, в связи с чем, определяется в каждом конкретном случае исходя из обстоятельств совершенного правонарушения.\\r',\n",
       " 'Учитывая характер совершенного правонарушения, давность событий, на основании которых составлен протокол, отсутствие актуальности размещенной информации в силу труднодоступности ее получения, отсутствие у пользователей сети какого-либо интереса к информации, размещенной в -Дата---Дата- году, роль правонарушителя, отсутствие в настоящее время угрозы охраняемым общественным отношениям, прихожу к выводу о малозначительности совершенного Баушкинером Я.М. правонарушения, считаю возможным освободить его от административной ответственности и ограничиться устным замечанием.\\r',\n",
       " 'На основании изложенного, руководствуясь ст.ст. 2.9, 29.10 Кодекса РФ об административных правонарушениях, судья \\r',\n",
       " 'постановил:\\r',\n",
       " 'освободить Баушкинера Я.М. от административной ответственности за совершение административного правонарушения, предусмотренного ч. 1 ст. 6.13 Кодекса РФ об административных правонарушениях, ограничиться устным замечанием.\\r',\n",
       " 'Постановление может быть обжаловано в Верховный Суд Удмуртской Республики в течение 10 суток со дня получения или вручения копии постановления через Индустриальный районный суд г.Ижевска.\\r',\n",
       " 'Судья \\xa0\\xa0\\xa0\\xa0 \\xa0\\xa0\\xa0\\xa0\\xa0\\xa0\\xa0\\xa0\\xa0\\xa0\\xa0\\xa0\\xa0\\xa0\\xa0\\xa0\\xa0\\xa0\\xa0\\xa0 Э.Л. Чернышова']"
      ]
     },
     "execution_count": 43,
     "metadata": {},
     "output_type": "execute_result"
    }
   ],
   "source": [
    "test_text.split(\"\\n\")"
   ]
  },
  {
   "cell_type": "code",
   "execution_count": 39,
   "metadata": {},
   "outputs": [],
   "source": [
    "extractor = ner.EntityExtractor(filename=\"tmp\", text=test_text)"
   ]
  },
  {
   "cell_type": "code",
   "execution_count": 40,
   "metadata": {},
   "outputs": [
    {
     "name": "stderr",
     "output_type": "stream",
     "text": [
      "2019-11-27 21:08:45,717 CRITICAL link Could not parse link from filename tmp, name 'html_extract' is not defined, skipping\n",
      "2019-11-27 21:08:45,731 ERROR court_name Could not extract court_name, trying to parse from filename\n",
      "2019-11-27 21:08:45,733 ERROR court_name Could not extract court_name, trying to parse from filename\n",
      "2019-11-27 21:08:45,764 WARNING defendants Could not extract defendatns: 'NoneType' object has no attribute 'group'\n",
      "2019-11-27 21:08:45,796 WARNING drugs No drugs found in whole text, check matches: []\n",
      "2019-11-27 21:08:45,818 WARNING drugs No drugs found in whole text, check matches: []\n"
     ]
    },
    {
     "data": {
      "text/plain": [
       "{'Ссылка': 'нет данных',\n",
       " 'Файл': 'tmp',\n",
       " 'Суд': 'нет данных',\n",
       " 'Дата приговора': '2018/9/28',\n",
       " 'ФИО': '',\n",
       " 'Особый порядок': 'нет',\n",
       " 'Судимость': 'нет данных',\n",
       " 'Вид наказания': 'нет данных',\n",
       " 'Срок наказания в месяцах': 'нет данных',\n",
       " 'Отбывал ли ранее лишение свободы': 'нет данных',\n",
       " 'Наркотики': '',\n",
       " 'Главный наркотик': '',\n",
       " 'Размер': '',\n",
       " 'Смягчающие обстоятельства': 'нет данных',\n",
       " 'Отягчающие обстоятельства': 'нет данных'}"
      ]
     },
     "execution_count": 40,
     "metadata": {},
     "output_type": "execute_result"
    }
   ],
   "source": [
    "target_keys = ['Особый порядок', 'Судимость']\n",
    "extractor.summary_dict"
   ]
  },
  {
   "cell_type": "code",
   "execution_count": null,
   "metadata": {},
   "outputs": [],
   "source": []
  }
 ],
 "metadata": {
  "kernelspec": {
   "display_name": "Python 3",
   "language": "python",
   "name": "python3"
  },
  "language_info": {
   "codemirror_mode": {
    "name": "ipython",
    "version": 3
   },
   "file_extension": ".py",
   "mimetype": "text/x-python",
   "name": "python",
   "nbconvert_exporter": "python",
   "pygments_lexer": "ipython3",
   "version": "3.6.0"
  }
 },
 "nbformat": 4,
 "nbformat_minor": 2
}
