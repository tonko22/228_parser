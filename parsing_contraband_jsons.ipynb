{
 "cells": [
  {
   "cell_type": "code",
   "execution_count": 118,
   "metadata": {},
   "outputs": [],
   "source": [
    "import pandas as pd\n",
    "import pprint\n",
    "import glob"
   ]
  },
  {
   "cell_type": "code",
   "execution_count": 98,
   "metadata": {},
   "outputs": [],
   "source": [
    "pd.options.display.max_colwidth = 200"
   ]
  },
  {
   "cell_type": "code",
   "execution_count": 79,
   "metadata": {},
   "outputs": [],
   "source": [
    "from html.parser import HTMLParser\n",
    "\n",
    "class CaseHTMLParser(HTMLParser):\n",
    "    def __init__(self):\n",
    "        super().__init__()\n",
    "        self.data_parts = []\n",
    "\n",
    "    def handle_data(self, data):\n",
    "        self.data_parts.append(data)\n",
    "        \n",
    "def parse_text(case_text_html: str):\n",
    "    parser = CaseHTMLParser()\n",
    "    parser.feed(case_text_html)\n",
    "    text = \"\".join(parser.data_parts)\n",
    "    parser.close()\n",
    "    return text"
   ]
  },
  {
   "cell_type": "code",
   "execution_count": 141,
   "metadata": {},
   "outputs": [
    {
     "data": {
      "text/plain": [
       "70"
      ]
     },
     "execution_count": 141,
     "metadata": {},
     "output_type": "execute_result"
    }
   ],
   "source": [
    "len(glob.glob(\"Дела/Сбыт/raw_csv/*\"))"
   ]
  },
  {
   "cell_type": "code",
   "execution_count": 139,
   "metadata": {},
   "outputs": [],
   "source": [
    "for fpath in glob.glob(\"Дела/Сбыт/raw_csv/*\"):\n",
    "    try:\n",
    "        fname = fpath.split(\"/\")[-1].split(\".csv\")[0]+\".txt\"\n",
    "        df = pd.read_csv(fpath)\n",
    "        text = parse_text(df[df[\"comment\"]==\"Текст документа\"]['value'].values[0])\n",
    "        with open(\"Дела/Сбыт/txt/\"+fname, \"w\") as f:\n",
    "            f.write(text)\n",
    "    except:\n",
    "        print(fname)"
   ]
  },
  {
   "cell_type": "code",
   "execution_count": 76,
   "metadata": {},
   "outputs": [],
   "source": [
    "df = pd.read_csv(\"contraband_cases/Уголовное_дело_1-1_2018_(1-67_2017;)_2018-03-28T01:00:00.csv\")"
   ]
  },
  {
   "cell_type": "code",
   "execution_count": 110,
   "metadata": {},
   "outputs": [
    {
     "data": {
      "text/plain": [
       "Series([], Name: value, dtype: object)"
      ]
     },
     "execution_count": 110,
     "metadata": {},
     "output_type": "execute_result"
    }
   ],
   "source": [
    "df[df[\"comment\"]==\"Уровнь суда\"][\"value\"]"
   ]
  },
  {
   "cell_type": "code",
   "execution_count": 116,
   "metadata": {},
   "outputs": [
    {
     "data": {
      "text/plain": [
       "['Мельник А.В..  ...  .28.03.2018.  ...  .ст. 30 ч.3, ст.228.1 ч.4 п.г; ст.33 ч.3-ст.229.1 ч.3 УК РФ.  ...  .ОБВИНИТЕЛЬНЫЙ приговор', 'Диденко Ю.А..  ...  .28.03.2018.  ...  .ст. 30 ч.3, ст.228.1 ч.4 п.г; ст.229.1 ч.3 УК РФ.  ...  .ОБВИНИТЕЛЬНЫЙ приговор', 'Ангелов Г.В..  ...  .28.03.2018.  ...  .ст. 30 ч.3, ст.228.1 ч.4 п.г; ст.229.1 ч.3 УК РФ.  ...  .ОБВИНИТЕЛЬНЫЙ приговор', 'Саяшкина Е.А..  ...  .28.03.2018.  ...  .ст. 30 ч.3, ст.33 ч.5-ст.228.1 ч.4 п.г; ст.229.1 ч.3 УК РФ.  ...  .ОБВИНИТЕЛЬНЫЙ приговор', 'Саяшкина Е.А..  ...  .28.03.2018.  ...  .ст. 30 ч.3, ст.33 ч.5-ст.228.1 ч.4 п.г; ст.229.1 ч.3 УК РФ.  ...  .ОБВИНИТЕЛЬНЫЙ приговор', 'Ангелов Г.В..  ...  .28.03.2018.  ...  .ст. 30 ч.3, ст.228.1 ч.4 п.г; ст.229.1 ч.3 УК РФ.  ...  .ОБВИНИТЕЛЬНЫЙ приговор', 'Диденко Ю.А..  ...  .28.03.2018.  ...  .ст. 30 ч.3, ст.228.1 ч.4 п.г; ст.229.1 ч.3 УК РФ.  ...  .ОБВИНИТЕЛЬНЫЙ приговор', 'Мельник А.В..  ...  .28.03.2018.  ...  .ст. 30 ч.3, ст.228.1 ч.4 п.г; ст.33 ч.3-ст.229.1 ч.3 УК РФ.  ...  .ОБВИНИТЕЛЬНЫЙ приговор']"
      ]
     },
     "execution_count": 116,
     "metadata": {},
     "output_type": "execute_result"
    }
   ],
   "source": [
    "def get_defendants(defendants: pd.Series):\n",
    "    names = []\n",
    "    for i, text in defendants.iteritems():\n",
    "        name = text\n",
    "        names.append(name)\n",
    "    return names\n",
    "\n",
    "get_defendants(df[df[\"comment\"]==\"Лица\"][\"value\"])"
   ]
  },
  {
   "cell_type": "code",
   "execution_count": 159,
   "metadata": {},
   "outputs": [
    {
     "name": "stdout",
     "output_type": "stream",
     "text": [
      "Series([], Name: dateValue, dtype: object)\n",
      "Series([], Name: dateValue, dtype: object)\n",
      "Series([], Name: dateValue, dtype: object)\n"
     ]
    }
   ],
   "source": [
    "import traceback\n",
    "\n",
    "dfs = []\n",
    "for fpath in glob.glob(\"Дела/Сбыт/raw_csv/*\"):\n",
    "    df = pd.read_csv(fpath)\n",
    "    try:\n",
    "        try:\n",
    "            judgement_date = df[df[\"comment\"]==\"Дата решения\"][\"dateValue\"].iloc[0]\n",
    "        except IndexError:\n",
    "            judgement_date = None\n",
    "            print(df[df[\"comment\"]==\"Дата решения\"][\"dateValue\"])\n",
    "        df_parsed = pd.DataFrame.from_dict(\n",
    "            {\n",
    "                \"Текст\": [parse_text(df[df[\"comment\"]==\"Текст документа\"]['value'].values[0])],\n",
    "                \"Дата решения\": [judgement_date],\n",
    "                \"Уровень по субъекту\": [df[df[\"comment\"]==\"Уровень по субъекту\"][\"longValue\"].iloc[0]],\n",
    "                \"Год регистрации дела\": [df[df[\"comment\"]==\"Год регистрации дела\"][\"longValue\"].iloc[0]],\n",
    "                \"Статья УК РФ\": [df[df[\"comment\"]==\"Статья УК РФ\"][\"value\"].iloc[0]],\n",
    "                \"Тип дела\": [df[df[\"comment\"]==\"Тип дела\"][\"value\"].iloc[0]],\n",
    "                \"Субъект РФ\": [df[df[\"comment\"]==\"Субъект РФ\"][\"value\"].iloc[0]],\n",
    "                \"Округ РФ\": [df[df[\"comment\"]==\"Округ РФ\"][\"value\"].iloc[0]],\n",
    "                \"Наименование суда\": [df[df[\"comment\"]==\"Наименование суда\"][\"value\"].iloc[0]],\n",
    "                \"Результат\": [df[df[\"comment\"]==\"Результат\"][\"value\"].iloc[0]],\n",
    "                \"Уровень суда\": [df[df[\"comment\"]==\"Уровень суда\"][\"value\"].iloc[0]],\n",
    "                \"Вид судопроизводства\": [df[df[\"comment\"]==\"Вид судопроизводства\"][\"value\"].iloc[0]],\n",
    "                \"Лица\": [list(df[df[\"comment\"]==\"ФИО\"][\"value\"])],\n",
    "                \"Подсудимые\": [get_defendants(df[df[\"comment\"]==\"Лица\"][\"value\"])],\n",
    "                \"Тип документа\": [df[df[\"comment\"]==\"Тип документа\"][\"value\"].iloc[0]],\n",
    "                \"Номер дела (материала)\": [df[df[\"comment\"]==\"Номер дела (материала)\"][\"value\"].iloc[0]],\n",
    "                \"Инстанция\": [df[df[\"comment\"]==\"Инстанция\"][\"value\"].iloc[0]],\n",
    "                \"Судья\": [df[df[\"comment\"]==\"Судья\"][\"value\"].iloc[0]],\n",
    "                \"Решение\": [df[df[\"comment\"]==\"Решение\"][\"value\"].iloc[0]]\n",
    "\n",
    "            })\n",
    "        dfs.append(df_parsed)\n",
    "    except:\n",
    "        print(fpath)\n",
    "        print(traceback.format_exc())"
   ]
  },
  {
   "cell_type": "code",
   "execution_count": 154,
   "metadata": {},
   "outputs": [
    {
     "data": {
      "text/plain": [
       "70"
      ]
     },
     "execution_count": 154,
     "metadata": {},
     "output_type": "execute_result"
    }
   ],
   "source": [
    "len(dfs)"
   ]
  },
  {
   "cell_type": "code",
   "execution_count": 161,
   "metadata": {},
   "outputs": [],
   "source": [
    "result_df = pd.concat(dfs, ignore_index=True)"
   ]
  },
  {
   "cell_type": "code",
   "execution_count": 162,
   "metadata": {},
   "outputs": [],
   "source": [
    "result_df.to_csv(\"Сводная_сбыт.csv\")"
   ]
  },
  {
   "cell_type": "code",
   "execution_count": 164,
   "metadata": {},
   "outputs": [
    {
     "data": {
      "text/html": [
       "<div>\n",
       "<style scoped>\n",
       "    .dataframe tbody tr th:only-of-type {\n",
       "        vertical-align: middle;\n",
       "    }\n",
       "\n",
       "    .dataframe tbody tr th {\n",
       "        vertical-align: top;\n",
       "    }\n",
       "\n",
       "    .dataframe thead th {\n",
       "        text-align: right;\n",
       "    }\n",
       "</style>\n",
       "<table border=\"1\" class=\"dataframe\">\n",
       "  <thead>\n",
       "    <tr style=\"text-align: right;\">\n",
       "      <th></th>\n",
       "      <th>Текст</th>\n",
       "      <th>Дата решения</th>\n",
       "      <th>Уровень по субъекту</th>\n",
       "      <th>Год регистрации дела</th>\n",
       "      <th>Статья УК РФ</th>\n",
       "      <th>Тип дела</th>\n",
       "      <th>Субъект РФ</th>\n",
       "      <th>Округ РФ</th>\n",
       "      <th>Наименование суда</th>\n",
       "      <th>Результат</th>\n",
       "      <th>Уровень суда</th>\n",
       "      <th>Вид судопроизводства</th>\n",
       "      <th>Лица</th>\n",
       "      <th>Подсудимые</th>\n",
       "      <th>Тип документа</th>\n",
       "      <th>Номер дела (материала)</th>\n",
       "      <th>Инстанция</th>\n",
       "      <th>Судья</th>\n",
       "      <th>Решение</th>\n",
       "    </tr>\n",
       "  </thead>\n",
       "  <tbody>\n",
       "    <tr>\n",
       "      <th>0</th>\n",
       "      <td>\\r\\n\\r\\n\\r\\n\\r\\n\\r\\nУголовное дело № 1-154/2018\\r\\nП Р И Г О В О Р\\r\\nИМЕНЕМ РОССИЙСКОЙ ФЕДЕРАЦИИ\\r\\nгород Белгород 26 декабря 2018 года\\r\\nБелгородский районный суд Белгородской области в составе...</td>\n",
       "      <td>2018-12-26T01:00:00</td>\n",
       "      <td>2.0</td>\n",
       "      <td>2018.0</td>\n",
       "      <td>Статья 228 Часть 2; Статья 229.1 Часть 3</td>\n",
       "      <td>Производство в суде ПЕРВОЙ ИНСТАНЦИИ</td>\n",
       "      <td>Белгородская область</td>\n",
       "      <td>Центральный федеральный округ</td>\n",
       "      <td>Белгородский районный суд</td>\n",
       "      <td>Вынесен ПРИГОВОР</td>\n",
       "      <td>Районный, городской, межрайонный суд</td>\n",
       "      <td>Уголовное дело</td>\n",
       "      <td>[nan]</td>\n",
       "      <td>[nan, nan]</td>\n",
       "      <td>Приговор</td>\n",
       "      <td>1-154/2018</td>\n",
       "      <td>Первая инстанция</td>\n",
       "      <td>Рощупкин Александр Федорович</td>\n",
       "      <td>Обвинительный приговор</td>\n",
       "    </tr>\n",
       "  </tbody>\n",
       "</table>\n",
       "</div>"
      ],
      "text/plain": [
       "                                                                                                                                                                                                     Текст  \\\n",
       "0  \\r\\n\\r\\n\\r\\n\\r\\n\\r\\nУголовное дело № 1-154/2018\\r\\nП Р И Г О В О Р\\r\\nИМЕНЕМ РОССИЙСКОЙ ФЕДЕРАЦИИ\\r\\nгород Белгород 26 декабря 2018 года\\r\\nБелгородский районный суд Белгородской области в составе...   \n",
       "\n",
       "          Дата решения  Уровень по субъекту  Год регистрации дела  \\\n",
       "0  2018-12-26T01:00:00                  2.0                2018.0   \n",
       "\n",
       "                               Статья УК РФ  \\\n",
       "0  Статья 228 Часть 2; Статья 229.1 Часть 3   \n",
       "\n",
       "                               Тип дела            Субъект РФ  \\\n",
       "0  Производство в суде ПЕРВОЙ ИНСТАНЦИИ  Белгородская область   \n",
       "\n",
       "                        Округ РФ          Наименование суда         Результат  \\\n",
       "0  Центральный федеральный округ  Белгородский районный суд  Вынесен ПРИГОВОР   \n",
       "\n",
       "                           Уровень суда Вид судопроизводства   Лица  \\\n",
       "0  Районный, городской, межрайонный суд       Уголовное дело  [nan]   \n",
       "\n",
       "   Подсудимые Тип документа Номер дела (материала)         Инстанция  \\\n",
       "0  [nan, nan]      Приговор             1-154/2018  Первая инстанция   \n",
       "\n",
       "                          Судья                 Решение  \n",
       "0  Рощупкин Александр Федорович  Обвинительный приговор  "
      ]
     },
     "execution_count": 164,
     "metadata": {},
     "output_type": "execute_result"
    }
   ],
   "source": [
    "result_df.head(1)"
   ]
  },
  {
   "cell_type": "code",
   "execution_count": null,
   "metadata": {},
   "outputs": [],
   "source": [
    "result_df.loc[0][\"Текст\"]"
   ]
  },
  {
   "cell_type": "code",
   "execution_count": 167,
   "metadata": {},
   "outputs": [],
   "source": [
    "import ner"
   ]
  },
  {
   "cell_type": "code",
   "execution_count": 170,
   "metadata": {},
   "outputs": [],
   "source": [
    "extractor = ner.EntityExtractor(filename=\"tmp\", text=result_df.loc[0][\"Текст\"])"
   ]
  },
  {
   "cell_type": "code",
   "execution_count": 171,
   "metadata": {},
   "outputs": [
    {
     "name": "stderr",
     "output_type": "stream",
     "text": [
      "2019-07-21 19:32:13,358 CRITICAL link Could not parse link from filename tmp, 'NoneType' object has no attribute 'group', skipping\n",
      "2019-07-21 19:32:13,498 WARNING drugs No drugs found in whole text, check matches: []\n",
      "2019-07-21 19:32:13,587 WARNING drugs No drugs found in whole text, check matches: []\n"
     ]
    },
    {
     "data": {
      "text/plain": [
       "{'Ссылка': 'нет данных', 'Файл': 'tmp', 'Суд': 'белгородский районный суд белгородской области', 'Дата приговора': '2018/12/26', 'ФИО': 'бахтина в.а. и его защитника – адвоката сазончик н.н.', 'Особый порядок': 'нет', 'Судимость': 'да', 'Вид наказания': 'Лишение свободы', 'Срок наказания в месяцах': 'нет', 'Отбывал ли ранее лишение свободы': 'да', 'Наркотики': '', 'Главный наркотик': '', 'Размер': 'Крупный', 'Смягчающие обстоятельства': 'активное способствование раскрытию и расследованию преступлений, выразившееся в даче последовательных признательных показаний (п. «и» ч.1 ст. 61 ук рф), состояние его (информация скрыта) (ч.2 ст. 61 ук рф)', 'Отягчающие обстоятельства': 'рецидив преступлений'}"
      ]
     },
     "execution_count": 171,
     "metadata": {},
     "output_type": "execute_result"
    }
   ],
   "source": [
    "target_keys = ['Особый порядок', 'Судимость']\n",
    "extractor.summary_dict"
   ]
  },
  {
   "cell_type": "code",
   "execution_count": null,
   "metadata": {},
   "outputs": [],
   "source": []
  }
 ],
 "metadata": {
  "kernelspec": {
   "display_name": "Python 3",
   "language": "python",
   "name": "python3"
  },
  "language_info": {
   "codemirror_mode": {
    "name": "ipython",
    "version": 3
   },
   "file_extension": ".py",
   "mimetype": "text/x-python",
   "name": "python",
   "nbconvert_exporter": "python",
   "pygments_lexer": "ipython3",
   "version": "3.6.0"
  }
 },
 "nbformat": 4,
 "nbformat_minor": 2
}
