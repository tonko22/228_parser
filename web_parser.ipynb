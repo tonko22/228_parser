{
 "cells": [
  {
   "cell_type": "code",
   "execution_count": 3,
   "metadata": {},
   "outputs": [
    {
     "name": "stdout",
     "output_type": "stream",
     "text": [
      "The autoreload extension is already loaded. To reload it, use:\n",
      "  %reload_ext autoreload\n"
     ]
    }
   ],
   "source": [
    "%load_ext autoreload\n",
    "%reload_ext autoreload\n",
    "%autoreload 2"
   ]
  },
  {
   "cell_type": "code",
   "execution_count": 4,
   "metadata": {},
   "outputs": [],
   "source": [
    "search_urls = {\n",
    "    \"contraband\": \"https://bsr.sudrf.ru/bigs/portal.html#%7B%22start%22:0,%22rows%22:1000,%22uid%22:%22d7c55781-7685-44b9-9149-115cd9df3d01%22,%22type%22:%22MULTIQUERY%22,%22multiqueryRequest%22:%7B%22queryRequests%22:%5B%7B%22type%22:%22Q%22,%22request%22:%22%7B%5C%22mode%5C%22:%5C%22EXTENDED%5C%22,%5C%22typeRequests%5C%22:%5B%7B%5C%22fieldRequests%5C%22:%5B%7B%5C%22name%5C%22:%5C%22case_document_result_date%5C%22,%5C%22operator%5C%22:%5C%22B%5C%22,%5C%22query%5C%22:%5C%222018-01-01T00:00:00%5C%22,%5C%22sQuery%5C%22:%5C%222018-12-31T00:00:00%5C%22%7D,%7B%5C%22name%5C%22:%5C%22case_document_category_article_cat%5C%22,%5C%22operator%5C%22:%5C%22SEW%5C%22,%5C%22query%5C%22:%5C%22%D0%A1%D1%82%D0%B0%D1%82%D1%8C%D1%8F%20229.1%20%D0%A7%D0%B0%D1%81%D1%82%D1%8C%203%5C%22%7D%5D,%5C%22mode%5C%22:%5C%22AND%5C%22,%5C%22name%5C%22:%5C%22common%5C%22,%5C%22typesMode%5C%22:%5C%22AND%5C%22%7D%5D%7D%22,%22operator%22:%22AND%22,%22queryRequestRole%22:%22CATEGORIES%22%7D%5D%7D,%22sorts%22:%5B%7B%22field%22:%22score%22,%22order%22:%22desc%22%7D%5D,%22simpleSearchFieldsBundle%22:%22default%22,%22filterGroups%22:%5B%7B%22filterQueries%22:%5B%7B%22field%22:%22case_court_type%22,%22query%22:%22%D0%A0%D0%B0%D0%B9%D0%BE%D0%BD%D0%BD%D1%8B%D0%B9,%20%D0%B3%D0%BE%D1%80%D0%BE%D0%B4%D1%81%D0%BA%D0%BE%D0%B9,%20%D0%BC%D0%B5%D0%B6%D1%80%D0%B0%D0%B9%D0%BE%D0%BD%D0%BD%D1%8B%D0%B9%20%D1%81%D1%83%D0%B4%22,%22not%22:false%7D%5D,%22groupMode%22:%22OR%22,%22not%22:false%7D%5D,%22facet%22:%7B%22field%22:%5B%22type%22%5D%7D,%22facetLimit%22:21,%22additionalFields%22:%5B%22court_document_documentype1%22,%22court_case_entry_date%22,%22court_case_result_date%22,%22court_subject_rf%22,%22court_name_court%22,%22court_document_law_article%22,%22court_case_result%22,%22case_user_document_type%22,%22case_user_doc_entry_date%22,%22case_user_doc_result_date%22,%22case_doc_subject_rf%22,%22case_user_doc_court%22,%22case_document_category_article%22,%22case_user_doc_result%22,%22case_user_entry_date%22,%22m_case_user_type%22,%22m_case_user_sub_type%22,%22ora_main_law_article%22%5D,%22hlFragSize%22:1000,%22groupLimit%22:3,%22woBoost%22:false%7D\",\n",
    "    \"propaganda\": \"https://bsr.sudrf.ru/bigs/portal.html#%7B%22filter%22:null,%22filterGroups%22:null,%22customFilterGroups%22:null,%22groups%22:%5B%22%D0%94%D0%B5%D0%BB%D0%B0%20%D0%BE%D0%B1%20%D0%90%D0%9F%22%5D,%22dateFrom%22:null,%22dateTo%22:null,%22sortOrder%22:null,%22sortField%22:null,%22groupField%22:null,%22joinFrom%22:null,%22joinTo%22:null,%22type%22:%22MULTIQUERY%22,%22multiqueryRequest%22:%7B%22queryRequests%22:%5B%7B%22type%22:%22Q%22,%22request%22:%22%7B%5C%22mode%5C%22:%5C%22EXTENDED%5C%22,%5C%22typeRequests%5C%22:%5B%7B%5C%22fieldRequests%5C%22:%5B%7B%5C%22name%5C%22:%5C%22case_user_doc_entry_date%5C%22,%5C%22operator%5C%22:%5C%22B%5C%22,%5C%22query%5C%22:%5C%222015-01-01T00:00:00%5C%22,%5C%22sQuery%5C%22:%5C%222019-10-30T00:00:00%5C%22%7D,%7B%5C%22name%5C%22:%5C%22case_doc_instance%5C%22,%5C%22operator%5C%22:%5C%22EX%5C%22,%5C%22query%5C%22:%5C%22%D0%9F%D0%B5%D1%80%D0%B2%D0%B0%D1%8F%20%D0%B8%D0%BD%D1%81%D1%82%D0%B0%D0%BD%D1%86%D0%B8%D1%8F%5C%22,%5C%22sQuery%5C%22:null%7D,%7B%5C%22name%5C%22:%5C%22case_common_parts_law_article%5C%22,%5C%22operator%5C%22:%5C%22EX%5C%22,%5C%22query%5C%22:%5C%22%D1%81%D1%82.%206.13%5C%22,%5C%22sQuery%5C%22:null%7D,%7B%5C%22name%5C%22:%5C%22case_common_parts_law_article%5C%22,%5C%22operator%5C%22:%5C%22EX%5C%22,%5C%22query%5C%22:%5C%22%D1%81%D1%82.%206.13%20%D1%87.1%5C%22,%5C%22sQuery%5C%22:null%7D,%7B%5C%22name%5C%22:%5C%22case_common_parts_law_article%5C%22,%5C%22operator%5C%22:%5C%22EX%5C%22,%5C%22query%5C%22:%5C%22%D1%81%D1%82.%206.13%20%D1%87.2%5C%22,%5C%22sQuery%5C%22:null%7D%5D,%5C%22mode%5C%22:%5C%22AND%5C%22,%5C%22name%5C%22:%5C%22common%5C%22,%5C%22typesMode%5C%22:%5C%22AND%5C%22%7D%5D%7D%22,%22operator%22:%22AND%22,%22queryRequestRole%22:%22CATEGORIES%22%7D,%7B%22type%22:%22Q%22,%22request%22:%22%7B%5C%22mode%5C%22:%5C%22EXTENDED%5C%22,%5C%22typeRequests%5C%22:%5B%7B%5C%22name%5C%22:%5C%22common%5C%22,%5C%22mode%5C%22:%5C%22AND%5C%22,%5C%22typesMode%5C%22:%5C%22AND%5C%22,%5C%22fieldRequests%5C%22:%5B%7B%5C%22name%5C%22:%5C%22case_user_document_num%5C%22,%5C%22operator%5C%22:%5C%22GE%5C%22,%5C%22query%5C%22:%5C%221%5C%22%7D%5D%7D%5D%7D%22,%22operator%22:%22AND%22,%22queryRequestRole%22:%22FACET_QUERY%23%23%23case_user_document_num%23%23%23%D0%94%D0%B0%22%7D,%7B%22type%22:%22SQ%22,%22queryId%22:%221f074cdd-f56a-4089-b901-df7a05b3a5c8%22,%22operator%22:%22AND%22%7D%5D%7D,%22sorts%22:%5B%7B%22field%22:%22score%22,%22order%22:%22desc%22%7D%5D,%22simpleSearchFieldsBundle%22:%22test23%22,%22noOrpho%22:false%7D\"\n",
    "}"
   ]
  },
  {
   "cell_type": "code",
   "execution_count": null,
   "metadata": {},
   "outputs": [],
   "source": [
    "from web_parser import Page\n",
    "\n",
    "p = Page(\"https://bsr.sudrf.ru/\")"
   ]
  },
  {
   "cell_type": "code",
   "execution_count": 13,
   "metadata": {},
   "outputs": [
    {
     "data": {
      "text/plain": [
       "'<html><head><title>403 Forbidden</title></head>\\n<body>\\n<center><h1>403 Forbidden</h1></center>\\n<hr><center>nginx</center>\\n\\n\\n<!-- a padding to disable MSIE and Chrome friendly error page -->\\n<!-- a padding to disable MSIE and Chrome friendly error page -->\\n<!-- a padding to disable MSIE and Chrome friendly error page -->\\n<!-- a padding to disable MSIE and Chrome friendly error page -->\\n<!-- a padding to disable MSIE and Chrome friendly error page -->\\n<!-- a padding to disable MSIE and Chrome friendly error page -->\\n</body></html>'"
      ]
     },
     "execution_count": 13,
     "metadata": {},
     "output_type": "execute_result"
    }
   ],
   "source": [
    "p.driver."
   ]
  },
  {
   "cell_type": "code",
   "execution_count": 12,
   "metadata": {},
   "outputs": [
    {
     "data": {
      "text/plain": [
       "[]"
      ]
     },
     "execution_count": 12,
     "metadata": {},
     "output_type": "execute_result"
    }
   ],
   "source": [
    "p.case_elemenets"
   ]
  },
  {
   "cell_type": "code",
   "execution_count": null,
   "metadata": {},
   "outputs": [],
   "source": [
    "from selenium.webdriver.common.by import By\n",
    "p.driver.find_elements(by=By.CSS_SELECTOR, value=\"a.resultHeader\")"
   ]
  },
  {
   "cell_type": "code",
   "execution_count": 24,
   "metadata": {},
   "outputs": [
    {
     "data": {
      "text/plain": [
       "[]"
      ]
     },
     "execution_count": 24,
     "metadata": {},
     "output_type": "execute_result"
    }
   ],
   "source": [
    "p.driver.find_elements_by_class_name(\"resultHeader.openCardLink\")"
   ]
  },
  {
   "cell_type": "code",
   "execution_count": 16,
   "metadata": {},
   "outputs": [
    {
     "data": {
      "text/plain": [
       "\u001b[0;31mSignature:\u001b[0m \u001b[0mp\u001b[0m\u001b[0;34m.\u001b[0m\u001b[0mdriver\u001b[0m\u001b[0;34m.\u001b[0m\u001b[0mfind_elements_by_id\u001b[0m\u001b[0;34m(\u001b[0m\u001b[0mid_\u001b[0m\u001b[0;34m)\u001b[0m\u001b[0;34m\u001b[0m\u001b[0m\n",
       "\u001b[0;31mDocstring:\u001b[0m\n",
       "Finds multiple elements by id.\n",
       "\n",
       ":Args:\n",
       " - id\\_ - The id of the elements to be found.\n",
       "\n",
       ":Returns:\n",
       " - list of WebElement - a list with elements if any was found.  An\n",
       "   empty list if not\n",
       "\n",
       ":Usage:\n",
       "    elements = driver.find_elements_by_id('foo')\n",
       "\u001b[0;31mFile:\u001b[0m      ~/PycharmProjects/fastuna/python3.7-venv/lib/python3.7/site-packages/selenium/webdriver/remote/webdriver.py\n",
       "\u001b[0;31mType:\u001b[0m      method\n"
      ]
     },
     "metadata": {},
     "output_type": "display_data"
    }
   ],
   "source": [
    "p.driver."
   ]
  },
  {
   "cell_type": "code",
   "execution_count": null,
   "metadata": {},
   "outputs": [],
   "source": [
    "p.driver.find_element_by_link_text('https://bsr.sudrf.ru/bigs/showDocument.html#id=d06cf584a69538ea2240efb8ed10a5ae&shard=Дела об АП&from=p&r={\"start\":0,\"rows\":10,\"uid\":\"187812ee-8a51-4c32-b84d-3c630f427533\",\"filter\":null,\"filterGroups\":null,\"customFilterGroups\":null,\"groups\":[\"Дела об АП\"],\"dateFrom\":null,\"dateTo\":null,\"sortOrder\":null,\"sortField\":null,\"groupField\":null,\"joinFrom\":null,\"joinTo\":null,\"type\":\"MULTIQUERY\",\"multiqueryRequest\":{\"queryRequests\":[{\"type\":\"Q\",\"request\":\"{\\\"mode\\\":\\\"EXTENDED\\\",\\\"typeRequests\\\":[{\\\"fieldRequests\\\":[{\\\"name\\\":\\\"case_user_doc_entry_date\\\",\\\"operator\\\":\\\"B\\\",\\\"query\\\":\\\"2015-01-01T00:00:00\\\",\\\"sQuery\\\":\\\"2019-10-30T00:00:00\\\"},{\\\"name\\\":\\\"case_doc_instance\\\",\\\"operator\\\":\\\"EX\\\",\\\"query\\\":\\\"Первая инстанция\\\",\\\"sQuery\\\":null},{\\\"name\\\":\\\"case_common_parts_law_article\\\",\\\"operator\\\":\\\"EX\\\",\\\"query\\\":\\\"ст. 6.13\\\",\\\"sQuery\\\":null},{\\\"name\\\":\\\"case_common_parts_law_article\\\",\\\"operator\\\":\\\"EX\\\",\\\"query\\\":\\\"ст. 6.13 ч.1\\\",\\\"sQuery\\\":null},{\\\"name\\\":\\\"case_common_parts_law_article\\\",\\\"operator\\\":\\\"EX\\\",\\\"query\\\":\\\"ст. 6.13 ч.2\\\",\\\"sQuery\\\":null}],\\\"mode\\\":\\\"AND\\\",\\\"name\\\":\\\"common\\\",\\\"typesMode\\\":\\\"AND\\\"}]}\",\"operator\":\"AND\",\"queryRequestRole\":\"CATEGORIES\"},{\"type\":\"Q\",\"request\":\"{\\\"mode\\\":\\\"EXTENDED\\\",\\\"typeRequests\\\":[{\\\"name\\\":\\\"common\\\",\\\"mode\\\":\\\"AND\\\",\\\"typesMode\\\":\\\"AND\\\",\\\"fieldRequests\\\":[{\\\"name\\\":\\\"case_user_document_num\\\",\\\"operator\\\":\\\"GE\\\",\\\"query\\\":\\\"1\\\"}]}]}\",\"operator\":\"AND\",\"queryRequestRole\":\"FACET_QUERY###case_user_document_num###Да\"},{\"type\":\"SQ\",\"queryId\":\"1f074cdd-f56a-4089-b901-df7a05b3a5c8\",\"operator\":\"AND\"}]},\"sorts\":[{\"field\":\"score\",\"order\":\"desc\"}],\"simpleSearchFieldsBundle\":\"test23\",\"noOrpho\":false,\"facet\":{\"field\":[\"type\"]},\"facetLimit\":21,\"additionalFields\":[\"case_user_doc_number\",\"case_user_document_type\",\"case_common_parts_law_article\",\"case_user_entry_date\",\"case_user_doc_result_date\",\"case_doc_subject_rf\",\"case_user_doc_court\",\"adm_case_user_name\",\"case_user_doc_result\"],\"hlFragSize\":1000,\"groupLimit\":3,\"woBoost\":false}')"
   ]
  },
  {
   "cell_type": "code",
   "execution_count": null,
   "metadata": {},
   "outputs": [],
   "source": [
    "p.driver.find_elements(by=By.CSS_SELECTOR, value=css_tag)"
   ]
  },
  {
   "cell_type": "code",
   "execution_count": 15,
   "metadata": {},
   "outputs": [
    {
     "data": {
      "text/plain": [
       "[]"
      ]
     },
     "execution_count": 15,
     "metadata": {},
     "output_type": "execute_result"
    }
   ],
   "source": [
    "p.driver.find_elements_by_class_name(\"resultHeader openCardLink\")"
   ]
  },
  {
   "cell_type": "code",
   "execution_count": 8,
   "metadata": {},
   "outputs": [
    {
     "data": {
      "text/plain": [
       "[]"
      ]
     },
     "execution_count": 8,
     "metadata": {},
     "output_type": "execute_result"
    }
   ],
   "source": [
    "p.current_page_case_urls"
   ]
  },
  {
   "cell_type": "code",
   "execution_count": 11,
   "metadata": {},
   "outputs": [
    {
     "data": {
      "text/plain": [
       "71"
      ]
     },
     "execution_count": 11,
     "metadata": {},
     "output_type": "execute_result"
    }
   ],
   "source": [
    "len(p.current_page_case_ids)"
   ]
  },
  {
   "cell_type": "code",
   "execution_count": 14,
   "metadata": {},
   "outputs": [
    {
     "name": "stdout",
     "output_type": "stream",
     "text": [
      "~/PycharmProjects/prigovor_parser/cases/Уголовное_дело_1-53_2018_2018-03-26T04:00:00.csv\n",
      "~/PycharmProjects/prigovor_parser/cases/Уголовное_дело_1-17_2018_2018-02-26T04:00:00.csv\n",
      "~/PycharmProjects/prigovor_parser/cases/Уголовное_дело_1-37_2018_2018-05-08T04:00:00.csv\n",
      "~/PycharmProjects/prigovor_parser/cases/Уголовное_дело_1-51_2018_2018-04-12T04:00:00.csv\n",
      "~/PycharmProjects/prigovor_parser/cases/Уголовное_дело_1-14_2018_(1-139_2017;)_no_datetime.csv\n",
      "~/PycharmProjects/prigovor_parser/cases/Уголовное_дело_1-19_2018_(1-146_2017;)_2018-02-07T01:00:00.csv\n",
      "~/PycharmProjects/prigovor_parser/cases/Уголовное_дело_1-30_2018_no_datetime.csv\n",
      "~/PycharmProjects/prigovor_parser/cases/Уголовное_дело_1-27_2018_2018-08-27T04:00:00.csv\n",
      "~/PycharmProjects/prigovor_parser/cases/Уголовное_дело_1-30_2018_(1-602_2017;)_2018-05-11T04:00:00.csv\n",
      "~/PycharmProjects/prigovor_parser/cases/Уголовное_дело_1-14_2018_2018-04-13T04:00:00.csv\n",
      "~/PycharmProjects/prigovor_parser/cases/Уголовное_дело_1-24_2018_2018-03-02T04:00:00.csv\n",
      "~/PycharmProjects/prigovor_parser/cases/Уголовное_дело_1-1_2018_(1-98_2017;)_2018-01-31T04:00:00.csv\n",
      "~/PycharmProjects/prigovor_parser/cases/Уголовное_дело_1-196_2018_2018-06-04T04:00:00.csv\n",
      "~/PycharmProjects/prigovor_parser/cases/Уголовное_дело_1-76_2018_2018-08-15T04:00:00.csv\n",
      "~/PycharmProjects/prigovor_parser/cases/Уголовное_дело_1-9_2018_(1-139_2017;)_2018-02-06T04:00:00.csv\n",
      "~/PycharmProjects/prigovor_parser/cases/Уголовное_дело_1-98_2018_no_datetime.csv\n",
      "~/PycharmProjects/prigovor_parser/cases/Уголовное_дело_1-596_2018_2018-09-20T01:00:00.csv\n",
      "~/PycharmProjects/prigovor_parser/cases/Уголовное_дело_1-136_2018_2018-03-26T01:00:00.csv\n",
      "~/PycharmProjects/prigovor_parser/cases/Уголовное_дело_1-137_2018_2018-03-27T01:00:00.csv\n",
      "~/PycharmProjects/prigovor_parser/cases/Уголовное_дело_1-99_2018_2018-07-05T01:00:00.csv\n",
      "~/PycharmProjects/prigovor_parser/cases/Уголовное_дело_1-691_2018_2018-09-03T01:00:00.csv\n",
      "~/PycharmProjects/prigovor_parser/cases/Уголовное_дело_1-256_2018_2018-07-19T01:00:00.csv\n",
      "~/PycharmProjects/prigovor_parser/cases/Уголовное_дело_1-82_2018_(1-562_2017;)_2018-08-29T01:00:00.csv\n",
      "~/PycharmProjects/prigovor_parser/cases/Уголовное_дело_1-71_2018_2018-08-24T01:00:00.csv\n",
      "~/PycharmProjects/prigovor_parser/cases/Уголовное_дело_1-22_2018_(1-494_2017;)_2018-04-06T01:00:00.csv\n",
      "~/PycharmProjects/prigovor_parser/cases/Уголовное_дело_1-38_2018_2018-05-29T01:00:00.csv\n",
      "~/PycharmProjects/prigovor_parser/cases/Уголовное_дело_1-124_2018_2018-06-26T01:00:00.csv\n",
      "~/PycharmProjects/prigovor_parser/cases/Уголовное_дело_1-37_2018_2018-03-28T01:00:00.csv\n",
      "~/PycharmProjects/prigovor_parser/cases/Уголовное_дело_1-3_2018_(1-4_2017;_1-137_2016;)_2018-08-24T01:00:00.csv\n",
      "~/PycharmProjects/prigovor_parser/cases/Уголовное_дело_1-56_2018_2018-03-13T01:00:00.csv\n",
      "~/PycharmProjects/prigovor_parser/cases/Уголовное_дело_1-936_2018_2018-11-22T01:00:00.csv\n",
      "~/PycharmProjects/prigovor_parser/cases/Уголовное_дело_1-49_2018_2018-10-16T01:00:00.csv\n",
      "~/PycharmProjects/prigovor_parser/cases/Уголовное_дело_1-400_2018_2018-11-02T01:00:00.csv\n",
      "~/PycharmProjects/prigovor_parser/cases/Уголовное_дело_1-665_2018_2018-10-12T01:00:00.csv\n",
      "~/PycharmProjects/prigovor_parser/cases/Уголовное_дело_1-85_2018_2018-11-06T01:00:00.csv\n",
      "~/PycharmProjects/prigovor_parser/cases/Уголовное_дело_1-20_2018_(1-481_2017;)_2018-03-02T01:00:00.csv\n",
      "~/PycharmProjects/prigovor_parser/cases/Уголовное_дело_1-189_2018_2018-05-21T01:00:00.csv\n",
      "~/PycharmProjects/prigovor_parser/cases/Уголовное_дело_1-31_2018_(1-548_2017;)_2018-01-12T01:00:00.csv\n",
      "~/PycharmProjects/prigovor_parser/cases/Уголовное_дело_1-116_2018_2018-07-11T01:00:00.csv\n",
      "~/PycharmProjects/prigovor_parser/cases/Уголовное_дело_1-96_2018_2018-08-17T01:00:00.csv\n",
      "~/PycharmProjects/prigovor_parser/cases/Уголовное_дело_1-81_2018_2018-09-19T01:00:00.csv\n",
      "~/PycharmProjects/prigovor_parser/cases/Уголовное_дело_1-46_2018_2018-06-26T01:00:00.csv\n",
      "~/PycharmProjects/prigovor_parser/cases/Уголовное_дело_1-135_2018_2018-05-07T01:00:00.csv\n",
      "~/PycharmProjects/prigovor_parser/cases/Уголовное_дело_1-201_2018_2018-10-09T01:00:00.csv\n",
      "~/PycharmProjects/prigovor_parser/cases/Уголовное_дело_1-166_2018_2018-09-11T01:00:00.csv\n",
      "~/PycharmProjects/prigovor_parser/cases/Уголовное_дело_1-36_2018_2018-04-12T01:00:00.csv\n",
      "~/PycharmProjects/prigovor_parser/cases/Уголовное_дело_1-39_2018_2018-07-31T01:00:00.csv\n",
      "~/PycharmProjects/prigovor_parser/cases/Уголовное_дело_1-105_2018_2018-08-30T01:00:00.csv\n",
      "~/PycharmProjects/prigovor_parser/cases/Уголовное_дело_1-79_2018_2018-04-02T01:00:00.csv\n",
      "~/PycharmProjects/prigovor_parser/cases/Уголовное_дело_1-753_2018_2018-08-14T01:00:00.csv\n",
      "~/PycharmProjects/prigovor_parser/cases/Уголовное_дело_1-103_2018_(1-1114_2017;)_2018-02-20T01:00:00.csv\n",
      "~/PycharmProjects/prigovor_parser/cases/Уголовное_дело_1-393_2018_2018-10-05T01:00:00.csv\n",
      "~/PycharmProjects/prigovor_parser/cases/Уголовное_дело_1-13_2018_(1-30_2017;_1-299_2016;)_2018-04-11T01:00:00.csv\n",
      "~/PycharmProjects/prigovor_parser/cases/Уголовное_дело_1-163_2018_2018-12-06T01:00:00.csv\n",
      "~/PycharmProjects/prigovor_parser/cases/Уголовное_дело_1-568_2018_2018-07-17T01:00:00.csv\n",
      "~/PycharmProjects/prigovor_parser/cases/Уголовное_дело_1-656_2018_2018-09-14T01:00:00.csv\n",
      "~/PycharmProjects/prigovor_parser/cases/Уголовное_дело_1-72_2018_2018-02-28T01:00:00.csv\n",
      "~/PycharmProjects/prigovor_parser/cases/Уголовное_дело_1-107_2018_2018-11-01T01:00:00.csv\n",
      "~/PycharmProjects/prigovor_parser/cases/Уголовное_дело_1-612_2018_2018-11-07T01:00:00.csv\n",
      "~/PycharmProjects/prigovor_parser/cases/Уголовное_дело_1-687_2018_2018-12-18T01:00:00.csv\n",
      "~/PycharmProjects/prigovor_parser/cases/Уголовное_дело_1-154_2018_2018-12-26T01:00:00.csv\n",
      "~/PycharmProjects/prigovor_parser/cases/Уголовное_дело_1-120_2018_(1-832_2017;)_2018-05-29T01:00:00.csv\n",
      "~/PycharmProjects/prigovor_parser/cases/Уголовное_дело_1-181_2018_2018-10-29T01:00:00.csv\n",
      "~/PycharmProjects/prigovor_parser/cases/Уголовное_дело_1-115_2018_2018-12-25T01:00:00.csv\n",
      "~/PycharmProjects/prigovor_parser/cases/Уголовное_дело_1-74_2018_2018-04-10T01:00:00.csv\n",
      "~/PycharmProjects/prigovor_parser/cases/Уголовное_дело_1-109_2018_2018-10-19T01:00:00.csv\n",
      "~/PycharmProjects/prigovor_parser/cases/Уголовное_дело_1-239_2018_2018-11-30T01:00:00.csv\n",
      "~/PycharmProjects/prigovor_parser/cases/Уголовное_дело_1-1_2018_(1-67_2017;)_2018-03-28T01:00:00.csv\n",
      "~/PycharmProjects/prigovor_parser/cases/Уголовное_дело_1-27_2018_2018-05-28T01:00:00.csv\n",
      "~/PycharmProjects/prigovor_parser/cases/Уголовное_дело_1-354_2018_(1-1118_2017;)_2018-05-04T01:00:00.csv\n",
      "~/PycharmProjects/prigovor_parser/cases/Уголовное_дело_1-24_2018_2018-10-18T01:00:00.csv\n"
     ]
    }
   ],
   "source": [
    "import traceback\n",
    "import requests\n",
    "import pandas as pd\n",
    "\n",
    "for uid, url in zip(p.current_page_case_ids, p.current_page_case_urls):\n",
    "    data = {\"request\":{\"id\": uid}}\n",
    "    try:\n",
    "        resp = requests.post(\"https://bsr.sudrf.ru/bigs/showDocument.action\",\n",
    "                                 json=data,\n",
    "                                 headers={\"Content-Type\": \"application/json\"})\n",
    "        fields = resp.json()['document'][\"fields\"]\n",
    "        df = pd.DataFrame(fields)\n",
    "        df[\"case_url\"] = url\n",
    "        case_title = df[df[\"comment\"]==\"Название\"][\"value\"].values[0]\n",
    "        try:\n",
    "            datetime_str = df[df[\"comment\"]==\"Дата решения\"][\"dateValue\"].values[0]\n",
    "        except IndexError:\n",
    "            datetime_str = \"no_datetime\"\n",
    "        fname = fname = \"\" + case_title + \" \" + datetime_str + \".csv\"\n",
    "        fname = fname.replace(\" \", \"_\").replace(\"/\", \"_\")\n",
    "        fpath = \"~/PycharmProjects/prigovor_parser/cases/\" + fname\n",
    "        print(fpath)\n",
    "        df.to_csv(fpath, index=None, header=True)\n",
    "    except BaseException as e:\n",
    "        print(traceback.format_exc())"
   ]
  },
  {
   "cell_type": "code",
   "execution_count": 142,
   "metadata": {},
   "outputs": [],
   "source": [
    "import pandas as pd\n",
    "\n",
    "pd.set_option('display.max_rows', 500)\n",
    "df = pd.DataFrame(case_fields).dropna(axis='columns', how=\"all\").drop(columns=[\"linkField\", \"linkName\", \"linkValue\", \"markup\", \"highlighting\"])"
   ]
  },
  {
   "cell_type": "code",
   "execution_count": null,
   "metadata": {},
   "outputs": [],
   "source": [
    "df"
   ]
  },
  {
   "cell_type": "code",
   "execution_count": null,
   "metadata": {},
   "outputs": [],
   "source": []
  }
 ],
 "metadata": {
  "kernelspec": {
   "display_name": "Python 3",
   "language": "python",
   "name": "python3"
  },
  "language_info": {
   "codemirror_mode": {
    "name": "ipython",
    "version": 3
   },
   "file_extension": ".py",
   "mimetype": "text/x-python",
   "name": "python",
   "nbconvert_exporter": "python",
   "pygments_lexer": "ipython3",
   "version": "3.7.0"
  }
 },
 "nbformat": 4,
 "nbformat_minor": 4
}
