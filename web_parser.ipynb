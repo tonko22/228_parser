{
 "cells": [
  {
   "cell_type": "code",
   "execution_count": 9,
   "metadata": {},
   "outputs": [
    {
     "name": "stdout",
     "output_type": "stream",
     "text": [
      "The autoreload extension is already loaded. To reload it, use:\n",
      "  %reload_ext autoreload\n"
     ]
    }
   ],
   "source": [
    "%load_ext autoreload\n",
    "%reload_ext autoreload\n",
    "%autoreload 2\n",
    "\n",
    "#target_url = \"https://bsr.sudrf.ru/bigs/portal.html#%7B%22type%22:%22MULTIQUERY%22,%22multiqueryRequest%22:%7B%22queryRequests%22:%5B%7B%22type%22:%22Q%22,%22request%22:%22%7B%5C%22mode%5C%22:%5C%22EXTENDED%5C%22,%5C%22typeRequests%5C%22:%5B%7B%5C%22fieldRequests%5C%22:%5B%7B%5C%22name%5C%22:%5C%22case_document_result_date%5C%22,%5C%22operator%5C%22:%5C%22B%5C%22,%5C%22query%5C%22:%5C%222018-01-01T00:00:00%5C%22,%5C%22sQuery%5C%22:%5C%222018-12-31T00:00:00%5C%22%7D,%7B%5C%22name%5C%22:%5C%22case_document_category_article_cat%5C%22,%5C%22operator%5C%22:%5C%22SEW%5C%22,%5C%22query%5C%22:%5C%22%D0%A1%D1%82%D0%B0%D1%82%D1%8C%D1%8F%20229.1%20%D0%A7%D0%B0%D1%81%D1%82%D1%8C%203%5C%22%7D%5D,%5C%22mode%5C%22:%5C%22AND%5C%22,%5C%22name%5C%22:%5C%22common%5C%22,%5C%22typesMode%5C%22:%5C%22AND%5C%22%7D%5D%7D%22,%22operator%22:%22AND%22,%22queryRequestRole%22:%22CATEGORIES%22%7D%5D%7D,%22sorts%22:%5B%7B%22field%22:%22score%22,%22order%22:%22desc%22%7D%5D,%22simpleSearchFieldsBundle%22:%22default%22,%22filterGroups%22:%5B%7B%22filterQueries%22:%5B%7B%22field%22:%22case_court_type%22,%22query%22:%22%D0%A0%D0%B0%D0%B9%D0%BE%D0%BD%D0%BD%D1%8B%D0%B9,%20%D0%B3%D0%BE%D1%80%D0%BE%D0%B4%D1%81%D0%BA%D0%BE%D0%B9,%20%D0%BC%D0%B5%D0%B6%D1%80%D0%B0%D0%B9%D0%BE%D0%BD%D0%BD%D1%8B%D0%B9%20%D1%81%D1%83%D0%B4%22,%22not%22:false%7D%5D,%22groupMode%22:%22OR%22,%22not%22:false%7D%5D%7D\"\n",
    "target_url = \"https://bsr.sudrf.ru/bigs/portal.html#%7B%22start%22:0,%22rows%22:1000,%22uid%22:%22d7c55781-7685-44b9-9149-115cd9df3d01%22,%22type%22:%22MULTIQUERY%22,%22multiqueryRequest%22:%7B%22queryRequests%22:%5B%7B%22type%22:%22Q%22,%22request%22:%22%7B%5C%22mode%5C%22:%5C%22EXTENDED%5C%22,%5C%22typeRequests%5C%22:%5B%7B%5C%22fieldRequests%5C%22:%5B%7B%5C%22name%5C%22:%5C%22case_document_result_date%5C%22,%5C%22operator%5C%22:%5C%22B%5C%22,%5C%22query%5C%22:%5C%222018-01-01T00:00:00%5C%22,%5C%22sQuery%5C%22:%5C%222018-12-31T00:00:00%5C%22%7D,%7B%5C%22name%5C%22:%5C%22case_document_category_article_cat%5C%22,%5C%22operator%5C%22:%5C%22SEW%5C%22,%5C%22query%5C%22:%5C%22%D0%A1%D1%82%D0%B0%D1%82%D1%8C%D1%8F%20229.1%20%D0%A7%D0%B0%D1%81%D1%82%D1%8C%203%5C%22%7D%5D,%5C%22mode%5C%22:%5C%22AND%5C%22,%5C%22name%5C%22:%5C%22common%5C%22,%5C%22typesMode%5C%22:%5C%22AND%5C%22%7D%5D%7D%22,%22operator%22:%22AND%22,%22queryRequestRole%22:%22CATEGORIES%22%7D%5D%7D,%22sorts%22:%5B%7B%22field%22:%22score%22,%22order%22:%22desc%22%7D%5D,%22simpleSearchFieldsBundle%22:%22default%22,%22filterGroups%22:%5B%7B%22filterQueries%22:%5B%7B%22field%22:%22case_court_type%22,%22query%22:%22%D0%A0%D0%B0%D0%B9%D0%BE%D0%BD%D0%BD%D1%8B%D0%B9,%20%D0%B3%D0%BE%D1%80%D0%BE%D0%B4%D1%81%D0%BA%D0%BE%D0%B9,%20%D0%BC%D0%B5%D0%B6%D1%80%D0%B0%D0%B9%D0%BE%D0%BD%D0%BD%D1%8B%D0%B9%20%D1%81%D1%83%D0%B4%22,%22not%22:false%7D%5D,%22groupMode%22:%22OR%22,%22not%22:false%7D%5D,%22facet%22:%7B%22field%22:%5B%22type%22%5D%7D,%22facetLimit%22:21,%22additionalFields%22:%5B%22court_document_documentype1%22,%22court_case_entry_date%22,%22court_case_result_date%22,%22court_subject_rf%22,%22court_name_court%22,%22court_document_law_article%22,%22court_case_result%22,%22case_user_document_type%22,%22case_user_doc_entry_date%22,%22case_user_doc_result_date%22,%22case_doc_subject_rf%22,%22case_user_doc_court%22,%22case_document_category_article%22,%22case_user_doc_result%22,%22case_user_entry_date%22,%22m_case_user_type%22,%22m_case_user_sub_type%22,%22ora_main_law_article%22%5D,%22hlFragSize%22:1000,%22groupLimit%22:3,%22woBoost%22:false%7D\""
   ]
  },
  {
   "cell_type": "code",
   "execution_count": 10,
   "metadata": {},
   "outputs": [],
   "source": [
    "from web_parser import Page\n",
    "\n",
    "p = Page(target_url)"
   ]
  },
  {
   "cell_type": "code",
   "execution_count": 13,
   "metadata": {},
   "outputs": [
    {
     "data": {
      "text/plain": [
       "'https://bsr.sudrf.ru/bigs/showDocument.html#id=0d9bd36643ac3b90550ac542d06543dc&shard=%D0%92%D1%81%D0%B5%20%D0%B4%D0%B5%D0%BB%D0%B0%20(%D0%BD%D0%BE%D0%B2%D0%BE%D0%B5)&from=p&r={%22start%22:0,%22rows%22:1000,%22uid%22:%22d7c55781-7685-44b9-9149-115cd9df3d01%22,%22type%22:%22MULTIQUERY%22,%22multiqueryRequest%22:{%22queryRequests%22:[{%22type%22:%22Q%22,%22request%22:%22{\\\\%22mode\\\\%22:\\\\%22EXTENDED\\\\%22,\\\\%22typeRequests\\\\%22:[{\\\\%22fieldRequests\\\\%22:[{\\\\%22name\\\\%22:\\\\%22case_document_result_date\\\\%22,\\\\%22operator\\\\%22:\\\\%22B\\\\%22,\\\\%22query\\\\%22:\\\\%222018-01-01T00:00:00\\\\%22,\\\\%22sQuery\\\\%22:\\\\%222018-12-31T00:00:00\\\\%22},{\\\\%22name\\\\%22:\\\\%22case_document_category_article_cat\\\\%22,\\\\%22operator\\\\%22:\\\\%22SEW\\\\%22,\\\\%22query\\\\%22:\\\\%22%D0%A1%D1%82%D0%B0%D1%82%D1%8C%D1%8F%20229.1%20%D0%A7%D0%B0%D1%81%D1%82%D1%8C%203\\\\%22}],\\\\%22mode\\\\%22:\\\\%22AND\\\\%22,\\\\%22name\\\\%22:\\\\%22common\\\\%22,\\\\%22typesMode\\\\%22:\\\\%22AND\\\\%22}]}%22,%22operator%22:%22AND%22,%22queryRequestRole%22:%22CATEGORIES%22}]},%22sorts%22:[{%22field%22:%22score%22,%22order%22:%22desc%22}],%22simpleSearchFieldsBundle%22:%22default%22,%22filterGroups%22:[{%22filterQueries%22:[{%22field%22:%22case_court_type%22,%22query%22:%22%D0%A0%D0%B0%D0%B9%D0%BE%D0%BD%D0%BD%D1%8B%D0%B9,%20%D0%B3%D0%BE%D1%80%D0%BE%D0%B4%D1%81%D0%BA%D0%BE%D0%B9,%20%D0%BC%D0%B5%D0%B6%D1%80%D0%B0%D0%B9%D0%BE%D0%BD%D0%BD%D1%8B%D0%B9%20%D1%81%D1%83%D0%B4%22,%22not%22:false}],%22groupMode%22:%22OR%22,%22not%22:false}],%22facet%22:{%22field%22:[%22type%22]},%22facetLimit%22:21,%22additionalFields%22:[%22court_document_documentype1%22,%22court_case_entry_date%22,%22court_case_result_date%22,%22court_subject_rf%22,%22court_name_court%22,%22court_document_law_article%22,%22court_case_result%22,%22case_user_document_type%22,%22case_user_doc_entry_date%22,%22case_user_doc_result_date%22,%22case_doc_subject_rf%22,%22case_user_doc_court%22,%22case_document_category_article%22,%22case_user_doc_result%22,%22case_user_entry_date%22,%22m_case_user_type%22,%22m_case_user_sub_type%22,%22ora_main_law_article%22],%22hlFragSize%22:1000,%22groupLimit%22:3,%22woBoost%22:false}'"
      ]
     },
     "execution_count": 13,
     "metadata": {},
     "output_type": "execute_result"
    }
   ],
   "source": [
    "p.current_page_case_urls[0]"
   ]
  },
  {
   "cell_type": "code",
   "execution_count": 11,
   "metadata": {},
   "outputs": [
    {
     "data": {
      "text/plain": [
       "71"
      ]
     },
     "execution_count": 11,
     "metadata": {},
     "output_type": "execute_result"
    }
   ],
   "source": [
    "len(p.current_page_case_ids)"
   ]
  },
  {
   "cell_type": "code",
   "execution_count": 14,
   "metadata": {},
   "outputs": [
    {
     "name": "stdout",
     "output_type": "stream",
     "text": [
      "~/PycharmProjects/prigovor_parser/cases/Уголовное_дело_1-53_2018_2018-03-26T04:00:00.csv\n",
      "~/PycharmProjects/prigovor_parser/cases/Уголовное_дело_1-17_2018_2018-02-26T04:00:00.csv\n",
      "~/PycharmProjects/prigovor_parser/cases/Уголовное_дело_1-37_2018_2018-05-08T04:00:00.csv\n",
      "~/PycharmProjects/prigovor_parser/cases/Уголовное_дело_1-51_2018_2018-04-12T04:00:00.csv\n",
      "~/PycharmProjects/prigovor_parser/cases/Уголовное_дело_1-14_2018_(1-139_2017;)_no_datetime.csv\n",
      "~/PycharmProjects/prigovor_parser/cases/Уголовное_дело_1-19_2018_(1-146_2017;)_2018-02-07T01:00:00.csv\n",
      "~/PycharmProjects/prigovor_parser/cases/Уголовное_дело_1-30_2018_no_datetime.csv\n",
      "~/PycharmProjects/prigovor_parser/cases/Уголовное_дело_1-27_2018_2018-08-27T04:00:00.csv\n",
      "~/PycharmProjects/prigovor_parser/cases/Уголовное_дело_1-30_2018_(1-602_2017;)_2018-05-11T04:00:00.csv\n",
      "~/PycharmProjects/prigovor_parser/cases/Уголовное_дело_1-14_2018_2018-04-13T04:00:00.csv\n",
      "~/PycharmProjects/prigovor_parser/cases/Уголовное_дело_1-24_2018_2018-03-02T04:00:00.csv\n",
      "~/PycharmProjects/prigovor_parser/cases/Уголовное_дело_1-1_2018_(1-98_2017;)_2018-01-31T04:00:00.csv\n",
      "~/PycharmProjects/prigovor_parser/cases/Уголовное_дело_1-196_2018_2018-06-04T04:00:00.csv\n",
      "~/PycharmProjects/prigovor_parser/cases/Уголовное_дело_1-76_2018_2018-08-15T04:00:00.csv\n",
      "~/PycharmProjects/prigovor_parser/cases/Уголовное_дело_1-9_2018_(1-139_2017;)_2018-02-06T04:00:00.csv\n",
      "~/PycharmProjects/prigovor_parser/cases/Уголовное_дело_1-98_2018_no_datetime.csv\n",
      "~/PycharmProjects/prigovor_parser/cases/Уголовное_дело_1-596_2018_2018-09-20T01:00:00.csv\n",
      "~/PycharmProjects/prigovor_parser/cases/Уголовное_дело_1-136_2018_2018-03-26T01:00:00.csv\n",
      "~/PycharmProjects/prigovor_parser/cases/Уголовное_дело_1-137_2018_2018-03-27T01:00:00.csv\n",
      "~/PycharmProjects/prigovor_parser/cases/Уголовное_дело_1-99_2018_2018-07-05T01:00:00.csv\n",
      "~/PycharmProjects/prigovor_parser/cases/Уголовное_дело_1-691_2018_2018-09-03T01:00:00.csv\n",
      "~/PycharmProjects/prigovor_parser/cases/Уголовное_дело_1-256_2018_2018-07-19T01:00:00.csv\n",
      "~/PycharmProjects/prigovor_parser/cases/Уголовное_дело_1-82_2018_(1-562_2017;)_2018-08-29T01:00:00.csv\n",
      "~/PycharmProjects/prigovor_parser/cases/Уголовное_дело_1-71_2018_2018-08-24T01:00:00.csv\n",
      "~/PycharmProjects/prigovor_parser/cases/Уголовное_дело_1-22_2018_(1-494_2017;)_2018-04-06T01:00:00.csv\n",
      "~/PycharmProjects/prigovor_parser/cases/Уголовное_дело_1-38_2018_2018-05-29T01:00:00.csv\n",
      "~/PycharmProjects/prigovor_parser/cases/Уголовное_дело_1-124_2018_2018-06-26T01:00:00.csv\n",
      "~/PycharmProjects/prigovor_parser/cases/Уголовное_дело_1-37_2018_2018-03-28T01:00:00.csv\n",
      "~/PycharmProjects/prigovor_parser/cases/Уголовное_дело_1-3_2018_(1-4_2017;_1-137_2016;)_2018-08-24T01:00:00.csv\n",
      "~/PycharmProjects/prigovor_parser/cases/Уголовное_дело_1-56_2018_2018-03-13T01:00:00.csv\n",
      "~/PycharmProjects/prigovor_parser/cases/Уголовное_дело_1-936_2018_2018-11-22T01:00:00.csv\n",
      "~/PycharmProjects/prigovor_parser/cases/Уголовное_дело_1-49_2018_2018-10-16T01:00:00.csv\n",
      "~/PycharmProjects/prigovor_parser/cases/Уголовное_дело_1-400_2018_2018-11-02T01:00:00.csv\n",
      "~/PycharmProjects/prigovor_parser/cases/Уголовное_дело_1-665_2018_2018-10-12T01:00:00.csv\n",
      "~/PycharmProjects/prigovor_parser/cases/Уголовное_дело_1-85_2018_2018-11-06T01:00:00.csv\n",
      "~/PycharmProjects/prigovor_parser/cases/Уголовное_дело_1-20_2018_(1-481_2017;)_2018-03-02T01:00:00.csv\n",
      "~/PycharmProjects/prigovor_parser/cases/Уголовное_дело_1-189_2018_2018-05-21T01:00:00.csv\n",
      "~/PycharmProjects/prigovor_parser/cases/Уголовное_дело_1-31_2018_(1-548_2017;)_2018-01-12T01:00:00.csv\n",
      "~/PycharmProjects/prigovor_parser/cases/Уголовное_дело_1-116_2018_2018-07-11T01:00:00.csv\n",
      "~/PycharmProjects/prigovor_parser/cases/Уголовное_дело_1-96_2018_2018-08-17T01:00:00.csv\n",
      "~/PycharmProjects/prigovor_parser/cases/Уголовное_дело_1-81_2018_2018-09-19T01:00:00.csv\n",
      "~/PycharmProjects/prigovor_parser/cases/Уголовное_дело_1-46_2018_2018-06-26T01:00:00.csv\n",
      "~/PycharmProjects/prigovor_parser/cases/Уголовное_дело_1-135_2018_2018-05-07T01:00:00.csv\n",
      "~/PycharmProjects/prigovor_parser/cases/Уголовное_дело_1-201_2018_2018-10-09T01:00:00.csv\n",
      "~/PycharmProjects/prigovor_parser/cases/Уголовное_дело_1-166_2018_2018-09-11T01:00:00.csv\n",
      "~/PycharmProjects/prigovor_parser/cases/Уголовное_дело_1-36_2018_2018-04-12T01:00:00.csv\n",
      "~/PycharmProjects/prigovor_parser/cases/Уголовное_дело_1-39_2018_2018-07-31T01:00:00.csv\n",
      "~/PycharmProjects/prigovor_parser/cases/Уголовное_дело_1-105_2018_2018-08-30T01:00:00.csv\n",
      "~/PycharmProjects/prigovor_parser/cases/Уголовное_дело_1-79_2018_2018-04-02T01:00:00.csv\n",
      "~/PycharmProjects/prigovor_parser/cases/Уголовное_дело_1-753_2018_2018-08-14T01:00:00.csv\n",
      "~/PycharmProjects/prigovor_parser/cases/Уголовное_дело_1-103_2018_(1-1114_2017;)_2018-02-20T01:00:00.csv\n",
      "~/PycharmProjects/prigovor_parser/cases/Уголовное_дело_1-393_2018_2018-10-05T01:00:00.csv\n",
      "~/PycharmProjects/prigovor_parser/cases/Уголовное_дело_1-13_2018_(1-30_2017;_1-299_2016;)_2018-04-11T01:00:00.csv\n",
      "~/PycharmProjects/prigovor_parser/cases/Уголовное_дело_1-163_2018_2018-12-06T01:00:00.csv\n",
      "~/PycharmProjects/prigovor_parser/cases/Уголовное_дело_1-568_2018_2018-07-17T01:00:00.csv\n",
      "~/PycharmProjects/prigovor_parser/cases/Уголовное_дело_1-656_2018_2018-09-14T01:00:00.csv\n",
      "~/PycharmProjects/prigovor_parser/cases/Уголовное_дело_1-72_2018_2018-02-28T01:00:00.csv\n",
      "~/PycharmProjects/prigovor_parser/cases/Уголовное_дело_1-107_2018_2018-11-01T01:00:00.csv\n",
      "~/PycharmProjects/prigovor_parser/cases/Уголовное_дело_1-612_2018_2018-11-07T01:00:00.csv\n",
      "~/PycharmProjects/prigovor_parser/cases/Уголовное_дело_1-687_2018_2018-12-18T01:00:00.csv\n",
      "~/PycharmProjects/prigovor_parser/cases/Уголовное_дело_1-154_2018_2018-12-26T01:00:00.csv\n",
      "~/PycharmProjects/prigovor_parser/cases/Уголовное_дело_1-120_2018_(1-832_2017;)_2018-05-29T01:00:00.csv\n",
      "~/PycharmProjects/prigovor_parser/cases/Уголовное_дело_1-181_2018_2018-10-29T01:00:00.csv\n",
      "~/PycharmProjects/prigovor_parser/cases/Уголовное_дело_1-115_2018_2018-12-25T01:00:00.csv\n",
      "~/PycharmProjects/prigovor_parser/cases/Уголовное_дело_1-74_2018_2018-04-10T01:00:00.csv\n",
      "~/PycharmProjects/prigovor_parser/cases/Уголовное_дело_1-109_2018_2018-10-19T01:00:00.csv\n",
      "~/PycharmProjects/prigovor_parser/cases/Уголовное_дело_1-239_2018_2018-11-30T01:00:00.csv\n",
      "~/PycharmProjects/prigovor_parser/cases/Уголовное_дело_1-1_2018_(1-67_2017;)_2018-03-28T01:00:00.csv\n",
      "~/PycharmProjects/prigovor_parser/cases/Уголовное_дело_1-27_2018_2018-05-28T01:00:00.csv\n",
      "~/PycharmProjects/prigovor_parser/cases/Уголовное_дело_1-354_2018_(1-1118_2017;)_2018-05-04T01:00:00.csv\n",
      "~/PycharmProjects/prigovor_parser/cases/Уголовное_дело_1-24_2018_2018-10-18T01:00:00.csv\n"
     ]
    }
   ],
   "source": [
    "import traceback\n",
    "import requests\n",
    "import pandas as pd\n",
    "\n",
    "for uid, url in zip(p.current_page_case_ids, p.current_page_case_urls):\n",
    "    data = {\"request\":{\"id\": uid}}\n",
    "    try:\n",
    "        resp = requests.post(\"https://bsr.sudrf.ru/bigs/showDocument.action\",\n",
    "                                 json=data,\n",
    "                                 headers={\"Content-Type\": \"application/json\"})\n",
    "        fields = resp.json()['document'][\"fields\"]\n",
    "        df = pd.DataFrame(fields)\n",
    "        df[\"case_url\"] = url\n",
    "        case_title = df[df[\"comment\"]==\"Название\"][\"value\"].values[0]\n",
    "        try:\n",
    "            datetime_str = df[df[\"comment\"]==\"Дата решения\"][\"dateValue\"].values[0]\n",
    "        except IndexError:\n",
    "            datetime_str = \"no_datetime\"\n",
    "        fname = fname = \"\" + case_title + \" \" + datetime_str + \".csv\"\n",
    "        fname = fname.replace(\" \", \"_\").replace(\"/\", \"_\")\n",
    "        fpath = \"~/PycharmProjects/prigovor_parser/cases/\" + fname\n",
    "        print(fpath)\n",
    "        df.to_csv(fpath, index=None, header=True)\n",
    "    except BaseException as e:\n",
    "        print(traceback.format_exc())"
   ]
  },
  {
   "cell_type": "code",
   "execution_count": 142,
   "metadata": {},
   "outputs": [],
   "source": [
    "import pandas as pd\n",
    "\n",
    "pd.set_option('display.max_rows', 500)\n",
    "df = pd.DataFrame(case_fields).dropna(axis='columns', how=\"all\").drop(columns=[\"linkField\", \"linkName\", \"linkValue\", \"markup\", \"highlighting\"])"
   ]
  },
  {
   "cell_type": "code",
   "execution_count": null,
   "metadata": {},
   "outputs": [],
   "source": [
    "df"
   ]
  },
  {
   "cell_type": "code",
   "execution_count": null,
   "metadata": {},
   "outputs": [],
   "source": []
  }
 ],
 "metadata": {
  "kernelspec": {
   "display_name": "Python 3",
   "language": "python",
   "name": "python3"
  },
  "language_info": {
   "codemirror_mode": {
    "name": "ipython",
    "version": 3
   },
   "file_extension": ".py",
   "mimetype": "text/x-python",
   "name": "python",
   "nbconvert_exporter": "python",
   "pygments_lexer": "ipython3",
   "version": "3.6.0"
  }
 },
 "nbformat": 4,
 "nbformat_minor": 2
}
