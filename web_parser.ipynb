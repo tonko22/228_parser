{
 "cells": [
  {
   "cell_type": "code",
   "execution_count": 9,
   "metadata": {},
   "outputs": [
    {
     "name": "stdout",
     "output_type": "stream",
     "text": [
      "The autoreload extension is already loaded. To reload it, use:\n",
      "  %reload_ext autoreload\n"
     ]
    }
   ],
   "source": [
    "%load_ext autoreload\n",
    "%reload_ext autoreload\n",
    "%autoreload 2"
   ]
  },
  {
   "cell_type": "code",
   "execution_count": 3,
   "metadata": {},
   "outputs": [],
   "source": [
    "case_urls = {\n",
    "    \"contraband\": \"https://bsr.sudrf.ru/bigs/portal.html#%7B%22start%22:0,%22rows%22:1000,%22uid%22:%22d7c55781-7685-44b9-9149-115cd9df3d01%22,%22type%22:%22MULTIQUERY%22,%22multiqueryRequest%22:%7B%22queryRequests%22:%5B%7B%22type%22:%22Q%22,%22request%22:%22%7B%5C%22mode%5C%22:%5C%22EXTENDED%5C%22,%5C%22typeRequests%5C%22:%5B%7B%5C%22fieldRequests%5C%22:%5B%7B%5C%22name%5C%22:%5C%22case_document_result_date%5C%22,%5C%22operator%5C%22:%5C%22B%5C%22,%5C%22query%5C%22:%5C%222018-01-01T00:00:00%5C%22,%5C%22sQuery%5C%22:%5C%222018-12-31T00:00:00%5C%22%7D,%7B%5C%22name%5C%22:%5C%22case_document_category_article_cat%5C%22,%5C%22operator%5C%22:%5C%22SEW%5C%22,%5C%22query%5C%22:%5C%22%D0%A1%D1%82%D0%B0%D1%82%D1%8C%D1%8F%20229.1%20%D0%A7%D0%B0%D1%81%D1%82%D1%8C%203%5C%22%7D%5D,%5C%22mode%5C%22:%5C%22AND%5C%22,%5C%22name%5C%22:%5C%22common%5C%22,%5C%22typesMode%5C%22:%5C%22AND%5C%22%7D%5D%7D%22,%22operator%22:%22AND%22,%22queryRequestRole%22:%22CATEGORIES%22%7D%5D%7D,%22sorts%22:%5B%7B%22field%22:%22score%22,%22order%22:%22desc%22%7D%5D,%22simpleSearchFieldsBundle%22:%22default%22,%22filterGroups%22:%5B%7B%22filterQueries%22:%5B%7B%22field%22:%22case_court_type%22,%22query%22:%22%D0%A0%D0%B0%D0%B9%D0%BE%D0%BD%D0%BD%D1%8B%D0%B9,%20%D0%B3%D0%BE%D1%80%D0%BE%D0%B4%D1%81%D0%BA%D0%BE%D0%B9,%20%D0%BC%D0%B5%D0%B6%D1%80%D0%B0%D0%B9%D0%BE%D0%BD%D0%BD%D1%8B%D0%B9%20%D1%81%D1%83%D0%B4%22,%22not%22:false%7D%5D,%22groupMode%22:%22OR%22,%22not%22:false%7D%5D,%22facet%22:%7B%22field%22:%5B%22type%22%5D%7D,%22facetLimit%22:21,%22additionalFields%22:%5B%22court_document_documentype1%22,%22court_case_entry_date%22,%22court_case_result_date%22,%22court_subject_rf%22,%22court_name_court%22,%22court_document_law_article%22,%22court_case_result%22,%22case_user_document_type%22,%22case_user_doc_entry_date%22,%22case_user_doc_result_date%22,%22case_doc_subject_rf%22,%22case_user_doc_court%22,%22case_document_category_article%22,%22case_user_doc_result%22,%22case_user_entry_date%22,%22m_case_user_type%22,%22m_case_user_sub_type%22,%22ora_main_law_article%22%5D,%22hlFragSize%22:1000,%22groupLimit%22:3,%22woBoost%22:false%7D\",\n",
    "    \"propaganda\": \"https://bsr.sudrf.ru/bigs/portal.html#%7B%22filter%22:null,%22filterGroups%22:null,%22customFilterGroups%22:null,%22groups%22:%5B%22%D0%94%D0%B5%D0%BB%D0%B0%20%D0%BE%D0%B1%20%D0%90%D0%9F%22%5D,%22dateFrom%22:null,%22dateTo%22:null,%22sortOrder%22:null,%22sortField%22:null,%22groupField%22:null,%22joinFrom%22:null,%22joinTo%22:null,%22type%22:%22MULTIQUERY%22,%22multiqueryRequest%22:%7B%22queryRequests%22:%5B%7B%22type%22:%22Q%22,%22request%22:%22%7B%5C%22mode%5C%22:%5C%22EXTENDED%5C%22,%5C%22typeRequests%5C%22:%5B%7B%5C%22fieldRequests%5C%22:%5B%7B%5C%22name%5C%22:%5C%22case_user_doc_entry_date%5C%22,%5C%22operator%5C%22:%5C%22B%5C%22,%5C%22query%5C%22:%5C%222015-01-01T00:00:00%5C%22,%5C%22sQuery%5C%22:%5C%222019-10-30T00:00:00%5C%22%7D,%7B%5C%22name%5C%22:%5C%22case_doc_instance%5C%22,%5C%22operator%5C%22:%5C%22EX%5C%22,%5C%22query%5C%22:%5C%22%D0%9F%D0%B5%D1%80%D0%B2%D0%B0%D1%8F%20%D0%B8%D0%BD%D1%81%D1%82%D0%B0%D0%BD%D1%86%D0%B8%D1%8F%5C%22,%5C%22sQuery%5C%22:null%7D,%7B%5C%22name%5C%22:%5C%22case_common_parts_law_article%5C%22,%5C%22operator%5C%22:%5C%22EX%5C%22,%5C%22query%5C%22:%5C%22%D1%81%D1%82.%206.13%5C%22,%5C%22sQuery%5C%22:null%7D,%7B%5C%22name%5C%22:%5C%22case_common_parts_law_article%5C%22,%5C%22operator%5C%22:%5C%22EX%5C%22,%5C%22query%5C%22:%5C%22%D1%81%D1%82.%206.13%20%D1%87.1%5C%22,%5C%22sQuery%5C%22:null%7D,%7B%5C%22name%5C%22:%5C%22case_common_parts_law_article%5C%22,%5C%22operator%5C%22:%5C%22EX%5C%22,%5C%22query%5C%22:%5C%22%D1%81%D1%82.%206.13%20%D1%87.2%5C%22,%5C%22sQuery%5C%22:null%7D%5D,%5C%22mode%5C%22:%5C%22AND%5C%22,%5C%22name%5C%22:%5C%22common%5C%22,%5C%22typesMode%5C%22:%5C%22AND%5C%22%7D%5D%7D%22,%22operator%22:%22AND%22,%22queryRequestRole%22:%22CATEGORIES%22%7D,%7B%22type%22:%22Q%22,%22request%22:%22%7B%5C%22mode%5C%22:%5C%22EXTENDED%5C%22,%5C%22typeRequests%5C%22:%5B%7B%5C%22name%5C%22:%5C%22common%5C%22,%5C%22mode%5C%22:%5C%22AND%5C%22,%5C%22typesMode%5C%22:%5C%22AND%5C%22,%5C%22fieldRequests%5C%22:%5B%7B%5C%22name%5C%22:%5C%22case_user_document_num%5C%22,%5C%22operator%5C%22:%5C%22GE%5C%22,%5C%22query%5C%22:%5C%221%5C%22%7D%5D%7D%5D%7D%22,%22operator%22:%22AND%22,%22queryRequestRole%22:%22FACET_QUERY%23%23%23case_user_document_num%23%23%23%D0%94%D0%B0%22%7D,%7B%22type%22:%22SQ%22,%22queryId%22:%221f074cdd-f56a-4089-b901-df7a05b3a5c8%22,%22operator%22:%22AND%22%7D%5D%7D,%22sorts%22:%5B%7B%22field%22:%22score%22,%22order%22:%22desc%22%7D%5D,%22simpleSearchFieldsBundle%22:%22test23%22,%22noOrpho%22:false%7D\"\n",
    "}"
   ]
  },
  {
   "cell_type": "code",
   "execution_count": 6,
   "metadata": {},
   "outputs": [
    {
     "ename": "WebDriverException",
     "evalue": "Message: 'chromedriver' executable needs to be in PATH. Please see https://sites.google.com/a/chromium.org/chromedriver/home\n",
     "output_type": "error",
     "traceback": [
      "\u001b[0;31m---------------------------------------------------------------------------\u001b[0m",
      "\u001b[0;31mFileNotFoundError\u001b[0m                         Traceback (most recent call last)",
      "\u001b[0;32m~/.virtualenvs/jup_env/lib/python3.6/site-packages/selenium/webdriver/common/service.py\u001b[0m in \u001b[0;36mstart\u001b[0;34m(self)\u001b[0m\n\u001b[1;32m     75\u001b[0m                                             \u001b[0mstderr\u001b[0m\u001b[0;34m=\u001b[0m\u001b[0mself\u001b[0m\u001b[0;34m.\u001b[0m\u001b[0mlog_file\u001b[0m\u001b[0;34m,\u001b[0m\u001b[0;34m\u001b[0m\u001b[0m\n\u001b[0;32m---> 76\u001b[0;31m                                             stdin=PIPE)\n\u001b[0m\u001b[1;32m     77\u001b[0m         \u001b[0;32mexcept\u001b[0m \u001b[0mTypeError\u001b[0m\u001b[0;34m:\u001b[0m\u001b[0;34m\u001b[0m\u001b[0m\n",
      "\u001b[0;32m/usr/local/lib/python3.6/subprocess.py\u001b[0m in \u001b[0;36m__init__\u001b[0;34m(self, args, bufsize, executable, stdin, stdout, stderr, preexec_fn, close_fds, shell, cwd, env, universal_newlines, startupinfo, creationflags, restore_signals, start_new_session, pass_fds, encoding, errors)\u001b[0m\n\u001b[1;32m    706\u001b[0m                                 \u001b[0merrread\u001b[0m\u001b[0;34m,\u001b[0m \u001b[0merrwrite\u001b[0m\u001b[0;34m,\u001b[0m\u001b[0;34m\u001b[0m\u001b[0m\n\u001b[0;32m--> 707\u001b[0;31m                                 restore_signals, start_new_session)\n\u001b[0m\u001b[1;32m    708\u001b[0m         \u001b[0;32mexcept\u001b[0m\u001b[0;34m:\u001b[0m\u001b[0;34m\u001b[0m\u001b[0m\n",
      "\u001b[0;32m/usr/local/lib/python3.6/subprocess.py\u001b[0m in \u001b[0;36m_execute_child\u001b[0;34m(self, args, executable, preexec_fn, close_fds, pass_fds, cwd, env, startupinfo, creationflags, shell, p2cread, p2cwrite, c2pread, c2pwrite, errread, errwrite, restore_signals, start_new_session)\u001b[0m\n\u001b[1;32m   1325\u001b[0m                                 \u001b[0merr_msg\u001b[0m \u001b[0;34m+=\u001b[0m \u001b[0;34m': '\u001b[0m \u001b[0;34m+\u001b[0m \u001b[0mrepr\u001b[0m\u001b[0;34m(\u001b[0m\u001b[0morig_executable\u001b[0m\u001b[0;34m)\u001b[0m\u001b[0;34m\u001b[0m\u001b[0m\n\u001b[0;32m-> 1326\u001b[0;31m                     \u001b[0;32mraise\u001b[0m \u001b[0mchild_exception_type\u001b[0m\u001b[0;34m(\u001b[0m\u001b[0merrno_num\u001b[0m\u001b[0;34m,\u001b[0m \u001b[0merr_msg\u001b[0m\u001b[0;34m)\u001b[0m\u001b[0;34m\u001b[0m\u001b[0m\n\u001b[0m\u001b[1;32m   1327\u001b[0m                 \u001b[0;32mraise\u001b[0m \u001b[0mchild_exception_type\u001b[0m\u001b[0;34m(\u001b[0m\u001b[0merr_msg\u001b[0m\u001b[0;34m)\u001b[0m\u001b[0;34m\u001b[0m\u001b[0m\n",
      "\u001b[0;31mFileNotFoundError\u001b[0m: [Errno 2] No such file or directory: 'chromedriver'",
      "\nDuring handling of the above exception, another exception occurred:\n",
      "\u001b[0;31mWebDriverException\u001b[0m                        Traceback (most recent call last)",
      "\u001b[0;32m<ipython-input-6-b19ea3d04378>\u001b[0m in \u001b[0;36m<module>\u001b[0;34m\u001b[0m\n\u001b[1;32m      1\u001b[0m \u001b[0;32mfrom\u001b[0m \u001b[0mweb_parser\u001b[0m \u001b[0;32mimport\u001b[0m \u001b[0mPage\u001b[0m\u001b[0;34m\u001b[0m\u001b[0m\n\u001b[1;32m      2\u001b[0m \u001b[0;34m\u001b[0m\u001b[0m\n\u001b[0;32m----> 3\u001b[0;31m \u001b[0mp\u001b[0m \u001b[0;34m=\u001b[0m \u001b[0mPage\u001b[0m\u001b[0;34m(\u001b[0m\u001b[0mcase_urls\u001b[0m\u001b[0;34m[\u001b[0m\u001b[0;34m\"propaganda\"\u001b[0m\u001b[0;34m]\u001b[0m\u001b[0;34m)\u001b[0m\u001b[0;34m\u001b[0m\u001b[0m\n\u001b[0m",
      "\u001b[0;32m~/PycharmProjects/prigovor_parser/web_parser.py\u001b[0m in \u001b[0;36m__init__\u001b[0;34m(self, url, pattern_key)\u001b[0m\n\u001b[1;32m     26\u001b[0m         \u001b[0mself\u001b[0m\u001b[0;34m.\u001b[0m\u001b[0moptions\u001b[0m \u001b[0;34m=\u001b[0m \u001b[0mse\u001b[0m\u001b[0;34m.\u001b[0m\u001b[0mwebdriver\u001b[0m\u001b[0;34m.\u001b[0m\u001b[0mChromeOptions\u001b[0m\u001b[0;34m(\u001b[0m\u001b[0;34m)\u001b[0m\u001b[0;34m\u001b[0m\u001b[0m\n\u001b[1;32m     27\u001b[0m         \u001b[0mself\u001b[0m\u001b[0;34m.\u001b[0m\u001b[0moptions\u001b[0m\u001b[0;34m.\u001b[0m\u001b[0madd_argument\u001b[0m\u001b[0;34m(\u001b[0m\u001b[0;34m'headless'\u001b[0m\u001b[0;34m)\u001b[0m\u001b[0;34m\u001b[0m\u001b[0m\n\u001b[0;32m---> 28\u001b[0;31m         \u001b[0mself\u001b[0m\u001b[0;34m.\u001b[0m\u001b[0mdriver\u001b[0m \u001b[0;34m=\u001b[0m \u001b[0mse\u001b[0m\u001b[0;34m.\u001b[0m\u001b[0mwebdriver\u001b[0m\u001b[0;34m.\u001b[0m\u001b[0mChrome\u001b[0m\u001b[0;34m(\u001b[0m\u001b[0moptions\u001b[0m\u001b[0;34m=\u001b[0m\u001b[0mself\u001b[0m\u001b[0;34m.\u001b[0m\u001b[0moptions\u001b[0m\u001b[0;34m)\u001b[0m\u001b[0;34m\u001b[0m\u001b[0m\n\u001b[0m\u001b[1;32m     29\u001b[0m         \u001b[0mself\u001b[0m\u001b[0;34m.\u001b[0m\u001b[0mdriver\u001b[0m\u001b[0;34m.\u001b[0m\u001b[0mimplicitly_wait\u001b[0m\u001b[0;34m(\u001b[0m\u001b[0;36m30\u001b[0m\u001b[0;34m)\u001b[0m \u001b[0;31m# timeout for slow JS requests\u001b[0m\u001b[0;34m\u001b[0m\u001b[0m\n\u001b[1;32m     30\u001b[0m         \u001b[0mself\u001b[0m\u001b[0;34m.\u001b[0m\u001b[0mdriver\u001b[0m\u001b[0;34m.\u001b[0m\u001b[0mget\u001b[0m\u001b[0;34m(\u001b[0m\u001b[0mself\u001b[0m\u001b[0;34m.\u001b[0m\u001b[0murl\u001b[0m\u001b[0;34m)\u001b[0m\u001b[0;34m\u001b[0m\u001b[0m\n",
      "\u001b[0;32m~/.virtualenvs/jup_env/lib/python3.6/site-packages/selenium/webdriver/chrome/webdriver.py\u001b[0m in \u001b[0;36m__init__\u001b[0;34m(self, executable_path, port, options, service_args, desired_capabilities, service_log_path, chrome_options, keep_alive)\u001b[0m\n\u001b[1;32m     71\u001b[0m             \u001b[0mservice_args\u001b[0m\u001b[0;34m=\u001b[0m\u001b[0mservice_args\u001b[0m\u001b[0;34m,\u001b[0m\u001b[0;34m\u001b[0m\u001b[0m\n\u001b[1;32m     72\u001b[0m             log_path=service_log_path)\n\u001b[0;32m---> 73\u001b[0;31m         \u001b[0mself\u001b[0m\u001b[0;34m.\u001b[0m\u001b[0mservice\u001b[0m\u001b[0;34m.\u001b[0m\u001b[0mstart\u001b[0m\u001b[0;34m(\u001b[0m\u001b[0;34m)\u001b[0m\u001b[0;34m\u001b[0m\u001b[0m\n\u001b[0m\u001b[1;32m     74\u001b[0m \u001b[0;34m\u001b[0m\u001b[0m\n\u001b[1;32m     75\u001b[0m         \u001b[0;32mtry\u001b[0m\u001b[0;34m:\u001b[0m\u001b[0;34m\u001b[0m\u001b[0m\n",
      "\u001b[0;32m~/.virtualenvs/jup_env/lib/python3.6/site-packages/selenium/webdriver/common/service.py\u001b[0m in \u001b[0;36mstart\u001b[0;34m(self)\u001b[0m\n\u001b[1;32m     81\u001b[0m                 raise WebDriverException(\n\u001b[1;32m     82\u001b[0m                     \"'%s' executable needs to be in PATH. %s\" % (\n\u001b[0;32m---> 83\u001b[0;31m                         os.path.basename(self.path), self.start_error_message)\n\u001b[0m\u001b[1;32m     84\u001b[0m                 )\n\u001b[1;32m     85\u001b[0m             \u001b[0;32melif\u001b[0m \u001b[0merr\u001b[0m\u001b[0;34m.\u001b[0m\u001b[0merrno\u001b[0m \u001b[0;34m==\u001b[0m \u001b[0merrno\u001b[0m\u001b[0;34m.\u001b[0m\u001b[0mEACCES\u001b[0m\u001b[0;34m:\u001b[0m\u001b[0;34m\u001b[0m\u001b[0m\n",
      "\u001b[0;31mWebDriverException\u001b[0m: Message: 'chromedriver' executable needs to be in PATH. Please see https://sites.google.com/a/chromium.org/chromedriver/home\n"
     ]
    }
   ],
   "source": [
    "from web_parser import Page\n",
    "\n",
    "p = Page(case_urls[\"propaganda\"])"
   ]
  },
  {
   "cell_type": "code",
   "execution_count": 5,
   "metadata": {},
   "outputs": [
    {
     "name": "stdout",
     "output_type": "stream",
     "text": [
      "Collecting selenium\n",
      "\u001b[?25l  Downloading https://files.pythonhosted.org/packages/80/d6/4294f0b4bce4de0abf13e17190289f9d0613b0a44e5dd6a7f5ca98459853/selenium-3.141.0-py2.py3-none-any.whl (904kB)\n",
      "\u001b[K    100% |████████████████████████████████| 911kB 9.7MB/s \n",
      "\u001b[?25hRequirement already satisfied: urllib3 in /home/ubuntu/.virtualenvs/jup_env/lib/python3.6/site-packages (from selenium) (1.24)\n",
      "Installing collected packages: selenium\n",
      "Successfully installed selenium-3.141.0\n",
      "\u001b[33mYou are using pip version 18.1, however version 19.3.1 is available.\n",
      "You should consider upgrading via the 'pip install --upgrade pip' command.\u001b[0m\n"
     ]
    }
   ],
   "source": [
    "!pip install selenium"
   ]
  },
  {
   "cell_type": "code",
   "execution_count": 13,
   "metadata": {},
   "outputs": [
    {
     "data": {
      "text/plain": [
       "'https://bsr.sudrf.ru/bigs/showDocument.html#id=0d9bd36643ac3b90550ac542d06543dc&shard=%D0%92%D1%81%D0%B5%20%D0%B4%D0%B5%D0%BB%D0%B0%20(%D0%BD%D0%BE%D0%B2%D0%BE%D0%B5)&from=p&r={%22start%22:0,%22rows%22:1000,%22uid%22:%22d7c55781-7685-44b9-9149-115cd9df3d01%22,%22type%22:%22MULTIQUERY%22,%22multiqueryRequest%22:{%22queryRequests%22:[{%22type%22:%22Q%22,%22request%22:%22{\\\\%22mode\\\\%22:\\\\%22EXTENDED\\\\%22,\\\\%22typeRequests\\\\%22:[{\\\\%22fieldRequests\\\\%22:[{\\\\%22name\\\\%22:\\\\%22case_document_result_date\\\\%22,\\\\%22operator\\\\%22:\\\\%22B\\\\%22,\\\\%22query\\\\%22:\\\\%222018-01-01T00:00:00\\\\%22,\\\\%22sQuery\\\\%22:\\\\%222018-12-31T00:00:00\\\\%22},{\\\\%22name\\\\%22:\\\\%22case_document_category_article_cat\\\\%22,\\\\%22operator\\\\%22:\\\\%22SEW\\\\%22,\\\\%22query\\\\%22:\\\\%22%D0%A1%D1%82%D0%B0%D1%82%D1%8C%D1%8F%20229.1%20%D0%A7%D0%B0%D1%81%D1%82%D1%8C%203\\\\%22}],\\\\%22mode\\\\%22:\\\\%22AND\\\\%22,\\\\%22name\\\\%22:\\\\%22common\\\\%22,\\\\%22typesMode\\\\%22:\\\\%22AND\\\\%22}]}%22,%22operator%22:%22AND%22,%22queryRequestRole%22:%22CATEGORIES%22}]},%22sorts%22:[{%22field%22:%22score%22,%22order%22:%22desc%22}],%22simpleSearchFieldsBundle%22:%22default%22,%22filterGroups%22:[{%22filterQueries%22:[{%22field%22:%22case_court_type%22,%22query%22:%22%D0%A0%D0%B0%D0%B9%D0%BE%D0%BD%D0%BD%D1%8B%D0%B9,%20%D0%B3%D0%BE%D1%80%D0%BE%D0%B4%D1%81%D0%BA%D0%BE%D0%B9,%20%D0%BC%D0%B5%D0%B6%D1%80%D0%B0%D0%B9%D0%BE%D0%BD%D0%BD%D1%8B%D0%B9%20%D1%81%D1%83%D0%B4%22,%22not%22:false}],%22groupMode%22:%22OR%22,%22not%22:false}],%22facet%22:{%22field%22:[%22type%22]},%22facetLimit%22:21,%22additionalFields%22:[%22court_document_documentype1%22,%22court_case_entry_date%22,%22court_case_result_date%22,%22court_subject_rf%22,%22court_name_court%22,%22court_document_law_article%22,%22court_case_result%22,%22case_user_document_type%22,%22case_user_doc_entry_date%22,%22case_user_doc_result_date%22,%22case_doc_subject_rf%22,%22case_user_doc_court%22,%22case_document_category_article%22,%22case_user_doc_result%22,%22case_user_entry_date%22,%22m_case_user_type%22,%22m_case_user_sub_type%22,%22ora_main_law_article%22],%22hlFragSize%22:1000,%22groupLimit%22:3,%22woBoost%22:false}'"
      ]
     },
     "execution_count": 13,
     "metadata": {},
     "output_type": "execute_result"
    }
   ],
   "source": [
    "p.current_page_case_urls[0]"
   ]
  },
  {
   "cell_type": "code",
   "execution_count": 11,
   "metadata": {},
   "outputs": [
    {
     "data": {
      "text/plain": [
       "71"
      ]
     },
     "execution_count": 11,
     "metadata": {},
     "output_type": "execute_result"
    }
   ],
   "source": [
    "len(p.current_page_case_ids)"
   ]
  },
  {
   "cell_type": "code",
   "execution_count": 14,
   "metadata": {},
   "outputs": [
    {
     "name": "stdout",
     "output_type": "stream",
     "text": [
      "~/PycharmProjects/prigovor_parser/cases/Уголовное_дело_1-53_2018_2018-03-26T04:00:00.csv\n",
      "~/PycharmProjects/prigovor_parser/cases/Уголовное_дело_1-17_2018_2018-02-26T04:00:00.csv\n",
      "~/PycharmProjects/prigovor_parser/cases/Уголовное_дело_1-37_2018_2018-05-08T04:00:00.csv\n",
      "~/PycharmProjects/prigovor_parser/cases/Уголовное_дело_1-51_2018_2018-04-12T04:00:00.csv\n",
      "~/PycharmProjects/prigovor_parser/cases/Уголовное_дело_1-14_2018_(1-139_2017;)_no_datetime.csv\n",
      "~/PycharmProjects/prigovor_parser/cases/Уголовное_дело_1-19_2018_(1-146_2017;)_2018-02-07T01:00:00.csv\n",
      "~/PycharmProjects/prigovor_parser/cases/Уголовное_дело_1-30_2018_no_datetime.csv\n",
      "~/PycharmProjects/prigovor_parser/cases/Уголовное_дело_1-27_2018_2018-08-27T04:00:00.csv\n",
      "~/PycharmProjects/prigovor_parser/cases/Уголовное_дело_1-30_2018_(1-602_2017;)_2018-05-11T04:00:00.csv\n",
      "~/PycharmProjects/prigovor_parser/cases/Уголовное_дело_1-14_2018_2018-04-13T04:00:00.csv\n",
      "~/PycharmProjects/prigovor_parser/cases/Уголовное_дело_1-24_2018_2018-03-02T04:00:00.csv\n",
      "~/PycharmProjects/prigovor_parser/cases/Уголовное_дело_1-1_2018_(1-98_2017;)_2018-01-31T04:00:00.csv\n",
      "~/PycharmProjects/prigovor_parser/cases/Уголовное_дело_1-196_2018_2018-06-04T04:00:00.csv\n",
      "~/PycharmProjects/prigovor_parser/cases/Уголовное_дело_1-76_2018_2018-08-15T04:00:00.csv\n",
      "~/PycharmProjects/prigovor_parser/cases/Уголовное_дело_1-9_2018_(1-139_2017;)_2018-02-06T04:00:00.csv\n",
      "~/PycharmProjects/prigovor_parser/cases/Уголовное_дело_1-98_2018_no_datetime.csv\n",
      "~/PycharmProjects/prigovor_parser/cases/Уголовное_дело_1-596_2018_2018-09-20T01:00:00.csv\n",
      "~/PycharmProjects/prigovor_parser/cases/Уголовное_дело_1-136_2018_2018-03-26T01:00:00.csv\n",
      "~/PycharmProjects/prigovor_parser/cases/Уголовное_дело_1-137_2018_2018-03-27T01:00:00.csv\n",
      "~/PycharmProjects/prigovor_parser/cases/Уголовное_дело_1-99_2018_2018-07-05T01:00:00.csv\n",
      "~/PycharmProjects/prigovor_parser/cases/Уголовное_дело_1-691_2018_2018-09-03T01:00:00.csv\n",
      "~/PycharmProjects/prigovor_parser/cases/Уголовное_дело_1-256_2018_2018-07-19T01:00:00.csv\n",
      "~/PycharmProjects/prigovor_parser/cases/Уголовное_дело_1-82_2018_(1-562_2017;)_2018-08-29T01:00:00.csv\n",
      "~/PycharmProjects/prigovor_parser/cases/Уголовное_дело_1-71_2018_2018-08-24T01:00:00.csv\n",
      "~/PycharmProjects/prigovor_parser/cases/Уголовное_дело_1-22_2018_(1-494_2017;)_2018-04-06T01:00:00.csv\n",
      "~/PycharmProjects/prigovor_parser/cases/Уголовное_дело_1-38_2018_2018-05-29T01:00:00.csv\n",
      "~/PycharmProjects/prigovor_parser/cases/Уголовное_дело_1-124_2018_2018-06-26T01:00:00.csv\n",
      "~/PycharmProjects/prigovor_parser/cases/Уголовное_дело_1-37_2018_2018-03-28T01:00:00.csv\n",
      "~/PycharmProjects/prigovor_parser/cases/Уголовное_дело_1-3_2018_(1-4_2017;_1-137_2016;)_2018-08-24T01:00:00.csv\n",
      "~/PycharmProjects/prigovor_parser/cases/Уголовное_дело_1-56_2018_2018-03-13T01:00:00.csv\n",
      "~/PycharmProjects/prigovor_parser/cases/Уголовное_дело_1-936_2018_2018-11-22T01:00:00.csv\n",
      "~/PycharmProjects/prigovor_parser/cases/Уголовное_дело_1-49_2018_2018-10-16T01:00:00.csv\n",
      "~/PycharmProjects/prigovor_parser/cases/Уголовное_дело_1-400_2018_2018-11-02T01:00:00.csv\n",
      "~/PycharmProjects/prigovor_parser/cases/Уголовное_дело_1-665_2018_2018-10-12T01:00:00.csv\n",
      "~/PycharmProjects/prigovor_parser/cases/Уголовное_дело_1-85_2018_2018-11-06T01:00:00.csv\n",
      "~/PycharmProjects/prigovor_parser/cases/Уголовное_дело_1-20_2018_(1-481_2017;)_2018-03-02T01:00:00.csv\n",
      "~/PycharmProjects/prigovor_parser/cases/Уголовное_дело_1-189_2018_2018-05-21T01:00:00.csv\n",
      "~/PycharmProjects/prigovor_parser/cases/Уголовное_дело_1-31_2018_(1-548_2017;)_2018-01-12T01:00:00.csv\n",
      "~/PycharmProjects/prigovor_parser/cases/Уголовное_дело_1-116_2018_2018-07-11T01:00:00.csv\n",
      "~/PycharmProjects/prigovor_parser/cases/Уголовное_дело_1-96_2018_2018-08-17T01:00:00.csv\n",
      "~/PycharmProjects/prigovor_parser/cases/Уголовное_дело_1-81_2018_2018-09-19T01:00:00.csv\n",
      "~/PycharmProjects/prigovor_parser/cases/Уголовное_дело_1-46_2018_2018-06-26T01:00:00.csv\n",
      "~/PycharmProjects/prigovor_parser/cases/Уголовное_дело_1-135_2018_2018-05-07T01:00:00.csv\n",
      "~/PycharmProjects/prigovor_parser/cases/Уголовное_дело_1-201_2018_2018-10-09T01:00:00.csv\n",
      "~/PycharmProjects/prigovor_parser/cases/Уголовное_дело_1-166_2018_2018-09-11T01:00:00.csv\n",
      "~/PycharmProjects/prigovor_parser/cases/Уголовное_дело_1-36_2018_2018-04-12T01:00:00.csv\n",
      "~/PycharmProjects/prigovor_parser/cases/Уголовное_дело_1-39_2018_2018-07-31T01:00:00.csv\n",
      "~/PycharmProjects/prigovor_parser/cases/Уголовное_дело_1-105_2018_2018-08-30T01:00:00.csv\n",
      "~/PycharmProjects/prigovor_parser/cases/Уголовное_дело_1-79_2018_2018-04-02T01:00:00.csv\n",
      "~/PycharmProjects/prigovor_parser/cases/Уголовное_дело_1-753_2018_2018-08-14T01:00:00.csv\n",
      "~/PycharmProjects/prigovor_parser/cases/Уголовное_дело_1-103_2018_(1-1114_2017;)_2018-02-20T01:00:00.csv\n",
      "~/PycharmProjects/prigovor_parser/cases/Уголовное_дело_1-393_2018_2018-10-05T01:00:00.csv\n",
      "~/PycharmProjects/prigovor_parser/cases/Уголовное_дело_1-13_2018_(1-30_2017;_1-299_2016;)_2018-04-11T01:00:00.csv\n",
      "~/PycharmProjects/prigovor_parser/cases/Уголовное_дело_1-163_2018_2018-12-06T01:00:00.csv\n",
      "~/PycharmProjects/prigovor_parser/cases/Уголовное_дело_1-568_2018_2018-07-17T01:00:00.csv\n",
      "~/PycharmProjects/prigovor_parser/cases/Уголовное_дело_1-656_2018_2018-09-14T01:00:00.csv\n",
      "~/PycharmProjects/prigovor_parser/cases/Уголовное_дело_1-72_2018_2018-02-28T01:00:00.csv\n",
      "~/PycharmProjects/prigovor_parser/cases/Уголовное_дело_1-107_2018_2018-11-01T01:00:00.csv\n",
      "~/PycharmProjects/prigovor_parser/cases/Уголовное_дело_1-612_2018_2018-11-07T01:00:00.csv\n",
      "~/PycharmProjects/prigovor_parser/cases/Уголовное_дело_1-687_2018_2018-12-18T01:00:00.csv\n",
      "~/PycharmProjects/prigovor_parser/cases/Уголовное_дело_1-154_2018_2018-12-26T01:00:00.csv\n",
      "~/PycharmProjects/prigovor_parser/cases/Уголовное_дело_1-120_2018_(1-832_2017;)_2018-05-29T01:00:00.csv\n",
      "~/PycharmProjects/prigovor_parser/cases/Уголовное_дело_1-181_2018_2018-10-29T01:00:00.csv\n",
      "~/PycharmProjects/prigovor_parser/cases/Уголовное_дело_1-115_2018_2018-12-25T01:00:00.csv\n",
      "~/PycharmProjects/prigovor_parser/cases/Уголовное_дело_1-74_2018_2018-04-10T01:00:00.csv\n",
      "~/PycharmProjects/prigovor_parser/cases/Уголовное_дело_1-109_2018_2018-10-19T01:00:00.csv\n",
      "~/PycharmProjects/prigovor_parser/cases/Уголовное_дело_1-239_2018_2018-11-30T01:00:00.csv\n",
      "~/PycharmProjects/prigovor_parser/cases/Уголовное_дело_1-1_2018_(1-67_2017;)_2018-03-28T01:00:00.csv\n",
      "~/PycharmProjects/prigovor_parser/cases/Уголовное_дело_1-27_2018_2018-05-28T01:00:00.csv\n",
      "~/PycharmProjects/prigovor_parser/cases/Уголовное_дело_1-354_2018_(1-1118_2017;)_2018-05-04T01:00:00.csv\n",
      "~/PycharmProjects/prigovor_parser/cases/Уголовное_дело_1-24_2018_2018-10-18T01:00:00.csv\n"
     ]
    }
   ],
   "source": [
    "import traceback\n",
    "import requests\n",
    "import pandas as pd\n",
    "\n",
    "for uid, url in zip(p.current_page_case_ids, p.current_page_case_urls):\n",
    "    data = {\"request\":{\"id\": uid}}\n",
    "    try:\n",
    "        resp = requests.post(\"https://bsr.sudrf.ru/bigs/showDocument.action\",\n",
    "                                 json=data,\n",
    "                                 headers={\"Content-Type\": \"application/json\"})\n",
    "        fields = resp.json()['document'][\"fields\"]\n",
    "        df = pd.DataFrame(fields)\n",
    "        df[\"case_url\"] = url\n",
    "        case_title = df[df[\"comment\"]==\"Название\"][\"value\"].values[0]\n",
    "        try:\n",
    "            datetime_str = df[df[\"comment\"]==\"Дата решения\"][\"dateValue\"].values[0]\n",
    "        except IndexError:\n",
    "            datetime_str = \"no_datetime\"\n",
    "        fname = fname = \"\" + case_title + \" \" + datetime_str + \".csv\"\n",
    "        fname = fname.replace(\" \", \"_\").replace(\"/\", \"_\")\n",
    "        fpath = \"~/PycharmProjects/prigovor_parser/cases/\" + fname\n",
    "        print(fpath)\n",
    "        df.to_csv(fpath, index=None, header=True)\n",
    "    except BaseException as e:\n",
    "        print(traceback.format_exc())"
   ]
  },
  {
   "cell_type": "code",
   "execution_count": 142,
   "metadata": {},
   "outputs": [],
   "source": [
    "import pandas as pd\n",
    "\n",
    "pd.set_option('display.max_rows', 500)\n",
    "df = pd.DataFrame(case_fields).dropna(axis='columns', how=\"all\").drop(columns=[\"linkField\", \"linkName\", \"linkValue\", \"markup\", \"highlighting\"])"
   ]
  },
  {
   "cell_type": "code",
   "execution_count": null,
   "metadata": {},
   "outputs": [],
   "source": [
    "df"
   ]
  },
  {
   "cell_type": "code",
   "execution_count": null,
   "metadata": {},
   "outputs": [],
   "source": []
  }
 ],
 "metadata": {
  "kernelspec": {
   "display_name": "Python 3",
   "language": "python",
   "name": "python3"
  },
  "language_info": {
   "codemirror_mode": {
    "name": "ipython",
    "version": 3
   },
   "file_extension": ".py",
   "mimetype": "text/x-python",
   "name": "python",
   "nbconvert_exporter": "python",
   "pygments_lexer": "ipython3",
   "version": "3.6.0"
  }
 },
 "nbformat": 4,
 "nbformat_minor": 2
}
